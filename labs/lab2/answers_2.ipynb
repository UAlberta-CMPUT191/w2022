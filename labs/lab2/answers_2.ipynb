{
 "cells": [
  {
   "cell_type": "markdown",
   "metadata": {},
   "source": [
    "<span style=\"color:blue\">**Question 1.0.1**</span> In the next cell, assign the name `new_year` to the larger among the following two numbers:\n",
    "\n",
    "1. the **absolute value** of $2^{5}-2^{11}-2^1-3 $, and \n",
    "2. $5 \\times 13 \\times 31 + 7$.\n",
    "\n",
    "Try to use just one statement (one line of code). Be sure to check your work by executing the test cell afterward.\n",
    "\n",
    "```\n",
    "BEGIN QUESTION\n",
    "name: q11\n",
    "```"
   ]
  },
  {
   "cell_type": "code",
   "execution_count": 1,
   "metadata": {},
   "outputs": [
    {
     "data": {
      "text/plain": [
       "2022"
      ]
     },
     "execution_count": 1,
     "metadata": {},
     "output_type": "execute_result"
    }
   ],
   "source": [
    "new_year = max((2**5-2**11-2-3),5*13*31+7) # SOLUTION\n",
    "new_year"
   ]
  },
  {
   "cell_type": "markdown",
   "metadata": {},
   "source": [
    "<span style=\"color:blue\">**Question 2.0.1**</span> The module `math` also provides the name `e` for the base of the natural logarithm, which is roughly 2.71. Compute $e^{\\pi}-\\pi$, giving it the name `near_twenty`.\n",
    "\n",
    "*Remember: You can access `pi` from the `math` module as well!*\n",
    "\n",
    "```\n",
    "BEGIN QUESTION\n",
    "name: q21\n",
    "```"
   ]
  },
  {
   "cell_type": "code",
   "execution_count": 104,
   "metadata": {},
   "outputs": [
    {
     "data": {
      "text/plain": [
       "19.99909997918947"
      ]
     },
     "execution_count": 104,
     "metadata": {},
     "output_type": "execute_result"
    }
   ],
   "source": [
    "near_twenty = math.e ** math.pi - math.pi # SOLUTION\n",
    "near_twenty"
   ]
  },
  {
   "cell_type": "markdown",
   "metadata": {},
   "source": [
    "### 2.1. Accessing functions\n",
    "\n",
    "In the question above, you accessed variables within the `math` module. \n",
    "\n",
    "**Modules** also define **functions**.  For example, `math` provides the name `sin` for the sine function.  Having imported `math` already, we can write `math.sin(3)` to compute the sine of 3.  (Note that this sine function considers its argument to be in [radians](https://en.wikipedia.org/wiki/Radian), not degrees.  180 degrees are equivalent to $\\pi$ radians.)\n",
    "\n",
    "<span style=\"color:blue\">**Question 2.1.1.**</span> A $\\frac{\\pi}{4}$-radian (45-degree) angle forms a right triangle with equal base and height, pictured below.  If the hypotenuse (the radius of the circle in the picture) is 1, then the height is $\\sin(\\frac{\\pi}{4})$.  Compute that value using `sin` and `pi` from the `math` module.  Give the result the name `sine_of_pi_over_four`, in the next cell.\n",
    "\n",
    "<img src=\"http://mathworld.wolfram.com/images/eps-gif/TrigonometryAnglesPi4_1000.gif\">\n",
    "\n",
    "[Source](http://mathworld.wolfram.com/images/eps-gif/TrigonometryAnglesPi4_1000.gif)\n",
    "\n",
    "```\n",
    "BEGIN QUESTION\n",
    "name: q211\n",
    "```"
   ]
  },
  {
   "cell_type": "code",
   "execution_count": 106,
   "metadata": {},
   "outputs": [
    {
     "data": {
      "text/plain": [
       "0.7071067811865475"
      ]
     },
     "execution_count": 106,
     "metadata": {},
     "output_type": "execute_result"
    }
   ],
   "source": [
    "sine_of_pi_over_four = math.sin(math.pi / 4) # SOLUTION\n",
    "sine_of_pi_over_four"
   ]
  },
  {
   "cell_type": "markdown",
   "metadata": {},
   "source": [
    "Let's examine our table to see what data it contains.\n",
    "\n",
    "<span style=\"color:blue\">**Question 3.0.1.**</span> Use the method `show` to display the first 5 rows of `trees`. \n",
    "\n",
    "*Reminder:* The terms \"method\" and \"function\" are technically not the same thing, but for the purposes of this course, we will often use them interchangeably.\n",
    "\n",
    "**Hint:** `tbl.show(3)` will show the first 3 rows of the table `tbl`. Additionally, make sure not to call `.show()` without an argument, as this will crash your kernel!\n"
   ]
  },
  {
   "cell_type": "code",
   "execution_count": 113,
   "metadata": {},
   "outputs": [
    {
     "data": {
      "text/html": [
       "<table border=\"1\" class=\"dataframe\">\n",
       "    <thead>\n",
       "        <tr>\n",
       "            <th>ID</th> <th>NEIGHBOURHOOD_NAME</th> <th>LOCATION_TYPE</th> <th>SPECIES_BOTANICAL</th> <th>SPECIES_COMMON</th> <th>GENUS</th> <th>SPECIES</th> <th>CULTIVAR</th> <th>DIAMETER_BREAST_HEIGHT</th> <th>CONDITION_PERCENT</th> <th>PLANTED_DATE</th> <th>OWNER</th> <th>Bears Edible Fruit</th> <th>Type of Edible Fruit</th> <th>COUNT</th> <th>LATITUDE</th> <th>LONGITUDE</th> <th>LOCATION</th> <th>Point Location</th>\n",
       "        </tr>\n",
       "    </thead>\n",
       "    <tbody>\n",
       "        <tr>\n",
       "            <td>448432</td> <td>DONSDALE          </td> <td>Boulevard    </td> <td>Prunus virginiana Schubert</td> <td>Chokecherry   </td> <td>Prunus</td> <td>virginiana</td> <td>Schubert</td> <td>7                     </td> <td>65               </td> <td>2011-06-01  </td> <td>Parks</td> <td>Yes               </td> <td>Schubert Chokecherry</td> <td>1    </td> <td>53.4825 </td> <td>-113.638 </td> <td>(53.48251246041853, -113.63848287480505) </td> <td>POINT (-113.63848287480505 53.48251246041853) </td>\n",
       "        </tr>\n",
       "        <tr>\n",
       "            <td>500925</td> <td>TERRACE HEIGHTS   </td> <td>Park         </td> <td>Prunus maackii            </td> <td>Cherry, Amur  </td> <td>Prunus</td> <td>maackii   </td> <td>nan     </td> <td>15                    </td> <td>65               </td> <td>2014-06-01  </td> <td>Parks</td> <td>Yes               </td> <td>Amur Chokecherry    </td> <td>1    </td> <td>53.5388 </td> <td>-113.43  </td> <td>(53.538760633518145, -113.42974993954729)</td> <td>POINT (-113.42974993954729 53.538760633518145)</td>\n",
       "        </tr>\n",
       "        <tr>\n",
       "            <td>335658</td> <td>GRANDVIEW HEIGHTS </td> <td>Park         </td> <td>Prunus virginiana Schubert</td> <td>Chokecherry   </td> <td>Prunus</td> <td>virginiana</td> <td>Schubert</td> <td>9                     </td> <td>65               </td> <td>1990-01-01  </td> <td>Parks</td> <td>Yes               </td> <td>Schubert Chokecherry</td> <td>1    </td> <td>53.499  </td> <td>-113.547 </td> <td>(53.49895158933218, -113.5468343040665)  </td> <td>POINT (-113.5468343040665 53.49895158933218)  </td>\n",
       "        </tr>\n",
       "        <tr>\n",
       "            <td>336409</td> <td>GRANDVIEW HEIGHTS </td> <td>Park         </td> <td>Prunus virginiana Schubert</td> <td>Chokecherry   </td> <td>Prunus</td> <td>virginiana</td> <td>Schubert</td> <td>10                    </td> <td>65               </td> <td>1990-01-01  </td> <td>Parks</td> <td>Yes               </td> <td>Schubert Chokecherry</td> <td>1    </td> <td>53.5001 </td> <td>-113.545 </td> <td>(53.500149635135145, -113.54511365672442)</td> <td>POINT (-113.54511365672442 53.500149635135145)</td>\n",
       "        </tr>\n",
       "        <tr>\n",
       "            <td>465230</td> <td>AMBLESIDE         </td> <td>Boulevard    </td> <td>Prunus virginiana Schubert</td> <td>Chokecherry   </td> <td>Prunus</td> <td>virginiana</td> <td>Schubert</td> <td>12                    </td> <td>65               </td> <td>2010-05-31  </td> <td>Parks</td> <td>Yes               </td> <td>Schubert Chokecherry</td> <td>1    </td> <td>53.4339 </td> <td>-113.596 </td> <td>(53.43389856014283, -113.59581920007685) </td> <td>POINT (-113.59581920007685 53.43389856014283) </td>\n",
       "        </tr>\n",
       "    </tbody>\n",
       "</table>\n",
       "<p>... (10195 rows omitted)</p>"
      ],
      "text/plain": [
       "<IPython.core.display.HTML object>"
      ]
     },
     "metadata": {},
     "output_type": "display_data"
    }
   ],
   "source": [
    "trees.show(5) # SOLUTION"
   ]
  },
  {
   "cell_type": "markdown",
   "metadata": {},
   "source": [
    "Notice that some of the values in this table are missing, as denoted by \"nan.\" This means either that the value is not available or not applicable. You'll also notice that the table has a large number of columns in it!\n",
    "\n",
    "### `num_columns`\n",
    "\n",
    "The table property `num_columns` returns the number of columns in a table. (A \"property\" is just a method that doesn't need to be called by adding parentheses.)\n",
    "\n",
    "Example call: `<tbl>.num_columns`\n",
    "\n",
    "<span style=\"color:blue\">**Question 3.0.2**</span> Use `num_columns` to find the number of columns in our trees dataset.\n",
    "\n",
    "Assign the number of columns to `num_trees_columns`.\n",
    "\n",
    "```\n",
    "BEGIN QUESTION\n",
    "name: q32\n",
    "```"
   ]
  },
  {
   "cell_type": "code",
   "execution_count": 114,
   "metadata": {},
   "outputs": [
    {
     "name": "stdout",
     "output_type": "stream",
     "text": [
      "The table has 19 columns in it!\n"
     ]
    }
   ],
   "source": [
    "num_trees_columns = trees.num_columns # SOLUTION\n",
    "print(\"The table has\", num_trees_columns, \"columns in it!\")"
   ]
  },
  {
   "cell_type": "markdown",
   "metadata": {},
   "source": [
    "### `select`\n",
    "\n",
    "Most of the columns are about location -- which neighbourhood, longitude and latitude etc.  If we're not interested in that information, it just makes the table difficult to read.  This comes up more than you might think, because people who collect and publish data may not know ahead of time what people will want to do with it.\n",
    "\n",
    "In such situations, we can use the table method `select` to choose only the columns that we want in a particular table. It takes any number of arguments. Each should be the name of a column in the table. It returns a new table with only those columns in it. The columns are in the order *in which they were listed as arguments*.\n",
    "\n",
    "For example, the value of `trees.select(\"SPECIES_BOTANICAL\",\"DIAMETER_BREAST_HEIGHT\")` is a table with only the type of tree and measurement.\n",
    "\n",
    "\n",
    "\n",
    "<span style=\"color:blue\">**Question 3.0.3**</span> Use `select` to create a table with only the common name, latitude, and longitude of each tree.  Call that new table `trees_locations`. (Use separate longitude and latitude columns)\n",
    "\n",
    "*Hint:* Make sure to be exact when using column names with `select`; double-check capitalization!\n",
    "\n",
    "```\n",
    "BEGIN QUESTION\n",
    "name: q33\n",
    "```"
   ]
  },
  {
   "cell_type": "code",
   "execution_count": 117,
   "metadata": {},
   "outputs": [
    {
     "data": {
      "text/html": [
       "<table border=\"1\" class=\"dataframe\">\n",
       "    <thead>\n",
       "        <tr>\n",
       "            <th>SPECIES_COMMON</th> <th>LATITUDE</th> <th>LONGITUDE</th>\n",
       "        </tr>\n",
       "    </thead>\n",
       "    <tbody>\n",
       "        <tr>\n",
       "            <td>Chokecherry   </td> <td>53.4825 </td> <td>-113.638 </td>\n",
       "        </tr>\n",
       "        <tr>\n",
       "            <td>Cherry, Amur  </td> <td>53.5388 </td> <td>-113.43  </td>\n",
       "        </tr>\n",
       "        <tr>\n",
       "            <td>Chokecherry   </td> <td>53.499  </td> <td>-113.547 </td>\n",
       "        </tr>\n",
       "        <tr>\n",
       "            <td>Chokecherry   </td> <td>53.5001 </td> <td>-113.545 </td>\n",
       "        </tr>\n",
       "        <tr>\n",
       "            <td>Chokecherry   </td> <td>53.4339 </td> <td>-113.596 </td>\n",
       "        </tr>\n",
       "        <tr>\n",
       "            <td>Chokecherry   </td> <td>53.5179 </td> <td>-113.666 </td>\n",
       "        </tr>\n",
       "        <tr>\n",
       "            <td>Chokecherry   </td> <td>53.4537 </td> <td>-113.583 </td>\n",
       "        </tr>\n",
       "        <tr>\n",
       "            <td>Chokecherry   </td> <td>53.5029 </td> <td>-113.495 </td>\n",
       "        </tr>\n",
       "        <tr>\n",
       "            <td>Cherry, Amur  </td> <td>53.4818 </td> <td>-113.515 </td>\n",
       "        </tr>\n",
       "        <tr>\n",
       "            <td>Chokecherry   </td> <td>53.502  </td> <td>-113.494 </td>\n",
       "        </tr>\n",
       "    </tbody>\n",
       "</table>\n",
       "<p>... (10190 rows omitted)</p>"
      ],
      "text/plain": [
       "SPECIES_COMMON | LATITUDE | LONGITUDE\n",
       "Chokecherry    | 53.4825  | -113.638\n",
       "Cherry, Amur   | 53.5388  | -113.43\n",
       "Chokecherry    | 53.499   | -113.547\n",
       "Chokecherry    | 53.5001  | -113.545\n",
       "Chokecherry    | 53.4339  | -113.596\n",
       "Chokecherry    | 53.5179  | -113.666\n",
       "Chokecherry    | 53.4537  | -113.583\n",
       "Chokecherry    | 53.5029  | -113.495\n",
       "Cherry, Amur   | 53.4818  | -113.515\n",
       "Chokecherry    | 53.502   | -113.494\n",
       "... (10190 rows omitted)"
      ]
     },
     "execution_count": 117,
     "metadata": {},
     "output_type": "execute_result"
    }
   ],
   "source": [
    "trees_locations = trees.select(\"SPECIES_COMMON\", \"LATITUDE\", \"LONGITUDE\")\n",
    "trees_locations"
   ]
  },
  {
   "cell_type": "markdown",
   "metadata": {},
   "source": [
    "### `drop`\n",
    "\n",
    "`drop` serves the same purpose as `select`, but it takes away the columns that you provide rather than the ones that you don't provide. Like `select`, `drop` returns a new table.\n",
    "\n",
    "<span style=\"color:blue\">**Question 3.0.4**</span> Suppose you just didn't want the `ID` and `CULTIVAR` columns in `trees_markets`.  Create a table that's a copy of `trees_markets` but doesn't include those columns.  Call that table `trees_without_id`.\n",
    "\n",
    "```\n",
    "BEGIN QUESTION\n",
    "name: q34\n",
    "```"
   ]
  },
  {
   "cell_type": "code",
   "execution_count": 120,
   "metadata": {},
   "outputs": [
    {
     "data": {
      "text/html": [
       "<table border=\"1\" class=\"dataframe\">\n",
       "    <thead>\n",
       "        <tr>\n",
       "            <th>NEIGHBOURHOOD_NAME</th> <th>LOCATION_TYPE</th> <th>SPECIES_BOTANICAL</th> <th>SPECIES_COMMON</th> <th>GENUS</th> <th>SPECIES</th> <th>DIAMETER_BREAST_HEIGHT</th> <th>CONDITION_PERCENT</th> <th>PLANTED_DATE</th> <th>OWNER</th> <th>Bears Edible Fruit</th> <th>Type of Edible Fruit</th> <th>COUNT</th> <th>LATITUDE</th> <th>LONGITUDE</th> <th>LOCATION</th> <th>Point Location</th>\n",
       "        </tr>\n",
       "    </thead>\n",
       "    <tbody>\n",
       "        <tr>\n",
       "            <td>DONSDALE           </td> <td>Boulevard    </td> <td>Prunus virginiana Schubert</td> <td>Chokecherry   </td> <td>Prunus</td> <td>virginiana</td> <td>7                     </td> <td>65               </td> <td>2011-06-01  </td> <td>Parks</td> <td>Yes               </td> <td>Schubert Chokecherry</td> <td>1    </td> <td>53.4825 </td> <td>-113.638 </td> <td>(53.48251246041853, -113.63848287480505) </td> <td>POINT (-113.63848287480505 53.48251246041853) </td>\n",
       "        </tr>\n",
       "        <tr>\n",
       "            <td>TERRACE HEIGHTS    </td> <td>Park         </td> <td>Prunus maackii            </td> <td>Cherry, Amur  </td> <td>Prunus</td> <td>maackii   </td> <td>15                    </td> <td>65               </td> <td>2014-06-01  </td> <td>Parks</td> <td>Yes               </td> <td>Amur Chokecherry    </td> <td>1    </td> <td>53.5388 </td> <td>-113.43  </td> <td>(53.538760633518145, -113.42974993954729)</td> <td>POINT (-113.42974993954729 53.538760633518145)</td>\n",
       "        </tr>\n",
       "        <tr>\n",
       "            <td>GRANDVIEW HEIGHTS  </td> <td>Park         </td> <td>Prunus virginiana Schubert</td> <td>Chokecherry   </td> <td>Prunus</td> <td>virginiana</td> <td>9                     </td> <td>65               </td> <td>1990-01-01  </td> <td>Parks</td> <td>Yes               </td> <td>Schubert Chokecherry</td> <td>1    </td> <td>53.499  </td> <td>-113.547 </td> <td>(53.49895158933218, -113.5468343040665)  </td> <td>POINT (-113.5468343040665 53.49895158933218)  </td>\n",
       "        </tr>\n",
       "        <tr>\n",
       "            <td>GRANDVIEW HEIGHTS  </td> <td>Park         </td> <td>Prunus virginiana Schubert</td> <td>Chokecherry   </td> <td>Prunus</td> <td>virginiana</td> <td>10                    </td> <td>65               </td> <td>1990-01-01  </td> <td>Parks</td> <td>Yes               </td> <td>Schubert Chokecherry</td> <td>1    </td> <td>53.5001 </td> <td>-113.545 </td> <td>(53.500149635135145, -113.54511365672442)</td> <td>POINT (-113.54511365672442 53.500149635135145)</td>\n",
       "        </tr>\n",
       "        <tr>\n",
       "            <td>AMBLESIDE          </td> <td>Boulevard    </td> <td>Prunus virginiana Schubert</td> <td>Chokecherry   </td> <td>Prunus</td> <td>virginiana</td> <td>12                    </td> <td>65               </td> <td>2010-05-31  </td> <td>Parks</td> <td>Yes               </td> <td>Schubert Chokecherry</td> <td>1    </td> <td>53.4339 </td> <td>-113.596 </td> <td>(53.43389856014283, -113.59581920007685) </td> <td>POINT (-113.59581920007685 53.43389856014283) </td>\n",
       "        </tr>\n",
       "        <tr>\n",
       "            <td>POTTER GREENS      </td> <td>Park         </td> <td>Prunus virginiana Schubert</td> <td>Chokecherry   </td> <td>Prunus</td> <td>virginiana</td> <td>20                    </td> <td>65               </td> <td>1989-12-31  </td> <td>Parks</td> <td>Yes               </td> <td>Schubert Chokecherry</td> <td>1    </td> <td>53.5179 </td> <td>-113.666 </td> <td>(53.51791097023782, -113.66574694431588) </td> <td>POINT (-113.66574694431588 53.51791097023782) </td>\n",
       "        </tr>\n",
       "        <tr>\n",
       "            <td>TERWILLEGAR TOWNE  </td> <td>Centre Median</td> <td>Prunus virginiana Schubert</td> <td>Chokecherry   </td> <td>Prunus</td> <td>virginiana</td> <td>20                    </td> <td>65               </td> <td>1989-12-31  </td> <td>Parks</td> <td>Yes               </td> <td>Schubert Chokecherry</td> <td>1    </td> <td>53.4537 </td> <td>-113.583 </td> <td>(53.453739369922275, -113.58263894232672)</td> <td>POINT (-113.58263894232672 53.453739369922275)</td>\n",
       "        </tr>\n",
       "        <tr>\n",
       "            <td>STRATHCONA JUNCTION</td> <td>Buffer       </td> <td>Prunus virginiana Schubert</td> <td>Chokecherry   </td> <td>Prunus</td> <td>virginiana</td> <td>19                    </td> <td>65               </td> <td>1990-01-01  </td> <td>Parks</td> <td>Yes               </td> <td>Schubert Chokecherry</td> <td>1    </td> <td>53.5029 </td> <td>-113.495 </td> <td>(53.50290999848199, -113.49486609539743) </td> <td>POINT (-113.49486609539743 53.50290999848199) </td>\n",
       "        </tr>\n",
       "        <tr>\n",
       "            <td>RIDEAU PARK        </td> <td>Buffer       </td> <td>Prunus maackii            </td> <td>Cherry, Amur  </td> <td>Prunus</td> <td>maackii   </td> <td>12                    </td> <td>65               </td> <td>2009-06-01  </td> <td>Parks</td> <td>Yes               </td> <td>Amur Chokecherry    </td> <td>1    </td> <td>53.4818 </td> <td>-113.515 </td> <td>(53.48180389358648, -113.51534208041981) </td> <td>POINT (-113.51534208041981 53.48180389358648) </td>\n",
       "        </tr>\n",
       "        <tr>\n",
       "            <td>STRATHCONA JUNCTION</td> <td>Buffer       </td> <td>Prunus virginiana Schubert</td> <td>Chokecherry   </td> <td>Prunus</td> <td>virginiana</td> <td>14                    </td> <td>65               </td> <td>1990-01-01  </td> <td>Parks</td> <td>Yes               </td> <td>Schubert Chokecherry</td> <td>1    </td> <td>53.502  </td> <td>-113.494 </td> <td>(53.50202548601264, -113.49442888620283) </td> <td>POINT (-113.49442888620283 53.50202548601264) </td>\n",
       "        </tr>\n",
       "    </tbody>\n",
       "</table>\n",
       "<p>... (10190 rows omitted)</p>"
      ],
      "text/plain": [
       "NEIGHBOURHOOD_NAME  | LOCATION_TYPE | SPECIES_BOTANICAL          | SPECIES_COMMON | GENUS  | SPECIES    | DIAMETER_BREAST_HEIGHT | CONDITION_PERCENT | PLANTED_DATE | OWNER | Bears Edible Fruit | Type of Edible Fruit | COUNT | LATITUDE | LONGITUDE | LOCATION                                  | Point Location\n",
       "DONSDALE            | Boulevard     | Prunus virginiana Schubert | Chokecherry    | Prunus | virginiana | 7                      | 65                | 2011-06-01   | Parks | Yes                | Schubert Chokecherry | 1     | 53.4825  | -113.638  | (53.48251246041853, -113.63848287480505)  | POINT (-113.63848287480505 53.48251246041853)\n",
       "TERRACE HEIGHTS     | Park          | Prunus maackii             | Cherry, Amur   | Prunus | maackii    | 15                     | 65                | 2014-06-01   | Parks | Yes                | Amur Chokecherry     | 1     | 53.5388  | -113.43   | (53.538760633518145, -113.42974993954729) | POINT (-113.42974993954729 53.538760633518145)\n",
       "GRANDVIEW HEIGHTS   | Park          | Prunus virginiana Schubert | Chokecherry    | Prunus | virginiana | 9                      | 65                | 1990-01-01   | Parks | Yes                | Schubert Chokecherry | 1     | 53.499   | -113.547  | (53.49895158933218, -113.5468343040665)   | POINT (-113.5468343040665 53.49895158933218)\n",
       "GRANDVIEW HEIGHTS   | Park          | Prunus virginiana Schubert | Chokecherry    | Prunus | virginiana | 10                     | 65                | 1990-01-01   | Parks | Yes                | Schubert Chokecherry | 1     | 53.5001  | -113.545  | (53.500149635135145, -113.54511365672442) | POINT (-113.54511365672442 53.500149635135145)\n",
       "AMBLESIDE           | Boulevard     | Prunus virginiana Schubert | Chokecherry    | Prunus | virginiana | 12                     | 65                | 2010-05-31   | Parks | Yes                | Schubert Chokecherry | 1     | 53.4339  | -113.596  | (53.43389856014283, -113.59581920007685)  | POINT (-113.59581920007685 53.43389856014283)\n",
       "POTTER GREENS       | Park          | Prunus virginiana Schubert | Chokecherry    | Prunus | virginiana | 20                     | 65                | 1989-12-31   | Parks | Yes                | Schubert Chokecherry | 1     | 53.5179  | -113.666  | (53.51791097023782, -113.66574694431588)  | POINT (-113.66574694431588 53.51791097023782)\n",
       "TERWILLEGAR TOWNE   | Centre Median | Prunus virginiana Schubert | Chokecherry    | Prunus | virginiana | 20                     | 65                | 1989-12-31   | Parks | Yes                | Schubert Chokecherry | 1     | 53.4537  | -113.583  | (53.453739369922275, -113.58263894232672) | POINT (-113.58263894232672 53.453739369922275)\n",
       "STRATHCONA JUNCTION | Buffer        | Prunus virginiana Schubert | Chokecherry    | Prunus | virginiana | 19                     | 65                | 1990-01-01   | Parks | Yes                | Schubert Chokecherry | 1     | 53.5029  | -113.495  | (53.50290999848199, -113.49486609539743)  | POINT (-113.49486609539743 53.50290999848199)\n",
       "RIDEAU PARK         | Buffer        | Prunus maackii             | Cherry, Amur   | Prunus | maackii    | 12                     | 65                | 2009-06-01   | Parks | Yes                | Amur Chokecherry     | 1     | 53.4818  | -113.515  | (53.48180389358648, -113.51534208041981)  | POINT (-113.51534208041981 53.48180389358648)\n",
       "STRATHCONA JUNCTION | Buffer        | Prunus virginiana Schubert | Chokecherry    | Prunus | virginiana | 14                     | 65                | 1990-01-01   | Parks | Yes                | Schubert Chokecherry | 1     | 53.502   | -113.494  | (53.50202548601264, -113.49442888620283)  | POINT (-113.49442888620283 53.50202548601264)\n",
       "... (10190 rows omitted)"
      ]
     },
     "execution_count": 120,
     "metadata": {},
     "output_type": "execute_result"
    }
   ],
   "source": [
    "trees_without_id = trees.drop(\"ID\", \"CULTIVAR\") # SOLUTION\n",
    "trees_without_id"
   ]
  },
  {
   "cell_type": "markdown",
   "metadata": {},
   "source": [
    "<span style=\"color:blue\">**Question 3.0.6** Use `donsdale_trees` to create a table called `donsdale_boulevard` containing trees on boulevards in donsdale.\n",
    "```\n",
    "BEGIN QUESTION\n",
    "name: q36\n",
    "```"
   ]
  },
  {
   "cell_type": "code",
   "execution_count": 27,
   "metadata": {},
   "outputs": [
    {
     "data": {
      "text/html": [
       "<table border=\"1\" class=\"dataframe\">\n",
       "    <thead>\n",
       "        <tr>\n",
       "            <th>ID</th> <th>NEIGHBOURHOOD_NAME</th> <th>LOCATION_TYPE</th> <th>SPECIES_BOTANICAL</th> <th>SPECIES_COMMON</th> <th>GENUS</th> <th>SPECIES</th> <th>CULTIVAR</th> <th>DIAMETER_BREAST_HEIGHT</th> <th>CONDITION_PERCENT</th> <th>PLANTED_DATE</th> <th>OWNER</th> <th>Bears Edible Fruit</th> <th>Type of Edible Fruit</th> <th>COUNT</th> <th>LATITUDE</th> <th>LONGITUDE</th> <th>LOCATION</th> <th>Point Location</th>\n",
       "        </tr>\n",
       "    </thead>\n",
       "    <tbody>\n",
       "        <tr>\n",
       "            <td>448432</td> <td>DONSDALE          </td> <td>Boulevard    </td> <td>Prunus virginiana Schubert</td> <td>Chokecherry   </td> <td>Prunus</td> <td>virginiana</td> <td>Schubert</td> <td>7                     </td> <td>65               </td> <td>2011-06-01  </td> <td>Parks</td> <td>Yes               </td> <td>Schubert Chokecherry</td> <td>1    </td> <td>53.4825 </td> <td>-113.638 </td> <td>(53.48251246041853, -113.63848287480505) </td> <td>POINT (-113.63848287480505 53.48251246041853) </td>\n",
       "        </tr>\n",
       "        <tr>\n",
       "            <td>475547</td> <td>DONSDALE          </td> <td>Boulevard    </td> <td>Prunus virginiana Schubert</td> <td>Chokecherry   </td> <td>Prunus</td> <td>virginiana</td> <td>Schubert</td> <td>15                    </td> <td>65               </td> <td>2003-06-01  </td> <td>Parks</td> <td>Yes               </td> <td>Schubert Chokecherry</td> <td>1    </td> <td>53.4842 </td> <td>-113.638 </td> <td>(53.48424674686466, -113.63847157414696) </td> <td>POINT (-113.63847157414696 53.48424674686466) </td>\n",
       "        </tr>\n",
       "        <tr>\n",
       "            <td>475285</td> <td>DONSDALE          </td> <td>Boulevard    </td> <td>Prunus virginiana Schubert</td> <td>Chokecherry   </td> <td>Prunus</td> <td>virginiana</td> <td>Schubert</td> <td>10                    </td> <td>65               </td> <td>2006-06-01  </td> <td>Parks</td> <td>Yes               </td> <td>Schubert Chokecherry</td> <td>1    </td> <td>53.4842 </td> <td>-113.638 </td> <td>(53.48422707177881, -113.6380416203384)  </td> <td>POINT (-113.6380416203384 53.48422707177881)  </td>\n",
       "        </tr>\n",
       "        <tr>\n",
       "            <td>475284</td> <td>DONSDALE          </td> <td>Boulevard    </td> <td>Prunus virginiana Schubert</td> <td>Chokecherry   </td> <td>Prunus</td> <td>virginiana</td> <td>Schubert</td> <td>11                    </td> <td>65               </td> <td>2006-06-01  </td> <td>Parks</td> <td>Yes               </td> <td>Schubert Chokecherry</td> <td>1    </td> <td>53.4841 </td> <td>-113.638 </td> <td>(53.484088071882155, -113.63804397262649)</td> <td>POINT (-113.63804397262649 53.484088071882155)</td>\n",
       "        </tr>\n",
       "        <tr>\n",
       "            <td>475544</td> <td>DONSDALE          </td> <td>Boulevard    </td> <td>Prunus virginiana Schubert</td> <td>Chokecherry   </td> <td>Prunus</td> <td>virginiana</td> <td>Schubert</td> <td>11                    </td> <td>65               </td> <td>2003-06-01  </td> <td>Parks</td> <td>Yes               </td> <td>Schubert Chokecherry</td> <td>1    </td> <td>53.4843 </td> <td>-113.639 </td> <td>(53.48427164895583, -113.63900788141247) </td> <td>POINT (-113.63900788141247 53.48427164895583) </td>\n",
       "        </tr>\n",
       "        <tr>\n",
       "            <td>475541</td> <td>DONSDALE          </td> <td>Boulevard    </td> <td>Prunus virginiana Schubert</td> <td>Chokecherry   </td> <td>Prunus</td> <td>virginiana</td> <td>Schubert</td> <td>10                    </td> <td>65               </td> <td>2003-06-01  </td> <td>Parks</td> <td>Yes               </td> <td>Schubert Chokecherry</td> <td>1    </td> <td>53.4844 </td> <td>-113.639 </td> <td>(53.484350389271135, -113.63851227395783)</td> <td>POINT (-113.63851227395783 53.484350389271135)</td>\n",
       "        </tr>\n",
       "        <tr>\n",
       "            <td>538678</td> <td>DONSDALE          </td> <td>Boulevard    </td> <td>Prunus virginiana Schubert</td> <td>Chokecherry   </td> <td>Prunus</td> <td>virginiana</td> <td>Schubert</td> <td>12                    </td> <td>65               </td> <td>1990-06-01  </td> <td>Parks</td> <td>Yes               </td> <td>Schubert Chokecherry</td> <td>1    </td> <td>53.4833 </td> <td>-113.638 </td> <td>(53.483303435585036, -113.6380459435861) </td> <td>POINT (-113.6380459435861 53.483303435585036) </td>\n",
       "        </tr>\n",
       "        <tr>\n",
       "            <td>475543</td> <td>DONSDALE          </td> <td>Boulevard    </td> <td>Prunus virginiana Schubert</td> <td>Chokecherry   </td> <td>Prunus</td> <td>virginiana</td> <td>Schubert</td> <td>10                    </td> <td>65               </td> <td>2003-06-01  </td> <td>Parks</td> <td>Yes               </td> <td>Schubert Chokecherry</td> <td>1    </td> <td>53.4843 </td> <td>-113.639 </td> <td>(53.48432355080478, -113.6386647803945)  </td> <td>POINT (-113.6386647803945 53.48432355080478)  </td>\n",
       "        </tr>\n",
       "        <tr>\n",
       "            <td>475275</td> <td>DONSDALE          </td> <td>Boulevard    </td> <td>Prunus virginiana Schubert</td> <td>Chokecherry   </td> <td>Prunus</td> <td>virginiana</td> <td>Schubert</td> <td>12                    </td> <td>65               </td> <td>2006-06-01  </td> <td>Parks</td> <td>Yes               </td> <td>Schubert Chokecherry</td> <td>1    </td> <td>53.4842 </td> <td>-113.638 </td> <td>(53.48415548514016, -113.63786921133817) </td> <td>POINT (-113.63786921133817 53.48415548514016) </td>\n",
       "        </tr>\n",
       "        <tr>\n",
       "            <td>475270</td> <td>DONSDALE          </td> <td>Boulevard    </td> <td>Prunus virginiana Schubert</td> <td>Chokecherry   </td> <td>Prunus</td> <td>virginiana</td> <td>Schubert</td> <td>14                    </td> <td>65               </td> <td>2006-06-01  </td> <td>Parks</td> <td>Yes               </td> <td>Schubert Chokecherry</td> <td>1    </td> <td>53.4837 </td> <td>-113.638 </td> <td>(53.4836636232035, -113.63787170680027)  </td> <td>POINT (-113.63787170680027 53.4836636232035)  </td>\n",
       "        </tr>\n",
       "    </tbody>\n",
       "</table>\n",
       "<p>... (225 rows omitted)</p>"
      ],
      "text/plain": [
       "ID     | NEIGHBOURHOOD_NAME | LOCATION_TYPE | SPECIES_BOTANICAL          | SPECIES_COMMON | GENUS  | SPECIES    | CULTIVAR | DIAMETER_BREAST_HEIGHT | CONDITION_PERCENT | PLANTED_DATE | OWNER | Bears Edible Fruit | Type of Edible Fruit | COUNT | LATITUDE | LONGITUDE | LOCATION                                  | Point Location\n",
       "448432 | DONSDALE           | Boulevard     | Prunus virginiana Schubert | Chokecherry    | Prunus | virginiana | Schubert | 7                      | 65                | 2011-06-01   | Parks | Yes                | Schubert Chokecherry | 1     | 53.4825  | -113.638  | (53.48251246041853, -113.63848287480505)  | POINT (-113.63848287480505 53.48251246041853)\n",
       "475547 | DONSDALE           | Boulevard     | Prunus virginiana Schubert | Chokecherry    | Prunus | virginiana | Schubert | 15                     | 65                | 2003-06-01   | Parks | Yes                | Schubert Chokecherry | 1     | 53.4842  | -113.638  | (53.48424674686466, -113.63847157414696)  | POINT (-113.63847157414696 53.48424674686466)\n",
       "475285 | DONSDALE           | Boulevard     | Prunus virginiana Schubert | Chokecherry    | Prunus | virginiana | Schubert | 10                     | 65                | 2006-06-01   | Parks | Yes                | Schubert Chokecherry | 1     | 53.4842  | -113.638  | (53.48422707177881, -113.6380416203384)   | POINT (-113.6380416203384 53.48422707177881)\n",
       "475284 | DONSDALE           | Boulevard     | Prunus virginiana Schubert | Chokecherry    | Prunus | virginiana | Schubert | 11                     | 65                | 2006-06-01   | Parks | Yes                | Schubert Chokecherry | 1     | 53.4841  | -113.638  | (53.484088071882155, -113.63804397262649) | POINT (-113.63804397262649 53.484088071882155)\n",
       "475544 | DONSDALE           | Boulevard     | Prunus virginiana Schubert | Chokecherry    | Prunus | virginiana | Schubert | 11                     | 65                | 2003-06-01   | Parks | Yes                | Schubert Chokecherry | 1     | 53.4843  | -113.639  | (53.48427164895583, -113.63900788141247)  | POINT (-113.63900788141247 53.48427164895583)\n",
       "475541 | DONSDALE           | Boulevard     | Prunus virginiana Schubert | Chokecherry    | Prunus | virginiana | Schubert | 10                     | 65                | 2003-06-01   | Parks | Yes                | Schubert Chokecherry | 1     | 53.4844  | -113.639  | (53.484350389271135, -113.63851227395783) | POINT (-113.63851227395783 53.484350389271135)\n",
       "538678 | DONSDALE           | Boulevard     | Prunus virginiana Schubert | Chokecherry    | Prunus | virginiana | Schubert | 12                     | 65                | 1990-06-01   | Parks | Yes                | Schubert Chokecherry | 1     | 53.4833  | -113.638  | (53.483303435585036, -113.6380459435861)  | POINT (-113.6380459435861 53.483303435585036)\n",
       "475543 | DONSDALE           | Boulevard     | Prunus virginiana Schubert | Chokecherry    | Prunus | virginiana | Schubert | 10                     | 65                | 2003-06-01   | Parks | Yes                | Schubert Chokecherry | 1     | 53.4843  | -113.639  | (53.48432355080478, -113.6386647803945)   | POINT (-113.6386647803945 53.48432355080478)\n",
       "475275 | DONSDALE           | Boulevard     | Prunus virginiana Schubert | Chokecherry    | Prunus | virginiana | Schubert | 12                     | 65                | 2006-06-01   | Parks | Yes                | Schubert Chokecherry | 1     | 53.4842  | -113.638  | (53.48415548514016, -113.63786921133817)  | POINT (-113.63786921133817 53.48415548514016)\n",
       "475270 | DONSDALE           | Boulevard     | Prunus virginiana Schubert | Chokecherry    | Prunus | virginiana | Schubert | 14                     | 65                | 2006-06-01   | Parks | Yes                | Schubert Chokecherry | 1     | 53.4837  | -113.638  | (53.4836636232035, -113.63787170680027)   | POINT (-113.63787170680027 53.4836636232035)\n",
       "... (225 rows omitted)"
      ]
     },
     "execution_count": 27,
     "metadata": {},
     "output_type": "execute_result"
    }
   ],
   "source": [
    "donsdale_boulevard = donsdale_trees.where('LOCATION_TYPE', are.equal_to(\"Boulevard\")) # SOLUTION\n",
    "donsdale_boulevard"
   ]
  },
  {
   "cell_type": "markdown",
   "metadata": {},
   "source": [
    "<span style=\"color:blue\">**Question 4.0.1**</span> Create a table of movies released between 2010 and 2016 (inclusive) with ratings above 8. The table should only contain the columns `Title` and `Rating`, **in that order**.\n",
    "\n",
    "Assign the table to the name `above_eight`.\n",
    "\n",
    "*Hint:* Think about the steps you need to take, and try to put them in an order that make sense. Feel free to create intermediate tables for each step, but please make sure you assign your final table the name `above_eight`!\n",
    "\n",
    "```\n",
    "BEGIN QUESTION\n",
    "name: q41\n",
    "```"
   ]
  },
  {
   "cell_type": "code",
   "execution_count": 31,
   "metadata": {
    "scrolled": false
   },
   "outputs": [
    {
     "data": {
      "text/html": [
       "<table border=\"1\" class=\"dataframe\">\n",
       "    <thead>\n",
       "        <tr>\n",
       "            <th>Title</th> <th>Rating</th>\n",
       "        </tr>\n",
       "    </thead>\n",
       "    <tbody>\n",
       "        <tr>\n",
       "            <td>Gone Girl               </td> <td>8.1   </td>\n",
       "        </tr>\n",
       "        <tr>\n",
       "            <td>Warrior                 </td> <td>8.2   </td>\n",
       "        </tr>\n",
       "        <tr>\n",
       "            <td>Intouchables            </td> <td>8.5   </td>\n",
       "        </tr>\n",
       "        <tr>\n",
       "            <td>Shutter Island          </td> <td>8.1   </td>\n",
       "        </tr>\n",
       "        <tr>\n",
       "            <td>12 Years a Slave        </td> <td>8.1   </td>\n",
       "        </tr>\n",
       "        <tr>\n",
       "            <td>Inside Out (2015/I)     </td> <td>8.5   </td>\n",
       "        </tr>\n",
       "        <tr>\n",
       "            <td>Jagten                  </td> <td>8.2   </td>\n",
       "        </tr>\n",
       "        <tr>\n",
       "            <td>Toy Story 3             </td> <td>8.3   </td>\n",
       "        </tr>\n",
       "        <tr>\n",
       "            <td>How to Train Your Dragon</td> <td>8.1   </td>\n",
       "        </tr>\n",
       "        <tr>\n",
       "            <td>Interstellar            </td> <td>8.6   </td>\n",
       "        </tr>\n",
       "    </tbody>\n",
       "</table>\n",
       "<p>... (10 rows omitted)</p>"
      ],
      "text/plain": [
       "Title                    | Rating\n",
       "Gone Girl                | 8.1\n",
       "Warrior                  | 8.2\n",
       "Intouchables             | 8.5\n",
       "Shutter Island           | 8.1\n",
       "12 Years a Slave         | 8.1\n",
       "Inside Out (2015/I)      | 8.5\n",
       "Jagten                   | 8.2\n",
       "Toy Story 3              | 8.3\n",
       "How to Train Your Dragon | 8.1\n",
       "Interstellar             | 8.6\n",
       "... (10 rows omitted)"
      ]
     },
     "execution_count": 31,
     "metadata": {},
     "output_type": "execute_result"
    }
   ],
   "source": [
    "above_eight = imdb.where('Year', are.between(2010, 2017)).where('Rating', are.above(8)).select('Title', 'Rating') # SOLUTION\n",
    "above_eight"
   ]
  },
  {
   "cell_type": "markdown",
   "metadata": {},
   "source": [
    "<span style=\"color:blue\">**Question 4.0.2**</span> Use `num_rows` (and arithmetic) to find the *proportion* of movies in the dataset that were released 1900-1999, and the *proportion* of movies in the dataset that were released in the year 2000 or later.\n",
    "\n",
    "Assign `proportion_in_20th_century` to the proportion of movies in the dataset that were released 1900-1999, and `proportion_in_21st_century` to the proportion of movies in the dataset that were released in the year 2000 or later.\n",
    "\n",
    "*Hint:* The *proportion* of movies released in the 1900's is the *number* of movies released in the 1900's, divided by the *total number* of movies.\n",
    "\n",
    "```\n",
    "BEGIN QUESTION\n",
    "name: q42\n",
    "```"
   ]
  },
  {
   "cell_type": "code",
   "execution_count": 35,
   "metadata": {},
   "outputs": [
    {
     "name": "stdout",
     "output_type": "stream",
     "text": [
      "Proportion in 20th century: 0.684\n",
      "Proportion in 21st century: 0.316\n"
     ]
    }
   ],
   "source": [
    "num_movies_in_dataset = imdb.num_rows # SOLUTION\n",
    "num_in_20th_century = imdb.where('Year', are.below(2000)).num_rows # SOLUTION\n",
    "num_in_21st_century = imdb.where('Year', are.above_or_equal_to(2000)).num_rows # SOLUTION\n",
    "proportion_in_20th_century = num_in_20th_century / num_movies_in_dataset # SOLUTION\n",
    "proportion_in_21st_century = num_in_21st_century / num_movies_in_dataset # SOLUTION\n",
    "print(\"Proportion in 20th century:\", proportion_in_20th_century)\n",
    "print(\"Proportion in 21st century:\", proportion_in_21st_century)"
   ]
  },
  {
   "cell_type": "markdown",
   "metadata": {},
   "source": [
    "<span style=\"color:blue\">**Question 5.1.1.**</span> Make an array containing the numbers 0, 1, -1, $\\pi$, and $e$, in that order.  Name it `interesting_numbers`.  \n",
    "\n",
    "*Hint:* How did you get the values $\\pi$ and $e$ earlier up in this lab?  You can refer to them in exactly the same way here.\n",
    "\n",
    "```\n",
    "BEGIN QUESTION\n",
    "name: q511\n",
    "```"
   ]
  },
  {
   "cell_type": "code",
   "execution_count": 39,
   "metadata": {},
   "outputs": [
    {
     "data": {
      "text/plain": [
       "array([ 0.        ,  1.        , -1.        ,  3.14159265,  2.71828183])"
      ]
     },
     "execution_count": 39,
     "metadata": {},
     "output_type": "execute_result"
    }
   ],
   "source": [
    "interesting_numbers = make_array(0, 1, -1, math.pi, math.e) # SOLUTION\n",
    "interesting_numbers"
   ]
  },
  {
   "cell_type": "markdown",
   "metadata": {},
   "source": [
    "<span style=\"color:blue\">**Question 5.1.2.**</span> Make an array containing the five strings `\"Hello\"`, `\",\"`, `\" \"`, `\"world\"`, and `\"!\"`.  (The third one is a single space inside quotes.)  Name it `hello_world_components`.\n",
    "\n",
    "*Note:* If you evaluate `hello_world_components`, you'll notice some extra information in addition to its contents: `dtype='<U5'`.  That's just NumPy's extremely cryptic way of saying that the data types in the array are strings.\n",
    "\n",
    "```\n",
    "BEGIN QUESTION\n",
    "name: q512\n",
    "```"
   ]
  },
  {
   "cell_type": "code",
   "execution_count": 43,
   "metadata": {},
   "outputs": [
    {
     "data": {
      "text/plain": [
       "array(['Hello', ',', ' ', 'world', '!'], dtype='<U5')"
      ]
     },
     "execution_count": 43,
     "metadata": {},
     "output_type": "execute_result"
    }
   ],
   "source": [
    "hello_world_components = make_array(\"Hello\", \",\", \" \", \"world\", \"!\") # SOLUTION\n",
    "hello_world_components"
   ]
  },
  {
   "cell_type": "markdown",
   "metadata": {},
   "source": [
    "<span style=\"color:blue\">**Question 5.1.3.**</span> Import `numpy` as `np` and then use `np.arange` to create an array with the multiples of 99 from 0 up to (**and including**) 9999.  (So its elements are 0, 99, 198, 297, etc.)\n",
    "\n",
    "```\n",
    "BEGIN QUESTION\n",
    "name: q513\n",
    "```"
   ]
  },
  {
   "cell_type": "code",
   "execution_count": 49,
   "metadata": {},
   "outputs": [
    {
     "data": {
      "text/plain": [
       "array([   0,   99,  198,  297,  396,  495,  594,  693,  792,  891,  990,\n",
       "       1089, 1188, 1287, 1386, 1485, 1584, 1683, 1782, 1881, 1980, 2079,\n",
       "       2178, 2277, 2376, 2475, 2574, 2673, 2772, 2871, 2970, 3069, 3168,\n",
       "       3267, 3366, 3465, 3564, 3663, 3762, 3861, 3960, 4059, 4158, 4257,\n",
       "       4356, 4455, 4554, 4653, 4752, 4851, 4950, 5049, 5148, 5247, 5346,\n",
       "       5445, 5544, 5643, 5742, 5841, 5940, 6039, 6138, 6237, 6336, 6435,\n",
       "       6534, 6633, 6732, 6831, 6930, 7029, 7128, 7227, 7326, 7425, 7524,\n",
       "       7623, 7722, 7821, 7920, 8019, 8118, 8217, 8316, 8415, 8514, 8613,\n",
       "       8712, 8811, 8910, 9009, 9108, 9207, 9306, 9405, 9504, 9603, 9702,\n",
       "       9801, 9900, 9999])"
      ]
     },
     "execution_count": 49,
     "metadata": {},
     "output_type": "execute_result"
    }
   ],
   "source": [
    "import numpy as np \n",
    "multiples_of_99 = np.arange(0, 9999 + 99, 99) # SOLUTION\n",
    "multiples_of_99"
   ]
  },
  {
   "cell_type": "markdown",
   "metadata": {},
   "source": [
    "### Temperature readings\n",
    "There are multiple weather stations in Canada that measure surface temperatures at different sites around the country.  The hourly readings are [publicly available](https://climate.weather.gc.ca/historical_data/search_historic_data_e.html).\n",
    "\n",
    "Suppose we download all the hourly data from the Edmonton Internation Airport station for the month of May 2021.  To analyze the data, we want to know when each reading was taken, but we find that the data don't include the timestamps of the readings (the time at which each one was taken).\n",
    "\n",
    "However, we know the first reading was taken at the first instant of May 2021 (midnight on December 1st) and each subsequent reading was taken exactly 1 hour after the last.\n",
    "\n",
    "**Question 5.1.4.** Create an array of the *time, in seconds, since the start of the month* at which each hourly reading was taken.  Name it `collection_times`.\n",
    "\n",
    "*Hint 1:* There were 31 days in May, which is equivalent to ($31 \\times 24$) hours or ($31 \\times 24 \\times 60 \\times 60$) seconds.  So your array should have $31 \\times 24$ elements in it.\n",
    "\n",
    "*Hint 2:* The `len` function works on arrays, too!  If your `collection_times` isn't passing the tests, check its length and make sure it has $31 \\times 24$ elements.\n",
    "\n",
    "```\n",
    "BEGIN QUESTION\n",
    "name: q514\n",
    "```"
   ]
  },
  {
   "cell_type": "code",
   "execution_count": 53,
   "metadata": {},
   "outputs": [
    {
     "data": {
      "text/plain": [
       "array([      0,    3600,    7200,   10800,   14400,   18000,   21600,\n",
       "         25200,   28800,   32400,   36000,   39600,   43200,   46800,\n",
       "         50400,   54000,   57600,   61200,   64800,   68400,   72000,\n",
       "         75600,   79200,   82800,   86400,   90000,   93600,   97200,\n",
       "        100800,  104400,  108000,  111600,  115200,  118800,  122400,\n",
       "        126000,  129600,  133200,  136800,  140400,  144000,  147600,\n",
       "        151200,  154800,  158400,  162000,  165600,  169200,  172800,\n",
       "        176400,  180000,  183600,  187200,  190800,  194400,  198000,\n",
       "        201600,  205200,  208800,  212400,  216000,  219600,  223200,\n",
       "        226800,  230400,  234000,  237600,  241200,  244800,  248400,\n",
       "        252000,  255600,  259200,  262800,  266400,  270000,  273600,\n",
       "        277200,  280800,  284400,  288000,  291600,  295200,  298800,\n",
       "        302400,  306000,  309600,  313200,  316800,  320400,  324000,\n",
       "        327600,  331200,  334800,  338400,  342000,  345600,  349200,\n",
       "        352800,  356400,  360000,  363600,  367200,  370800,  374400,\n",
       "        378000,  381600,  385200,  388800,  392400,  396000,  399600,\n",
       "        403200,  406800,  410400,  414000,  417600,  421200,  424800,\n",
       "        428400,  432000,  435600,  439200,  442800,  446400,  450000,\n",
       "        453600,  457200,  460800,  464400,  468000,  471600,  475200,\n",
       "        478800,  482400,  486000,  489600,  493200,  496800,  500400,\n",
       "        504000,  507600,  511200,  514800,  518400,  522000,  525600,\n",
       "        529200,  532800,  536400,  540000,  543600,  547200,  550800,\n",
       "        554400,  558000,  561600,  565200,  568800,  572400,  576000,\n",
       "        579600,  583200,  586800,  590400,  594000,  597600,  601200,\n",
       "        604800,  608400,  612000,  615600,  619200,  622800,  626400,\n",
       "        630000,  633600,  637200,  640800,  644400,  648000,  651600,\n",
       "        655200,  658800,  662400,  666000,  669600,  673200,  676800,\n",
       "        680400,  684000,  687600,  691200,  694800,  698400,  702000,\n",
       "        705600,  709200,  712800,  716400,  720000,  723600,  727200,\n",
       "        730800,  734400,  738000,  741600,  745200,  748800,  752400,\n",
       "        756000,  759600,  763200,  766800,  770400,  774000,  777600,\n",
       "        781200,  784800,  788400,  792000,  795600,  799200,  802800,\n",
       "        806400,  810000,  813600,  817200,  820800,  824400,  828000,\n",
       "        831600,  835200,  838800,  842400,  846000,  849600,  853200,\n",
       "        856800,  860400,  864000,  867600,  871200,  874800,  878400,\n",
       "        882000,  885600,  889200,  892800,  896400,  900000,  903600,\n",
       "        907200,  910800,  914400,  918000,  921600,  925200,  928800,\n",
       "        932400,  936000,  939600,  943200,  946800,  950400,  954000,\n",
       "        957600,  961200,  964800,  968400,  972000,  975600,  979200,\n",
       "        982800,  986400,  990000,  993600,  997200, 1000800, 1004400,\n",
       "       1008000, 1011600, 1015200, 1018800, 1022400, 1026000, 1029600,\n",
       "       1033200, 1036800, 1040400, 1044000, 1047600, 1051200, 1054800,\n",
       "       1058400, 1062000, 1065600, 1069200, 1072800, 1076400, 1080000,\n",
       "       1083600, 1087200, 1090800, 1094400, 1098000, 1101600, 1105200,\n",
       "       1108800, 1112400, 1116000, 1119600, 1123200, 1126800, 1130400,\n",
       "       1134000, 1137600, 1141200, 1144800, 1148400, 1152000, 1155600,\n",
       "       1159200, 1162800, 1166400, 1170000, 1173600, 1177200, 1180800,\n",
       "       1184400, 1188000, 1191600, 1195200, 1198800, 1202400, 1206000,\n",
       "       1209600, 1213200, 1216800, 1220400, 1224000, 1227600, 1231200,\n",
       "       1234800, 1238400, 1242000, 1245600, 1249200, 1252800, 1256400,\n",
       "       1260000, 1263600, 1267200, 1270800, 1274400, 1278000, 1281600,\n",
       "       1285200, 1288800, 1292400, 1296000, 1299600, 1303200, 1306800,\n",
       "       1310400, 1314000, 1317600, 1321200, 1324800, 1328400, 1332000,\n",
       "       1335600, 1339200, 1342800, 1346400, 1350000, 1353600, 1357200,\n",
       "       1360800, 1364400, 1368000, 1371600, 1375200, 1378800, 1382400,\n",
       "       1386000, 1389600, 1393200, 1396800, 1400400, 1404000, 1407600,\n",
       "       1411200, 1414800, 1418400, 1422000, 1425600, 1429200, 1432800,\n",
       "       1436400, 1440000, 1443600, 1447200, 1450800, 1454400, 1458000,\n",
       "       1461600, 1465200, 1468800, 1472400, 1476000, 1479600, 1483200,\n",
       "       1486800, 1490400, 1494000, 1497600, 1501200, 1504800, 1508400,\n",
       "       1512000, 1515600, 1519200, 1522800, 1526400, 1530000, 1533600,\n",
       "       1537200, 1540800, 1544400, 1548000, 1551600, 1555200, 1558800,\n",
       "       1562400, 1566000, 1569600, 1573200, 1576800, 1580400, 1584000,\n",
       "       1587600, 1591200, 1594800, 1598400, 1602000, 1605600, 1609200,\n",
       "       1612800, 1616400, 1620000, 1623600, 1627200, 1630800, 1634400,\n",
       "       1638000, 1641600, 1645200, 1648800, 1652400, 1656000, 1659600,\n",
       "       1663200, 1666800, 1670400, 1674000, 1677600, 1681200, 1684800,\n",
       "       1688400, 1692000, 1695600, 1699200, 1702800, 1706400, 1710000,\n",
       "       1713600, 1717200, 1720800, 1724400, 1728000, 1731600, 1735200,\n",
       "       1738800, 1742400, 1746000, 1749600, 1753200, 1756800, 1760400,\n",
       "       1764000, 1767600, 1771200, 1774800, 1778400, 1782000, 1785600,\n",
       "       1789200, 1792800, 1796400, 1800000, 1803600, 1807200, 1810800,\n",
       "       1814400, 1818000, 1821600, 1825200, 1828800, 1832400, 1836000,\n",
       "       1839600, 1843200, 1846800, 1850400, 1854000, 1857600, 1861200,\n",
       "       1864800, 1868400, 1872000, 1875600, 1879200, 1882800, 1886400,\n",
       "       1890000, 1893600, 1897200, 1900800, 1904400, 1908000, 1911600,\n",
       "       1915200, 1918800, 1922400, 1926000, 1929600, 1933200, 1936800,\n",
       "       1940400, 1944000, 1947600, 1951200, 1954800, 1958400, 1962000,\n",
       "       1965600, 1969200, 1972800, 1976400, 1980000, 1983600, 1987200,\n",
       "       1990800, 1994400, 1998000, 2001600, 2005200, 2008800, 2012400,\n",
       "       2016000, 2019600, 2023200, 2026800, 2030400, 2034000, 2037600,\n",
       "       2041200, 2044800, 2048400, 2052000, 2055600, 2059200, 2062800,\n",
       "       2066400, 2070000, 2073600, 2077200, 2080800, 2084400, 2088000,\n",
       "       2091600, 2095200, 2098800, 2102400, 2106000, 2109600, 2113200,\n",
       "       2116800, 2120400, 2124000, 2127600, 2131200, 2134800, 2138400,\n",
       "       2142000, 2145600, 2149200, 2152800, 2156400, 2160000, 2163600,\n",
       "       2167200, 2170800, 2174400, 2178000, 2181600, 2185200, 2188800,\n",
       "       2192400, 2196000, 2199600, 2203200, 2206800, 2210400, 2214000,\n",
       "       2217600, 2221200, 2224800, 2228400, 2232000, 2235600, 2239200,\n",
       "       2242800, 2246400, 2250000, 2253600, 2257200, 2260800, 2264400,\n",
       "       2268000, 2271600, 2275200, 2278800, 2282400, 2286000, 2289600,\n",
       "       2293200, 2296800, 2300400, 2304000, 2307600, 2311200, 2314800,\n",
       "       2318400, 2322000, 2325600, 2329200, 2332800, 2336400, 2340000,\n",
       "       2343600, 2347200, 2350800, 2354400, 2358000, 2361600, 2365200,\n",
       "       2368800, 2372400, 2376000, 2379600, 2383200, 2386800, 2390400,\n",
       "       2394000, 2397600, 2401200, 2404800, 2408400, 2412000, 2415600,\n",
       "       2419200, 2422800, 2426400, 2430000, 2433600, 2437200, 2440800,\n",
       "       2444400, 2448000, 2451600, 2455200, 2458800, 2462400, 2466000,\n",
       "       2469600, 2473200, 2476800, 2480400, 2484000, 2487600, 2491200,\n",
       "       2494800, 2498400, 2502000, 2505600, 2509200, 2512800, 2516400,\n",
       "       2520000, 2523600, 2527200, 2530800, 2534400, 2538000, 2541600,\n",
       "       2545200, 2548800, 2552400, 2556000, 2559600, 2563200, 2566800,\n",
       "       2570400, 2574000, 2577600, 2581200, 2584800, 2588400, 2592000,\n",
       "       2595600, 2599200, 2602800, 2606400, 2610000, 2613600, 2617200,\n",
       "       2620800, 2624400, 2628000, 2631600, 2635200, 2638800, 2642400,\n",
       "       2646000, 2649600, 2653200, 2656800, 2660400, 2664000, 2667600,\n",
       "       2671200, 2674800])"
      ]
     },
     "execution_count": 53,
     "metadata": {},
     "output_type": "execute_result"
    }
   ],
   "source": [
    "collection_times = np.arange(0, 31*24*60*60, 60*60) # SOLUTION\n",
    "collection_times"
   ]
  },
  {
   "cell_type": "markdown",
   "metadata": {},
   "source": [
    "<span style=\"color:blue\">**Question 5.2.1.**</span> Set `population_1973` to the world population in 1973, by getting the appropriate element from `population_amounts` using `item`.\n",
    "\n",
    "```\n",
    "BEGIN QUESTION\n",
    "name: q521\n",
    "```"
   ]
  },
  {
   "cell_type": "code",
   "execution_count": 63,
   "metadata": {},
   "outputs": [
    {
     "data": {
      "text/plain": [
       "3942096442"
      ]
     },
     "execution_count": 63,
     "metadata": {},
     "output_type": "execute_result"
    }
   ],
   "source": [
    "population_1973 = population_amounts.item(23) # SOLUTION\n",
    "population_1973"
   ]
  },
  {
   "cell_type": "markdown",
   "metadata": {},
   "source": [
    "But this is tedious and doesn't really take advantage of the fact that we are using a computer.\n",
    "\n",
    "Instead, NumPy provides its own version of `log10` that takes the logarithm of each element of an array.  It takes a single array of numbers as its argument.  It returns an array of the same length, where the first element of the result is the logarithm of the first element of the argument, and so on.\n",
    "\n",
    "<span style=\"color:blue\">**Question 5.3.1.**</span> Use `np.log10` to compute the logarithms of the world population in every year.  Give the result (an array of 66 numbers) the name `population_magnitudes`.  Your code should be very short.\n",
    "\n",
    "```\n",
    "BEGIN QUESTION\n",
    "name: q531\n",
    "```"
   ]
  },
  {
   "cell_type": "code",
   "execution_count": 66,
   "metadata": {},
   "outputs": [
    {
     "data": {
      "text/plain": [
       "array([9.40783749, 9.4141273 , 9.42107263, 9.42846742, 9.43619893,\n",
       "       9.44437257, 9.45259897, 9.46110062, 9.4695477 , 9.47722498,\n",
       "       9.48330217, 9.48910971, 9.49694254, 9.50648175, 9.51603288,\n",
       "       9.5251    , 9.53411218, 9.54286695, 9.55173218, 9.56076229,\n",
       "       9.56968959, 9.57867667, 9.58732573, 9.59572724, 9.60385954,\n",
       "       9.61162595, 9.61911264, 9.62655434, 9.63388293, 9.64137633,\n",
       "       9.64849299, 9.6565208 , 9.66413091, 9.67170374, 9.67893421,\n",
       "       9.68632006, 9.69377717, 9.70132621, 9.70880804, 9.7161236 ,\n",
       "       9.72336995, 9.73010253, 9.73688521, 9.74337399, 9.74963446,\n",
       "       9.75581413, 9.7618858 , 9.76774733, 9.77343633, 9.77902438,\n",
       "       9.7845154 , 9.78994853, 9.7953249 , 9.80062024, 9.80588805,\n",
       "       9.81110861, 9.81632507, 9.82150788, 9.82666101, 9.83175555,\n",
       "       9.83672482, 9.84161319, 9.84648243, 9.85132122, 9.85604719,\n",
       "       9.8607266 ])"
      ]
     },
     "execution_count": 66,
     "metadata": {},
     "output_type": "execute_result"
    }
   ],
   "source": [
    "population_magnitudes = np.log10(population_amounts) # SOLUTION\n",
    "population_magnitudes"
   ]
  },
  {
   "cell_type": "markdown",
   "metadata": {},
   "source": [
    "<img src=\"array_multiplication.jpg\">\n",
    "\n",
    "<span style=\"color:blue\">**Question 5.3.2.**</span> Suppose the total charge at a restaurant is the original bill plus the tip. If the tip is 20%, that means we can multiply the original bill by 1.2 to get the total charge.  Compute the total charge for each bill in `restaurant_bills`, and assign the resulting array to `total_charges`.\n",
    "\n",
    "```\n",
    "BEGIN QUESTION\n",
    "name: q532\n",
    "```"
   ]
  },
  {
   "cell_type": "code",
   "execution_count": 71,
   "metadata": {},
   "outputs": [
    {
     "data": {
      "text/plain": [
       "array([24.144, 47.88 , 37.212])"
      ]
     },
     "execution_count": 71,
     "metadata": {},
     "output_type": "execute_result"
    }
   ],
   "source": [
    "total_charges = 1.2 * restaurant_bills # SOLUTION\n",
    "total_charges"
   ]
  },
  {
   "cell_type": "markdown",
   "metadata": {},
   "source": [
    "<span style=\"color:blue\">**Question 5.3.3.**</span> The array `more_restaurant_bills` contains 100,000 bills!  Compute the total charge for each one.  How is your code different?\n",
    "\n",
    "```\n",
    "BEGIN QUESTION\n",
    "name: q533\n",
    "```"
   ]
  },
  {
   "cell_type": "code",
   "execution_count": 73,
   "metadata": {},
   "outputs": [
    {
     "data": {
      "text/plain": [
       "array([20.244, 20.892, 12.216, ..., 19.308, 18.336, 35.664])"
      ]
     },
     "execution_count": 73,
     "metadata": {},
     "output_type": "execute_result"
    }
   ],
   "source": [
    "more_restaurant_bills = Table.read_table(\"more_restaurant_bills.csv\").column(\"Bill\")\n",
    "more_total_charges = 1.2 * more_restaurant_bills # SOLUTION\n",
    "more_total_charges"
   ]
  },
  {
   "cell_type": "markdown",
   "metadata": {},
   "source": [
    "The function `sum` takes a single array of numbers as its argument.  It returns the sum of all the numbers in that array (so it returns a single number, not an array).\n",
    "\n",
    "<span style=\"color:blue\">**Question 5.3.4.**</span> What was the sum of all the bills in `more_restaurant_bills`, *including tips*?\n",
    "\n",
    "```\n",
    "BEGIN QUESTION\n",
    "name: q534\n",
    "```"
   ]
  },
  {
   "cell_type": "code",
   "execution_count": 76,
   "metadata": {},
   "outputs": [
    {
     "data": {
      "text/plain": [
       "1795730.0640000193"
      ]
     },
     "execution_count": 76,
     "metadata": {},
     "output_type": "execute_result"
    }
   ],
   "source": [
    "sum_of_bills = sum(more_total_charges) # SOLUTION\n",
    "sum_of_bills"
   ]
  },
  {
   "cell_type": "markdown",
   "metadata": {},
   "source": [
    "<span style=\"color:blue\">**Question 5.3.5.**</span> The powers of 2 ($2^0 = 1$, $2^1 = 2$, $2^2 = 4$, etc) arise frequently in computer science.  (For example, you may have noticed that storage on smartphones or USB flash drives come in powers of 2, like 16 GB, 32 GB, or 64 GB.)  Use `np.arange` and the exponentiation operator `**` to compute the first 30 powers of 2, starting from `2^0`.\n",
    "\n",
    "*Hint 1:* `np.arange(1, 2**30, 1)` creates an array with $2^{30}$ elements and **will crash your kernel**. That's a lot of elements!\n",
    "\n",
    "*Hint 2:* Part of your solution will involve `np.arange`, but your array shouldn't have more than 30 elements.\n",
    "\n",
    "```\n",
    "BEGIN QUESTION\n",
    "name: q535\n",
    "```"
   ]
  },
  {
   "cell_type": "code",
   "execution_count": 78,
   "metadata": {},
   "outputs": [
    {
     "data": {
      "text/plain": [
       "array([        1,         2,         4,         8,        16,        32,\n",
       "              64,       128,       256,       512,      1024,      2048,\n",
       "            4096,      8192,     16384,     32768,     65536,    131072,\n",
       "          262144,    524288,   1048576,   2097152,   4194304,   8388608,\n",
       "        16777216,  33554432,  67108864, 134217728, 268435456, 536870912])"
      ]
     },
     "execution_count": 78,
     "metadata": {},
     "output_type": "execute_result"
    }
   ],
   "source": [
    "powers_of_2 = 2 ** np.arange(30) # SOLUTION\n",
    "powers_of_2"
   ]
  },
  {
   "cell_type": "markdown",
   "metadata": {},
   "source": [
    "Now the data is combined into a single table! It's much easier to parse this data. If you need to know what the population was in 1959, for example, you can tell from a single glance."
   ]
  },
  {
   "cell_type": "markdown",
   "metadata": {},
   "source": [
    "<span style=\"color:blue\">**Question 6.0.1**</span> In the cell below, we've created 2 arrays. Using the steps above, assign `top_10_movies` to a table that has two columns called \"Rating\" and \"Name\", which hold `top_10_movie_ratings` and `top_10_movie_names` respectively.\n",
    "\n",
    "```\n",
    "BEGIN QUESTION\n",
    "name: q61\n",
    "```"
   ]
  },
  {
   "cell_type": "code",
   "execution_count": 82,
   "metadata": {},
   "outputs": [
    {
     "data": {
      "text/html": [
       "<table border=\"1\" class=\"dataframe\">\n",
       "    <thead>\n",
       "        <tr>\n",
       "            <th>Rating</th> <th>Name</th>\n",
       "        </tr>\n",
       "    </thead>\n",
       "    <tbody>\n",
       "        <tr>\n",
       "            <td>9.2   </td> <td>The Shawshank Redemption (1994)                         </td>\n",
       "        </tr>\n",
       "        <tr>\n",
       "            <td>9.2   </td> <td>The Godfather (1972)                                    </td>\n",
       "        </tr>\n",
       "        <tr>\n",
       "            <td>9     </td> <td>The Godfather: Part II (1974)                           </td>\n",
       "        </tr>\n",
       "        <tr>\n",
       "            <td>8.9   </td> <td>Pulp Fiction (1994)                                     </td>\n",
       "        </tr>\n",
       "        <tr>\n",
       "            <td>8.9   </td> <td>Schindler's List (1993)                                 </td>\n",
       "        </tr>\n",
       "        <tr>\n",
       "            <td>8.9   </td> <td>The Lord of the Rings: The Return of the King (2003)    </td>\n",
       "        </tr>\n",
       "        <tr>\n",
       "            <td>8.9   </td> <td>12 Angry Men (1957)                                     </td>\n",
       "        </tr>\n",
       "        <tr>\n",
       "            <td>8.9   </td> <td>The Dark Knight (2008)                                  </td>\n",
       "        </tr>\n",
       "        <tr>\n",
       "            <td>8.9   </td> <td>Il buono, il brutto, il cattivo (1966)                  </td>\n",
       "        </tr>\n",
       "        <tr>\n",
       "            <td>8.8   </td> <td>The Lord of the Rings: The Fellowship of the Ring (2001)</td>\n",
       "        </tr>\n",
       "    </tbody>\n",
       "</table>"
      ],
      "text/plain": [
       "Rating | Name\n",
       "9.2    | The Shawshank Redemption (1994)\n",
       "9.2    | The Godfather (1972)\n",
       "9      | The Godfather: Part II (1974)\n",
       "8.9    | Pulp Fiction (1994)\n",
       "8.9    | Schindler's List (1993)\n",
       "8.9    | The Lord of the Rings: The Return of the King (2003)\n",
       "8.9    | 12 Angry Men (1957)\n",
       "8.9    | The Dark Knight (2008)\n",
       "8.9    | Il buono, il brutto, il cattivo (1966)\n",
       "8.8    | The Lord of the Rings: The Fellowship of the Ring (2001)"
      ]
     },
     "execution_count": 82,
     "metadata": {},
     "output_type": "execute_result"
    }
   ],
   "source": [
    "top_10_movie_ratings = make_array(9.2, 9.2, 9., 8.9, 8.9, 8.9, 8.9, 8.9, 8.9, 8.8)\n",
    "top_10_movie_names = make_array(\n",
    "        'The Shawshank Redemption (1994)',\n",
    "        'The Godfather (1972)',\n",
    "        'The Godfather: Part II (1974)',\n",
    "        'Pulp Fiction (1994)',\n",
    "        \"Schindler's List (1993)\",\n",
    "        'The Lord of the Rings: The Return of the King (2003)',\n",
    "        '12 Angry Men (1957)',\n",
    "        'The Dark Knight (2008)',\n",
    "        'Il buono, il brutto, il cattivo (1966)',\n",
    "        'The Lord of the Rings: The Fellowship of the Ring (2001)')\n",
    "\n",
    "top_10_movies = Table().with_columns(\"Rating\", top_10_movie_ratings, \"Name\", top_10_movie_names) # SOLUTION\n",
    "\n",
    "# We've put this next line here \n",
    "# so your table will get printed out \n",
    "# when you run this cell.\n",
    "top_10_movies"
   ]
  },
  {
   "cell_type": "markdown",
   "metadata": {},
   "source": [
    "#### Loading a table from a file\n",
    "\n",
    "In most cases, we aren't going to go through the trouble of typing in all the data manually. Instead, we load them in from an external source, like a data file. There are many formats for data files, but CSV (\"comma-separated values\") is the most common. \n",
    "\n",
    "`Table.read_table(...)` takes one argument (a path to a data file in string format) and returns a table.  \n",
    "\n",
    "*Hint: You might be super familiar with this method from the demo video Intro to Tables!*\n",
    "\n",
    "<span style=\"color:blue\">**Question 6.0.2** Remember from earlier in the lab -- `imdb.csv` contains a table of information about the 250 highest-rated movies on IMDb.  Load it as a table called `imdb`. We've actually done this eariler in an above cell!\n",
    "\n",
    "```\n",
    "BEGIN QUESTION\n",
    "name: q62\n",
    "```"
   ]
  },
  {
   "cell_type": "code",
   "execution_count": 85,
   "metadata": {},
   "outputs": [
    {
     "data": {
      "text/html": [
       "<table border=\"1\" class=\"dataframe\">\n",
       "    <thead>\n",
       "        <tr>\n",
       "            <th>Votes</th> <th>Rating</th> <th>Title</th> <th>Year</th> <th>Decade</th>\n",
       "        </tr>\n",
       "    </thead>\n",
       "    <tbody>\n",
       "        <tr>\n",
       "            <td>88355 </td> <td>8.4   </td> <td>M                    </td> <td>1931</td> <td>1930  </td>\n",
       "        </tr>\n",
       "        <tr>\n",
       "            <td>132823</td> <td>8.3   </td> <td>Singin' in the Rain  </td> <td>1952</td> <td>1950  </td>\n",
       "        </tr>\n",
       "        <tr>\n",
       "            <td>74178 </td> <td>8.3   </td> <td>All About Eve        </td> <td>1950</td> <td>1950  </td>\n",
       "        </tr>\n",
       "        <tr>\n",
       "            <td>635139</td> <td>8.6   </td> <td>Léon                 </td> <td>1994</td> <td>1990  </td>\n",
       "        </tr>\n",
       "        <tr>\n",
       "            <td>145514</td> <td>8.2   </td> <td>The Elephant Man     </td> <td>1980</td> <td>1980  </td>\n",
       "        </tr>\n",
       "        <tr>\n",
       "            <td>425461</td> <td>8.3   </td> <td>Full Metal Jacket    </td> <td>1987</td> <td>1980  </td>\n",
       "        </tr>\n",
       "        <tr>\n",
       "            <td>441174</td> <td>8.1   </td> <td>Gone Girl            </td> <td>2014</td> <td>2010  </td>\n",
       "        </tr>\n",
       "        <tr>\n",
       "            <td>850601</td> <td>8.3   </td> <td>Batman Begins        </td> <td>2005</td> <td>2000  </td>\n",
       "        </tr>\n",
       "        <tr>\n",
       "            <td>37664 </td> <td>8.2   </td> <td>Judgment at Nuremberg</td> <td>1961</td> <td>1960  </td>\n",
       "        </tr>\n",
       "        <tr>\n",
       "            <td>46987 </td> <td>8     </td> <td>Relatos salvajes     </td> <td>2014</td> <td>2010  </td>\n",
       "        </tr>\n",
       "    </tbody>\n",
       "</table>\n",
       "<p>... (240 rows omitted)</p>"
      ],
      "text/plain": [
       "Votes  | Rating | Title                 | Year | Decade\n",
       "88355  | 8.4    | M                     | 1931 | 1930\n",
       "132823 | 8.3    | Singin' in the Rain   | 1952 | 1950\n",
       "74178  | 8.3    | All About Eve         | 1950 | 1950\n",
       "635139 | 8.6    | Léon                  | 1994 | 1990\n",
       "145514 | 8.2    | The Elephant Man      | 1980 | 1980\n",
       "425461 | 8.3    | Full Metal Jacket     | 1987 | 1980\n",
       "441174 | 8.1    | Gone Girl             | 2014 | 2010\n",
       "850601 | 8.3    | Batman Begins         | 2005 | 2000\n",
       "37664  | 8.2    | Judgment at Nuremberg | 1961 | 1960\n",
       "46987  | 8      | Relatos salvajes      | 2014 | 2010\n",
       "... (240 rows omitted)"
      ]
     },
     "execution_count": 85,
     "metadata": {},
     "output_type": "execute_result"
    }
   ],
   "source": [
    "imdb = Table.read_table('imdb.csv') # SOLUTION\n",
    "imdb"
   ]
  },
  {
   "cell_type": "markdown",
   "metadata": {},
   "source": [
    "<span style=\"color:blue\">**Question 7.0.1**</span> Check out the `population` table from section 2 of this lab.  Compute the year when the world population first went above 6 billion. Assign the year to `year_population_crossed_6_billion`.\n",
    "\n",
    "```\n",
    "BEGIN QUESTION\n",
    "name: q71\n",
    "```"
   ]
  },
  {
   "cell_type": "code",
   "execution_count": 92,
   "metadata": {},
   "outputs": [
    {
     "data": {
      "text/plain": [
       "1999"
      ]
     },
     "execution_count": 92,
     "metadata": {},
     "output_type": "execute_result"
    }
   ],
   "source": [
    "year_population_crossed_6_billion = population.where('Population', are.above_or_equal_to(6*10**9)).column('Year').item(0) # SOLUTION\n",
    "year_population_crossed_6_billion"
   ]
  },
  {
   "cell_type": "markdown",
   "metadata": {},
   "source": [
    "<span style=\"color:blue\">**Question 7.0.2**</span> Find the average rating for movies released before the year 2000 and the average rating for movies released in the year 2000 or after for the movies in `imdb`.\n",
    "\n",
    "*Hint*: Think of the steps you need to do (take the average, find the ratings, find movies released in 20th/21st centuries), and try to put them in an order that makes sense.\n",
    "\n",
    "```\n",
    "BEGIN QUESTION\n",
    "name: q72\n",
    "```"
   ]
  },
  {
   "cell_type": "code",
   "execution_count": 95,
   "metadata": {},
   "outputs": [
    {
     "name": "stdout",
     "output_type": "stream",
     "text": [
      "Average before 2000 rating: 8.278362573099415\n",
      "Average after or in 2000 rating: 8.237974683544303\n"
     ]
    }
   ],
   "source": [
    "before_2000 = np.mean(imdb.where('Year', are.below(2000)).column('Rating')) # SOLUTION\n",
    "after_or_in_2000 = np.mean(imdb.where('Year', are.above_or_equal_to(2000)).column('Rating')) # SOLUTION\n",
    "print(\"Average before 2000 rating:\", before_2000)\n",
    "print(\"Average after or in 2000 rating:\", after_or_in_2000)"
   ]
  },
  {
   "cell_type": "markdown",
   "metadata": {},
   "source": [
    "<span style=\"color:blue\">**Question 7.0.3**</span> Here's a challenge: Find the number of movies that came out in *even* years.\n",
    "\n",
    "*Hint:* The operator `%` computes the remainder when dividing by a number.  So `5 % 2` is 1 and `6 % 2` is 0.  A number is even if the remainder is 0 when you divide by 2.\n",
    "\n",
    "*Hint 2:* `%` can be used on arrays, operating elementwise like `+` or `*`.  So `make_array(5, 6, 7) % 2` is `array([1, 0, 1])`.\n",
    "\n",
    "*Hint 3:* Create a column called \"Year Remainder\" that's the remainder when each movie's release year is divided by 2.  Make a copy of `imdb` that includes that column (`imdb.with_column(...)` returns a new table).  Then use `where` to find rows where that new column is equal to 0.  Then use `num_rows` to count the number of such rows.\n",
    "\n",
    "*Note:* These steps can be chained in one single statement, or broken up across several lines with intermediate names assigned. You’re always welcome to break down problems however you wish!\n",
    "\n",
    "```\n",
    "BEGIN QUESTION\n",
    "name: q73\n",
    "```"
   ]
  },
  {
   "cell_type": "code",
   "execution_count": 98,
   "metadata": {},
   "outputs": [
    {
     "data": {
      "text/plain": [
       "127"
      ]
     },
     "execution_count": 98,
     "metadata": {},
     "output_type": "execute_result"
    }
   ],
   "source": [
    "num_even_year_movies = imdb.with_column(\"Year Remainder\", imdb.column(\"Year\") % 2).where(\"Year Remainder\", are.equal_to(0)).num_rows # SOLUTION\n",
    "num_even_year_movies"
   ]
  }
 ],
 "metadata": {
  "celltoolbar": "Edit Metadata",
  "history": [
   {
    "code": "# Just run this cell\n\nimport numpy as np\nfrom datascience import *\n\n\n# These lines load the tests.\n# When you log-in please hit return (not shift + return) after typing in your email\n",
    "id": "38b63798e7304efb8cd8b1a7a52bcddb",
    "idx": 2,
    "time": "2021-02-16T04:53:03.752Z",
    "type": "execution"
   },
   {
    "id": "38b63798e7304efb8cd8b1a7a52bcddb",
    "time": "2021-02-16T04:53:09.673Z",
    "type": "completion"
   },
   {
    "code": "near_twenty = radius**2 * math.pi # SOLUTION\nnear_twenty",
    "id": "14c3280f0b54464c85242ba22e7381f1",
    "idx": 12,
    "time": "2021-02-16T08:11:29.080Z",
    "type": "execution"
   },
   {
    "id": "14c3280f0b54464c85242ba22e7381f1",
    "time": "2021-02-16T08:11:29.250Z",
    "type": "completion"
   },
   {
    "code": "# Just run this cell\n\nimport numpy as np\nfrom datascience import *\n\n\n# These lines load the tests.\n# When you log-in please hit return (not shift + return) after typing in your email\n",
    "id": "9104c45c29614eb686d57e49e14e386c",
    "idx": 2,
    "time": "2021-02-16T08:11:36.571Z",
    "type": "execution"
   },
   {
    "code": "new_year = 2020 # SOLUTION\nnew_year",
    "id": "6b6244eb0cb14ef88c50c8077c4a1025",
    "idx": 5,
    "time": "2021-02-16T08:11:36.574Z",
    "type": "execution"
   },
   {
    "code": "#HIDDEN TEST\nnew_year == 2020",
    "id": "cd56254d288b462ba94fb43c0ebc1359",
    "idx": 6,
    "time": "2021-02-16T08:11:36.576Z",
    "type": "execution"
   },
   {
    "code": "import math\nradius = 5\narea_of_circle = radius**2 * math.pi\narea_of_circle",
    "id": "c4b687e408d5479abdc414b6c633c026",
    "idx": 9,
    "time": "2021-02-16T08:11:36.579Z",
    "type": "execution"
   },
   {
    "id": "9104c45c29614eb686d57e49e14e386c",
    "time": "2021-02-16T08:11:38.880Z",
    "type": "completion"
   },
   {
    "id": "6b6244eb0cb14ef88c50c8077c4a1025",
    "time": "2021-02-16T08:11:38.885Z",
    "type": "completion"
   },
   {
    "id": "cd56254d288b462ba94fb43c0ebc1359",
    "time": "2021-02-16T08:11:38.922Z",
    "type": "completion"
   },
   {
    "id": "c4b687e408d5479abdc414b6c633c026",
    "time": "2021-02-16T08:11:38.924Z",
    "type": "completion"
   },
   {
    "code": "near_twenty = radius**2 * math.pi # SOLUTION\nnear_twenty",
    "id": "14c3280f0b54464c85242ba22e7381f1",
    "idx": 12,
    "time": "2021-02-16T08:11:41.398Z",
    "type": "execution"
   },
   {
    "id": "14c3280f0b54464c85242ba22e7381f1",
    "time": "2021-02-16T08:11:41.473Z",
    "type": "completion"
   },
   {
    "code": "# TEST\nround(near_twenty, 8)",
    "id": "a458fc90b75d459785aaf63c1b17a80b",
    "idx": 13,
    "time": "2021-02-16T08:12:21.539Z",
    "type": "execution"
   },
   {
    "id": "a458fc90b75d459785aaf63c1b17a80b",
    "time": "2021-02-16T08:12:21.600Z",
    "type": "completion"
   },
   {
    "code": "near_twenty = math.e ** math.pi - math.pi # SOLUTION\nnear_twenty",
    "id": "14c3280f0b54464c85242ba22e7381f1",
    "idx": 12,
    "time": "2021-02-16T08:13:23.657Z",
    "type": "execution"
   },
   {
    "id": "14c3280f0b54464c85242ba22e7381f1",
    "time": "2021-02-16T08:13:23.739Z",
    "type": "completion"
   },
   {
    "code": "# TEST\nround(near_twenty, 8)",
    "id": "a458fc90b75d459785aaf63c1b17a80b",
    "idx": 13,
    "time": "2021-02-16T08:13:30.429Z",
    "type": "execution"
   },
   {
    "id": "a458fc90b75d459785aaf63c1b17a80b",
    "time": "2021-02-16T08:13:30.497Z",
    "type": "completion"
   },
   {
    "code": "sine_of_pi_over_four = math.sin(math.pi / 4) # SOLUTION\nsine_of_pi_over_four",
    "id": "309cf9facf204c5fbca06e9109147fe8",
    "idx": 16,
    "time": "2021-02-16T08:14:40.418Z",
    "type": "execution"
   },
   {
    "id": "309cf9facf204c5fbca06e9109147fe8",
    "time": "2021-02-16T08:14:40.489Z",
    "type": "completion"
   },
   {
    "code": "# TEST\n# Hint: You can write the sine of 1.5*pi as:\n#   math.sin(1.5 * math.pi)\nimport math\nround(sine_of_pi_over_four, 8)",
    "id": "534b367c21944f3488de2187b6fa31d5",
    "idx": 17,
    "time": "2021-02-16T08:15:39.172Z",
    "type": "execution"
   },
   {
    "id": "534b367c21944f3488de2187b6fa31d5",
    "time": "2021-02-16T08:15:39.240Z",
    "type": "completion"
   },
   {
    "code": "# Calculating logarithms (the logarithm of 8 in base 2).\n# The result is 3 because 2 to the power of 3 is 8.\nmath.log(8, 2)",
    "id": "7c67ab3427ba49888e871707bac58449",
    "idx": 19,
    "time": "2021-02-16T08:16:01.798Z",
    "type": "execution"
   },
   {
    "id": "7c67ab3427ba49888e871707bac58449",
    "time": "2021-02-16T08:16:01.874Z",
    "type": "completion"
   },
   {
    "code": "# Calculating square roots.\nmath.sqrt(5)",
    "id": "8e618a8ace414fa38f6f2c3aaf4711cc",
    "idx": 20,
    "time": "2021-02-16T08:16:04.705Z",
    "type": "execution"
   },
   {
    "id": "8e618a8ace414fa38f6f2c3aaf4711cc",
    "time": "2021-02-16T08:16:04.790Z",
    "type": "completion"
   },
   {
    "code": "# Importing just cos and pi from math.\n# We don't have to use `math.` in front of cos or pi\nfrom math import cos, pi\nprint(cos(pi))\n\n# We do have to use it in front of other functions from math, though\nmath.log(pi)",
    "id": "2aac6edd752f464a8577596dc7b10c1b",
    "idx": 22,
    "time": "2021-02-16T08:16:10.269Z",
    "type": "execution"
   },
   {
    "id": "2aac6edd752f464a8577596dc7b10c1b",
    "time": "2021-02-16T08:16:10.357Z",
    "type": "completion"
   },
   {
    "code": "# Lastly, we can import everything from math using the *\n# Once again, we don't have to use 'math.' beforehand \nfrom math import *\nlog(pi)",
    "id": "161f5c794d4847f2898fd15871db4b2d",
    "idx": 24,
    "time": "2021-02-16T08:16:11.168Z",
    "type": "execution"
   },
   {
    "id": "161f5c794d4847f2898fd15871db4b2d",
    "time": "2021-02-16T08:16:11.232Z",
    "type": "completion"
   },
   {
    "code": "# Just run this cell\n\nfarmers_markets = Table.read_table('farmers_markets.csv')",
    "id": "d71d39971a3b4765834a26779cba57d3",
    "idx": 27,
    "time": "2021-02-16T08:16:16.949Z",
    "type": "execution"
   },
   {
    "id": "d71d39971a3b4765834a26779cba57d3",
    "time": "2021-02-16T08:16:17.584Z",
    "type": "completion"
   },
   {
    "code": "num_farmers_markets_columns = farmers_markets.num_columns # SOLUTION\nprint(\"The table has\", num_farmers_markets_columns, \"columns in it!\")",
    "id": "f1d8353ea3fe4174a10df0c70119b860",
    "idx": 31,
    "time": "2021-02-16T08:21:57.979Z",
    "type": "execution"
   },
   {
    "id": "f1d8353ea3fe4174a10df0c70119b860",
    "time": "2021-02-16T08:21:58.069Z",
    "type": "completion"
   },
   {
    "code": "# HIDDEN TEST\nnum_farmers_markets_columns == 59",
    "id": "c576cbb902764c24aa4f0beb55a685b8",
    "idx": 32,
    "time": "2021-02-16T08:22:37.649Z",
    "type": "execution"
   },
   {
    "id": "c576cbb902764c24aa4f0beb55a685b8",
    "time": "2021-02-16T08:22:37.736Z",
    "type": "completion"
   },
   {
    "code": "# Just run this cell\n\nnum_farmers_markets_rows = farmers_markets.num_rows\nprint(\"The table has\", num_farmers_markets_rows, \"rows in it!\")",
    "id": "d78045d1705748b388e0738c7b903124",
    "idx": 34,
    "time": "2021-02-16T08:22:44.968Z",
    "type": "execution"
   },
   {
    "id": "d78045d1705748b388e0738c7b903124",
    "time": "2021-02-16T08:22:45.045Z",
    "type": "completion"
   },
   {
    "code": "farmers_markets_locations = farmers_markets.select(\"city\", \"State\", \"y\", \"MarketName\", \"x\") # SOLUTION\nfarmers_markets_locations",
    "id": "c661c0d5ebac486b88bac48a85d7193c",
    "idx": 36,
    "time": "2021-02-16T08:24:34.269Z",
    "type": "execution"
   },
   {
    "id": "c661c0d5ebac486b88bac48a85d7193c",
    "time": "2021-02-16T08:24:34.383Z",
    "type": "completion"
   },
   {
    "code": "# TEST\nsorted(farmers_markets_locations.labels)",
    "id": "90060034698440a484cc2a1c89d0a4f2",
    "idx": 37,
    "time": "2021-02-16T08:25:36.293Z",
    "type": "execution"
   },
   {
    "id": "90060034698440a484cc2a1c89d0a4f2",
    "time": "2021-02-16T08:25:36.392Z",
    "type": "completion"
   },
   {
    "code": "# HIDDEN TEST\nsorted(farmers_markets_locations.labels) == ['MarketName', 'State', 'city', 'x', 'y']",
    "id": "90060034698440a484cc2a1c89d0a4f2",
    "idx": 37,
    "time": "2021-02-16T08:26:04.025Z",
    "type": "execution"
   },
   {
    "id": "90060034698440a484cc2a1c89d0a4f2",
    "time": "2021-02-16T08:26:04.097Z",
    "type": "completion"
   },
   {
    "code": "# TEST\nfarmers_markets_locations.num_rows == 8546",
    "id": "6915a30f7e704a7b8af96316833f29ca",
    "idx": 38,
    "time": "2021-02-16T08:26:30.404Z",
    "type": "execution"
   },
   {
    "id": "6915a30f7e704a7b8af96316833f29ca",
    "time": "2021-02-16T08:26:30.478Z",
    "type": "completion"
   },
   {
    "code": "# TEST\nsorted(farmers_markets_locations.labels) == ['MarketName', 'State', 'city', 'x', 'y']",
    "id": "90060034698440a484cc2a1c89d0a4f2",
    "idx": 37,
    "time": "2021-02-16T08:26:36.934Z",
    "type": "execution"
   },
   {
    "id": "90060034698440a484cc2a1c89d0a4f2",
    "time": "2021-02-16T08:26:37.004Z",
    "type": "completion"
   },
   {
    "code": "# TEST\nfarmers_markets_locations.num_rows == 8546",
    "id": "6915a30f7e704a7b8af96316833f29ca",
    "idx": 38,
    "time": "2021-02-16T08:26:37.511Z",
    "type": "execution"
   },
   {
    "id": "6915a30f7e704a7b8af96316833f29ca",
    "time": "2021-02-16T08:26:37.599Z",
    "type": "completion"
   },
   {
    "code": "# HIDDEN TEST\nsorted(farmers_markets_locations.labels) == ['MarketName', 'State', 'city', 'x', 'y']",
    "id": "90060034698440a484cc2a1c89d0a4f2",
    "idx": 37,
    "time": "2021-02-16T08:26:50.086Z",
    "type": "execution"
   },
   {
    "id": "90060034698440a484cc2a1c89d0a4f2",
    "time": "2021-02-16T08:26:50.156Z",
    "type": "completion"
   },
   {
    "code": "# TEST\nfarmers_markets_locations.num_rows == 8546",
    "id": "6915a30f7e704a7b8af96316833f29ca",
    "idx": 38,
    "time": "2021-02-16T08:26:52.154Z",
    "type": "execution"
   },
   {
    "id": "6915a30f7e704a7b8af96316833f29ca",
    "time": "2021-02-16T08:26:52.227Z",
    "type": "completion"
   },
   {
    "code": "farmers_markets_without_fmid = farmers_markets.drop(\"FMID\", \"updateTime\") # SOLUTION\nfarmers_markets_without_fmid",
    "id": "88e101833a3a43f281c8fbe4e5edc41d",
    "idx": 40,
    "time": "2021-02-16T08:28:08.077Z",
    "type": "execution"
   },
   {
    "id": "88e101833a3a43f281c8fbe4e5edc41d",
    "time": "2021-02-16T08:28:10.051Z",
    "type": "completion"
   },
   {
    "code": "# TEST\nfarmers_markets_without_fmid.num_columns",
    "id": "0107ee9d3b6d42b795d6cfe3f4ec045d",
    "idx": 41,
    "time": "2021-02-16T08:29:01.460Z",
    "type": "execution"
   },
   {
    "id": "0107ee9d3b6d42b795d6cfe3f4ec045d",
    "time": "2021-02-16T08:29:01.527Z",
    "type": "completion"
   },
   {
    "code": "# TEST\nfarmers_markets_without_fmid.num_columns == 57",
    "id": "0107ee9d3b6d42b795d6cfe3f4ec045d",
    "idx": 41,
    "time": "2021-02-16T08:29:06.489Z",
    "type": "execution"
   },
   {
    "id": "0107ee9d3b6d42b795d6cfe3f4ec045d",
    "time": "2021-02-16T08:29:06.573Z",
    "type": "completion"
   },
   {
    "code": "# TEST\nprint(sorted(farmers_markets_without_fmid.labels))",
    "id": "a1399913244f44e6a9e7801dd9b67ba7",
    "idx": 42,
    "time": "2021-02-16T08:30:09.349Z",
    "type": "execution"
   },
   {
    "id": "a1399913244f44e6a9e7801dd9b67ba7",
    "time": "2021-02-16T08:30:09.437Z",
    "type": "completion"
   },
   {
    "code": "farmers_markets_locations.sort('x')",
    "id": "4d95bd7f16da4005ba887722861a39dd",
    "idx": 44,
    "time": "2021-02-16T08:30:20.125Z",
    "type": "execution"
   },
   {
    "id": "4d95bd7f16da4005ba887722861a39dd",
    "time": "2021-02-16T08:30:20.238Z",
    "type": "completion"
   },
   {
    "code": "farmers_markets_locations.sort('x', descending=True)",
    "id": "4bb9cd749f8a45b49221d5adc37ee3f6",
    "idx": 46,
    "time": "2021-02-16T08:30:24.250Z",
    "type": "execution"
   },
   {
    "id": "4bb9cd749f8a45b49221d5adc37ee3f6",
    "time": "2021-02-16T08:30:24.336Z",
    "type": "completion"
   },
   {
    "code": "farmers_markets_locations_by_latitude = farmers_markets_locations.sort('y', descending = True) # SOLUTION\nfarmers_markets_locations_by_latitude",
    "id": "c97efa93abf4478aaed3a0c0af8f3446",
    "idx": 48,
    "time": "2021-02-16T08:31:49.614Z",
    "type": "execution"
   },
   {
    "id": "c97efa93abf4478aaed3a0c0af8f3446",
    "time": "2021-02-16T08:31:49.718Z",
    "type": "completion"
   },
   {
    "code": "# TEST\ntype(farmers_markets_locations_by_latitude) == tables.Table",
    "id": "c79101f0a71a42d8a252e4da2cb8f841",
    "idx": 49,
    "time": "2021-02-16T08:32:26.295Z",
    "type": "execution"
   },
   {
    "id": "c79101f0a71a42d8a252e4da2cb8f841",
    "time": "2021-02-16T08:32:26.360Z",
    "type": "completion"
   },
   {
    "code": "# TEST\nlist(farmers_markets_locations_by_latitude.column('y').take(range(3)))",
    "id": "ecdc073691ad4db783cf43f2ed31c132",
    "idx": 50,
    "time": "2021-02-16T08:32:42.926Z",
    "type": "execution"
   },
   {
    "id": "ecdc073691ad4db783cf43f2ed31c132",
    "time": "2021-02-16T08:32:43.860Z",
    "type": "completion"
   },
   {
    "code": "# HIDDEN TEST\nsorted(farmers_markets_locations.labels)",
    "id": "90060034698440a484cc2a1c89d0a4f2",
    "idx": 37,
    "time": "2021-02-16T08:33:17.072Z",
    "type": "execution"
   },
   {
    "id": "90060034698440a484cc2a1c89d0a4f2",
    "time": "2021-02-16T08:33:17.280Z",
    "type": "completion"
   },
   {
    "code": "berkeley_markets = california_farmers_markets.where('city', are.equal_to(\"Berkeley\")) # SOLUTION\nberkeley_markets",
    "id": "ed886e4d66b048178c9e9840557fdf4b",
    "idx": 56,
    "time": "2021-02-16T08:34:30.821Z",
    "type": "execution"
   },
   {
    "id": "ed886e4d66b048178c9e9840557fdf4b",
    "time": "2021-02-16T08:34:31.045Z",
    "type": "completion"
   },
   {
    "code": "# Just run this cell\n\nimport numpy as np\nfrom datascience import *\n\n\n# These lines load the tests.\n# When you log-in please hit return (not shift + return) after typing in your email\n",
    "id": "9104c45c29614eb686d57e49e14e386c",
    "idx": 2,
    "time": "2021-02-16T08:34:37.329Z",
    "type": "execution"
   },
   {
    "code": "new_year = 2020 # SOLUTION\nnew_year",
    "id": "6b6244eb0cb14ef88c50c8077c4a1025",
    "idx": 5,
    "time": "2021-02-16T08:34:37.332Z",
    "type": "execution"
   },
   {
    "code": "#HIDDEN TEST\nnew_year == 2020",
    "id": "cd56254d288b462ba94fb43c0ebc1359",
    "idx": 6,
    "time": "2021-02-16T08:34:37.333Z",
    "type": "execution"
   },
   {
    "code": "import math\nradius = 5\narea_of_circle = radius**2 * math.pi\narea_of_circle",
    "id": "c4b687e408d5479abdc414b6c633c026",
    "idx": 9,
    "time": "2021-02-16T08:34:37.335Z",
    "type": "execution"
   },
   {
    "code": "near_twenty = math.e ** math.pi - math.pi # SOLUTION\nnear_twenty",
    "id": "14c3280f0b54464c85242ba22e7381f1",
    "idx": 12,
    "time": "2021-02-16T08:34:37.337Z",
    "type": "execution"
   },
   {
    "code": "# TEST\nround(near_twenty, 8)",
    "id": "a458fc90b75d459785aaf63c1b17a80b",
    "idx": 13,
    "time": "2021-02-16T08:34:37.339Z",
    "type": "execution"
   },
   {
    "code": "sine_of_pi_over_four = math.sin(math.pi / 4) # SOLUTION\nsine_of_pi_over_four",
    "id": "309cf9facf204c5fbca06e9109147fe8",
    "idx": 16,
    "time": "2021-02-16T08:34:37.364Z",
    "type": "execution"
   },
   {
    "code": "# TEST\n# Hint: You can write the sine of 1.5*pi as:\n#   math.sin(1.5 * math.pi)\nimport math\nround(sine_of_pi_over_four, 8)",
    "id": "534b367c21944f3488de2187b6fa31d5",
    "idx": 17,
    "time": "2021-02-16T08:34:37.366Z",
    "type": "execution"
   },
   {
    "code": "# Calculating logarithms (the logarithm of 8 in base 2).\n# The result is 3 because 2 to the power of 3 is 8.\nmath.log(8, 2)",
    "id": "7c67ab3427ba49888e871707bac58449",
    "idx": 19,
    "time": "2021-02-16T08:34:37.368Z",
    "type": "execution"
   },
   {
    "code": "# Calculating square roots.\nmath.sqrt(5)",
    "id": "8e618a8ace414fa38f6f2c3aaf4711cc",
    "idx": 20,
    "time": "2021-02-16T08:34:37.369Z",
    "type": "execution"
   },
   {
    "code": "# Importing just cos and pi from math.\n# We don't have to use `math.` in front of cos or pi\nfrom math import cos, pi\nprint(cos(pi))\n\n# We do have to use it in front of other functions from math, though\nmath.log(pi)",
    "id": "2aac6edd752f464a8577596dc7b10c1b",
    "idx": 22,
    "time": "2021-02-16T08:34:37.371Z",
    "type": "execution"
   },
   {
    "code": "# Lastly, we can import everything from math using the *\n# Once again, we don't have to use 'math.' beforehand \nfrom math import *\nlog(pi)",
    "id": "161f5c794d4847f2898fd15871db4b2d",
    "idx": 24,
    "time": "2021-02-16T08:34:37.372Z",
    "type": "execution"
   },
   {
    "code": "# Just run this cell\n\nfarmers_markets = Table.read_table('farmers_markets.csv')",
    "id": "d71d39971a3b4765834a26779cba57d3",
    "idx": 27,
    "time": "2021-02-16T08:34:37.374Z",
    "type": "execution"
   },
   {
    "code": "farmers_markets.show(5) # SOLUTION",
    "id": "221a7797806447ff84de2dd296fa365b",
    "idx": 29,
    "time": "2021-02-16T08:34:37.378Z",
    "type": "execution"
   },
   {
    "code": "num_farmers_markets_columns = farmers_markets.num_columns # SOLUTION\nprint(\"The table has\", num_farmers_markets_columns, \"columns in it!\")",
    "id": "f1d8353ea3fe4174a10df0c70119b860",
    "idx": 31,
    "time": "2021-02-16T08:34:37.379Z",
    "type": "execution"
   },
   {
    "code": "# HIDDEN TEST\nnum_farmers_markets_columns == 59",
    "id": "c576cbb902764c24aa4f0beb55a685b8",
    "idx": 32,
    "time": "2021-02-16T08:34:37.382Z",
    "type": "execution"
   },
   {
    "code": "# Just run this cell\n\nnum_farmers_markets_rows = farmers_markets.num_rows\nprint(\"The table has\", num_farmers_markets_rows, \"rows in it!\")",
    "id": "d78045d1705748b388e0738c7b903124",
    "idx": 34,
    "time": "2021-02-16T08:34:37.383Z",
    "type": "execution"
   },
   {
    "code": "farmers_markets_locations = farmers_markets.select(\"city\", \"State\", \"y\", \"MarketName\", \"x\") # SOLUTION\nfarmers_markets_locations",
    "id": "c661c0d5ebac486b88bac48a85d7193c",
    "idx": 36,
    "time": "2021-02-16T08:34:37.385Z",
    "type": "execution"
   },
   {
    "code": "# HIDDEN TEST\nsorted(farmers_markets_locations.labels)",
    "id": "90060034698440a484cc2a1c89d0a4f2",
    "idx": 37,
    "time": "2021-02-16T08:34:37.387Z",
    "type": "execution"
   },
   {
    "code": "# TEST\nfarmers_markets_locations.num_rows == 8546",
    "id": "6915a30f7e704a7b8af96316833f29ca",
    "idx": 38,
    "time": "2021-02-16T08:34:37.388Z",
    "type": "execution"
   },
   {
    "code": "farmers_markets_without_fmid = farmers_markets.drop(\"FMID\", \"updateTime\") # SOLUTION\nfarmers_markets_without_fmid",
    "id": "88e101833a3a43f281c8fbe4e5edc41d",
    "idx": 40,
    "time": "2021-02-16T08:34:37.392Z",
    "type": "execution"
   },
   {
    "code": "# TEST\nfarmers_markets_without_fmid.num_columns == 57",
    "id": "0107ee9d3b6d42b795d6cfe3f4ec045d",
    "idx": 41,
    "time": "2021-02-16T08:34:37.393Z",
    "type": "execution"
   },
   {
    "code": "# TEST\nprint(sorted(farmers_markets_without_fmid.labels))",
    "id": "a1399913244f44e6a9e7801dd9b67ba7",
    "idx": 42,
    "time": "2021-02-16T08:34:37.394Z",
    "type": "execution"
   },
   {
    "code": "farmers_markets_locations.sort('x')",
    "id": "4d95bd7f16da4005ba887722861a39dd",
    "idx": 44,
    "time": "2021-02-16T08:34:37.396Z",
    "type": "execution"
   },
   {
    "code": "farmers_markets_locations.sort('x', descending=True)",
    "id": "4bb9cd749f8a45b49221d5adc37ee3f6",
    "idx": 46,
    "time": "2021-02-16T08:34:37.399Z",
    "type": "execution"
   },
   {
    "code": "farmers_markets_locations_by_latitude = farmers_markets_locations.sort('y', descending = True) # SOLUTION\nfarmers_markets_locations_by_latitude",
    "id": "c97efa93abf4478aaed3a0c0af8f3446",
    "idx": 48,
    "time": "2021-02-16T08:34:37.400Z",
    "type": "execution"
   },
   {
    "code": "# TEST\ntype(farmers_markets_locations_by_latitude) == tables.Table",
    "id": "c79101f0a71a42d8a252e4da2cb8f841",
    "idx": 49,
    "time": "2021-02-16T08:34:37.402Z",
    "type": "execution"
   },
   {
    "code": "# TEST\nlist(farmers_markets_locations_by_latitude.column('y').take(range(3)))",
    "id": "ecdc073691ad4db783cf43f2ed31c132",
    "idx": 50,
    "time": "2021-02-16T08:34:37.405Z",
    "type": "execution"
   },
   {
    "code": "california_farmers_markets = farmers_markets_locations.where('State', are.equal_to('California'))\ncalifornia_farmers_markets",
    "id": "d6b1384d7d5442408204eac1fa8ae4ae",
    "idx": 52,
    "time": "2021-02-16T08:34:37.407Z",
    "type": "execution"
   },
   {
    "id": "9104c45c29614eb686d57e49e14e386c",
    "time": "2021-02-16T08:34:37.491Z",
    "type": "completion"
   },
   {
    "id": "6b6244eb0cb14ef88c50c8077c4a1025",
    "time": "2021-02-16T08:34:37.494Z",
    "type": "completion"
   },
   {
    "id": "cd56254d288b462ba94fb43c0ebc1359",
    "time": "2021-02-16T08:34:37.496Z",
    "type": "completion"
   },
   {
    "id": "c4b687e408d5479abdc414b6c633c026",
    "time": "2021-02-16T08:34:37.497Z",
    "type": "completion"
   },
   {
    "id": "14c3280f0b54464c85242ba22e7381f1",
    "time": "2021-02-16T08:34:37.500Z",
    "type": "completion"
   },
   {
    "id": "a458fc90b75d459785aaf63c1b17a80b",
    "time": "2021-02-16T08:34:37.526Z",
    "type": "completion"
   },
   {
    "id": "309cf9facf204c5fbca06e9109147fe8",
    "time": "2021-02-16T08:34:37.558Z",
    "type": "completion"
   },
   {
    "id": "534b367c21944f3488de2187b6fa31d5",
    "time": "2021-02-16T08:34:37.560Z",
    "type": "completion"
   },
   {
    "id": "7c67ab3427ba49888e871707bac58449",
    "time": "2021-02-16T08:34:37.582Z",
    "type": "completion"
   },
   {
    "id": "8e618a8ace414fa38f6f2c3aaf4711cc",
    "time": "2021-02-16T08:34:37.606Z",
    "type": "completion"
   },
   {
    "id": "2aac6edd752f464a8577596dc7b10c1b",
    "time": "2021-02-16T08:34:37.655Z",
    "type": "completion"
   },
   {
    "id": "161f5c794d4847f2898fd15871db4b2d",
    "time": "2021-02-16T08:34:37.665Z",
    "type": "completion"
   },
   {
    "id": "d71d39971a3b4765834a26779cba57d3",
    "time": "2021-02-16T08:34:38.110Z",
    "type": "completion"
   },
   {
    "id": "221a7797806447ff84de2dd296fa365b",
    "time": "2021-02-16T08:34:38.123Z",
    "type": "completion"
   },
   {
    "id": "f1d8353ea3fe4174a10df0c70119b860",
    "time": "2021-02-16T08:34:38.162Z",
    "type": "completion"
   },
   {
    "id": "c576cbb902764c24aa4f0beb55a685b8",
    "time": "2021-02-16T08:34:38.164Z",
    "type": "completion"
   },
   {
    "id": "d78045d1705748b388e0738c7b903124",
    "time": "2021-02-16T08:34:38.188Z",
    "type": "completion"
   },
   {
    "id": "c661c0d5ebac486b88bac48a85d7193c",
    "time": "2021-02-16T08:34:38.238Z",
    "type": "completion"
   },
   {
    "id": "90060034698440a484cc2a1c89d0a4f2",
    "time": "2021-02-16T08:34:38.242Z",
    "type": "completion"
   },
   {
    "id": "6915a30f7e704a7b8af96316833f29ca",
    "time": "2021-02-16T08:34:38.269Z",
    "type": "completion"
   },
   {
    "id": "88e101833a3a43f281c8fbe4e5edc41d",
    "time": "2021-02-16T08:34:38.438Z",
    "type": "completion"
   },
   {
    "id": "0107ee9d3b6d42b795d6cfe3f4ec045d",
    "time": "2021-02-16T08:34:38.479Z",
    "type": "completion"
   },
   {
    "id": "a1399913244f44e6a9e7801dd9b67ba7",
    "time": "2021-02-16T08:34:38.482Z",
    "type": "completion"
   },
   {
    "id": "4d95bd7f16da4005ba887722861a39dd",
    "time": "2021-02-16T08:34:38.527Z",
    "type": "completion"
   },
   {
    "id": "4bb9cd749f8a45b49221d5adc37ee3f6",
    "time": "2021-02-16T08:34:38.531Z",
    "type": "completion"
   },
   {
    "id": "c97efa93abf4478aaed3a0c0af8f3446",
    "time": "2021-02-16T08:34:38.562Z",
    "type": "completion"
   },
   {
    "id": "c79101f0a71a42d8a252e4da2cb8f841",
    "time": "2021-02-16T08:34:38.567Z",
    "type": "completion"
   },
   {
    "id": "ecdc073691ad4db783cf43f2ed31c132",
    "time": "2021-02-16T08:34:38.570Z",
    "type": "completion"
   },
   {
    "id": "d6b1384d7d5442408204eac1fa8ae4ae",
    "time": "2021-02-16T08:34:38.624Z",
    "type": "completion"
   },
   {
    "code": "berkeley_markets = california_farmers_markets.where('city', are.equal_to(\"Berkeley\")) # SOLUTION\nberkeley_markets",
    "id": "ed886e4d66b048178c9e9840557fdf4b",
    "idx": 56,
    "time": "2021-02-16T08:34:41.451Z",
    "type": "execution"
   },
   {
    "id": "ed886e4d66b048178c9e9840557fdf4b",
    "time": "2021-02-16T08:34:41.595Z",
    "type": "completion"
   },
   {
    "code": "# TEST\nberkeley_markets.num_rows == 3",
    "id": "9549beef875c4953ab13e533d42edd71",
    "idx": 57,
    "time": "2021-02-16T08:35:17.237Z",
    "type": "execution"
   },
   {
    "id": "9549beef875c4953ab13e533d42edd71",
    "time": "2021-02-16T08:35:17.310Z",
    "type": "completion"
   },
   {
    "code": "# TEST\nlist(berkeley_markets.column('city')) == ['Berkeley', 'Berkeley', 'Berkeley']",
    "id": "9406b57a66ca4f209dd18789a0ac339c",
    "idx": 58,
    "time": "2021-02-16T08:35:51.241Z",
    "type": "execution"
   },
   {
    "id": "9406b57a66ca4f209dd18789a0ac339c",
    "time": "2021-02-16T08:35:51.328Z",
    "type": "completion"
   },
   {
    "code": "above_eight = imdb.where('Year', are.between(2010, 2017)).where('Rating', are.above(8)).select('Title', 'Rating') # SOLUTION\nabove_eight",
    "id": "0bdc63c61ddd4cfd8cc080152f5b8a5a",
    "idx": 65,
    "time": "2021-02-16T08:37:05.820Z",
    "type": "execution"
   },
   {
    "id": "0bdc63c61ddd4cfd8cc080152f5b8a5a",
    "time": "2021-02-16T08:37:05.956Z",
    "type": "completion"
   },
   {
    "code": "# Just run this cell\n\nimport numpy as np\nfrom datascience import *\n\n\n# These lines load the tests.\n# When you log-in please hit return (not shift + return) after typing in your email\n",
    "id": "9104c45c29614eb686d57e49e14e386c",
    "idx": 2,
    "time": "2021-02-16T08:37:10.041Z",
    "type": "execution"
   },
   {
    "code": "new_year = 2020 # SOLUTION\nnew_year",
    "id": "6b6244eb0cb14ef88c50c8077c4a1025",
    "idx": 5,
    "time": "2021-02-16T08:37:10.043Z",
    "type": "execution"
   },
   {
    "code": "#HIDDEN TEST\nnew_year == 2020",
    "id": "cd56254d288b462ba94fb43c0ebc1359",
    "idx": 6,
    "time": "2021-02-16T08:37:10.045Z",
    "type": "execution"
   },
   {
    "code": "import math\nradius = 5\narea_of_circle = radius**2 * math.pi\narea_of_circle",
    "id": "c4b687e408d5479abdc414b6c633c026",
    "idx": 9,
    "time": "2021-02-16T08:37:10.048Z",
    "type": "execution"
   },
   {
    "code": "near_twenty = math.e ** math.pi - math.pi # SOLUTION\nnear_twenty",
    "id": "14c3280f0b54464c85242ba22e7381f1",
    "idx": 12,
    "time": "2021-02-16T08:37:10.050Z",
    "type": "execution"
   },
   {
    "code": "# TEST\nround(near_twenty, 8)",
    "id": "a458fc90b75d459785aaf63c1b17a80b",
    "idx": 13,
    "time": "2021-02-16T08:37:10.051Z",
    "type": "execution"
   },
   {
    "code": "sine_of_pi_over_four = math.sin(math.pi / 4) # SOLUTION\nsine_of_pi_over_four",
    "id": "309cf9facf204c5fbca06e9109147fe8",
    "idx": 16,
    "time": "2021-02-16T08:37:10.053Z",
    "type": "execution"
   },
   {
    "code": "# TEST\n# Hint: You can write the sine of 1.5*pi as:\n#   math.sin(1.5 * math.pi)\nimport math\nround(sine_of_pi_over_four, 8)",
    "id": "534b367c21944f3488de2187b6fa31d5",
    "idx": 17,
    "time": "2021-02-16T08:37:10.055Z",
    "type": "execution"
   },
   {
    "code": "# Calculating logarithms (the logarithm of 8 in base 2).\n# The result is 3 because 2 to the power of 3 is 8.\nmath.log(8, 2)",
    "id": "7c67ab3427ba49888e871707bac58449",
    "idx": 19,
    "time": "2021-02-16T08:37:10.057Z",
    "type": "execution"
   },
   {
    "code": "# Calculating square roots.\nmath.sqrt(5)",
    "id": "8e618a8ace414fa38f6f2c3aaf4711cc",
    "idx": 20,
    "time": "2021-02-16T08:37:10.059Z",
    "type": "execution"
   },
   {
    "code": "# Importing just cos and pi from math.\n# We don't have to use `math.` in front of cos or pi\nfrom math import cos, pi\nprint(cos(pi))\n\n# We do have to use it in front of other functions from math, though\nmath.log(pi)",
    "id": "2aac6edd752f464a8577596dc7b10c1b",
    "idx": 22,
    "time": "2021-02-16T08:37:10.061Z",
    "type": "execution"
   },
   {
    "code": "# Lastly, we can import everything from math using the *\n# Once again, we don't have to use 'math.' beforehand \nfrom math import *\nlog(pi)",
    "id": "161f5c794d4847f2898fd15871db4b2d",
    "idx": 24,
    "time": "2021-02-16T08:37:10.063Z",
    "type": "execution"
   },
   {
    "code": "# Just run this cell\n\nfarmers_markets = Table.read_table('farmers_markets.csv')",
    "id": "d71d39971a3b4765834a26779cba57d3",
    "idx": 27,
    "time": "2021-02-16T08:37:10.065Z",
    "type": "execution"
   },
   {
    "code": "farmers_markets.show(5) # SOLUTION",
    "id": "221a7797806447ff84de2dd296fa365b",
    "idx": 29,
    "time": "2021-02-16T08:37:10.069Z",
    "type": "execution"
   },
   {
    "code": "num_farmers_markets_columns = farmers_markets.num_columns # SOLUTION\nprint(\"The table has\", num_farmers_markets_columns, \"columns in it!\")",
    "id": "f1d8353ea3fe4174a10df0c70119b860",
    "idx": 31,
    "time": "2021-02-16T08:37:10.070Z",
    "type": "execution"
   },
   {
    "code": "# HIDDEN TEST\nnum_farmers_markets_columns == 59",
    "id": "c576cbb902764c24aa4f0beb55a685b8",
    "idx": 32,
    "time": "2021-02-16T08:37:10.072Z",
    "type": "execution"
   },
   {
    "code": "# Just run this cell\n\nnum_farmers_markets_rows = farmers_markets.num_rows\nprint(\"The table has\", num_farmers_markets_rows, \"rows in it!\")",
    "id": "d78045d1705748b388e0738c7b903124",
    "idx": 34,
    "time": "2021-02-16T08:37:10.074Z",
    "type": "execution"
   },
   {
    "code": "farmers_markets_locations = farmers_markets.select(\"city\", \"State\", \"y\", \"MarketName\", \"x\") # SOLUTION\nfarmers_markets_locations",
    "id": "c661c0d5ebac486b88bac48a85d7193c",
    "idx": 36,
    "time": "2021-02-16T08:37:10.076Z",
    "type": "execution"
   },
   {
    "code": "# HIDDEN TEST\nsorted(farmers_markets_locations.labels)",
    "id": "90060034698440a484cc2a1c89d0a4f2",
    "idx": 37,
    "time": "2021-02-16T08:37:10.078Z",
    "type": "execution"
   },
   {
    "code": "# TEST\nfarmers_markets_locations.num_rows == 8546",
    "id": "6915a30f7e704a7b8af96316833f29ca",
    "idx": 38,
    "time": "2021-02-16T08:37:10.079Z",
    "type": "execution"
   },
   {
    "code": "farmers_markets_without_fmid = farmers_markets.drop(\"FMID\", \"updateTime\") # SOLUTION\nfarmers_markets_without_fmid",
    "id": "88e101833a3a43f281c8fbe4e5edc41d",
    "idx": 40,
    "time": "2021-02-16T08:37:10.084Z",
    "type": "execution"
   },
   {
    "code": "# TEST\nfarmers_markets_without_fmid.num_columns == 57",
    "id": "0107ee9d3b6d42b795d6cfe3f4ec045d",
    "idx": 41,
    "time": "2021-02-16T08:37:10.085Z",
    "type": "execution"
   },
   {
    "code": "# TEST\nprint(sorted(farmers_markets_without_fmid.labels))",
    "id": "a1399913244f44e6a9e7801dd9b67ba7",
    "idx": 42,
    "time": "2021-02-16T08:37:10.087Z",
    "type": "execution"
   },
   {
    "code": "farmers_markets_locations.sort('x')",
    "id": "4d95bd7f16da4005ba887722861a39dd",
    "idx": 44,
    "time": "2021-02-16T08:37:10.089Z",
    "type": "execution"
   },
   {
    "code": "farmers_markets_locations.sort('x', descending=True)",
    "id": "4bb9cd749f8a45b49221d5adc37ee3f6",
    "idx": 46,
    "time": "2021-02-16T08:37:10.091Z",
    "type": "execution"
   },
   {
    "code": "farmers_markets_locations_by_latitude = farmers_markets_locations.sort('y', descending = True) # SOLUTION\nfarmers_markets_locations_by_latitude",
    "id": "c97efa93abf4478aaed3a0c0af8f3446",
    "idx": 48,
    "time": "2021-02-16T08:37:10.092Z",
    "type": "execution"
   },
   {
    "code": "# TEST\ntype(farmers_markets_locations_by_latitude) == tables.Table",
    "id": "c79101f0a71a42d8a252e4da2cb8f841",
    "idx": 49,
    "time": "2021-02-16T08:37:10.094Z",
    "type": "execution"
   },
   {
    "code": "# TEST\nlist(farmers_markets_locations_by_latitude.column('y').take(range(3)))",
    "id": "ecdc073691ad4db783cf43f2ed31c132",
    "idx": 50,
    "time": "2021-02-16T08:37:10.096Z",
    "type": "execution"
   },
   {
    "code": "california_farmers_markets = farmers_markets_locations.where('State', are.equal_to('California'))\ncalifornia_farmers_markets",
    "id": "d6b1384d7d5442408204eac1fa8ae4ae",
    "idx": 52,
    "time": "2021-02-16T08:37:10.098Z",
    "type": "execution"
   },
   {
    "code": "berkeley_markets = california_farmers_markets.where('city', are.equal_to(\"Berkeley\")) # SOLUTION\nberkeley_markets",
    "id": "ed886e4d66b048178c9e9840557fdf4b",
    "idx": 56,
    "time": "2021-02-16T08:37:10.100Z",
    "type": "execution"
   },
   {
    "code": "# TEST\nberkeley_markets.num_rows == 3",
    "id": "9549beef875c4953ab13e533d42edd71",
    "idx": 57,
    "time": "2021-02-16T08:37:10.101Z",
    "type": "execution"
   },
   {
    "code": "# TEST\nlist(berkeley_markets.column('city')) == ['Berkeley', 'Berkeley', 'Berkeley']",
    "id": "9406b57a66ca4f209dd18789a0ac339c",
    "idx": 58,
    "time": "2021-02-16T08:37:10.103Z",
    "type": "execution"
   },
   {
    "code": "# Just run this cell\n\nimdb = Table.read_table('imdb.csv')\nimdb",
    "id": "1a5d75aab64340d386bcf9b8ed037ab5",
    "idx": 62,
    "time": "2021-02-16T08:37:10.105Z",
    "type": "execution"
   },
   {
    "id": "9104c45c29614eb686d57e49e14e386c",
    "time": "2021-02-16T08:37:10.146Z",
    "type": "completion"
   },
   {
    "id": "6b6244eb0cb14ef88c50c8077c4a1025",
    "time": "2021-02-16T08:37:10.149Z",
    "type": "completion"
   },
   {
    "id": "cd56254d288b462ba94fb43c0ebc1359",
    "time": "2021-02-16T08:37:10.172Z",
    "type": "completion"
   },
   {
    "id": "c4b687e408d5479abdc414b6c633c026",
    "time": "2021-02-16T08:37:10.217Z",
    "type": "completion"
   },
   {
    "id": "14c3280f0b54464c85242ba22e7381f1",
    "time": "2021-02-16T08:37:10.222Z",
    "type": "completion"
   },
   {
    "id": "a458fc90b75d459785aaf63c1b17a80b",
    "time": "2021-02-16T08:37:10.277Z",
    "type": "completion"
   },
   {
    "id": "309cf9facf204c5fbca06e9109147fe8",
    "time": "2021-02-16T08:37:10.306Z",
    "type": "completion"
   },
   {
    "id": "534b367c21944f3488de2187b6fa31d5",
    "time": "2021-02-16T08:37:10.346Z",
    "type": "completion"
   },
   {
    "id": "7c67ab3427ba49888e871707bac58449",
    "time": "2021-02-16T08:37:10.369Z",
    "type": "completion"
   },
   {
    "id": "8e618a8ace414fa38f6f2c3aaf4711cc",
    "time": "2021-02-16T08:37:10.393Z",
    "type": "completion"
   },
   {
    "id": "2aac6edd752f464a8577596dc7b10c1b",
    "time": "2021-02-16T08:37:10.401Z",
    "type": "completion"
   },
   {
    "id": "161f5c794d4847f2898fd15871db4b2d",
    "time": "2021-02-16T08:37:10.422Z",
    "type": "completion"
   },
   {
    "id": "d71d39971a3b4765834a26779cba57d3",
    "time": "2021-02-16T08:37:10.762Z",
    "type": "completion"
   },
   {
    "id": "221a7797806447ff84de2dd296fa365b",
    "time": "2021-02-16T08:37:10.810Z",
    "type": "completion"
   },
   {
    "id": "f1d8353ea3fe4174a10df0c70119b860",
    "time": "2021-02-16T08:37:10.812Z",
    "type": "completion"
   },
   {
    "id": "c576cbb902764c24aa4f0beb55a685b8",
    "time": "2021-02-16T08:37:10.814Z",
    "type": "completion"
   },
   {
    "id": "d78045d1705748b388e0738c7b903124",
    "time": "2021-02-16T08:37:10.846Z",
    "type": "completion"
   },
   {
    "id": "c661c0d5ebac486b88bac48a85d7193c",
    "time": "2021-02-16T08:37:10.880Z",
    "type": "completion"
   },
   {
    "id": "90060034698440a484cc2a1c89d0a4f2",
    "time": "2021-02-16T08:37:10.903Z",
    "type": "completion"
   },
   {
    "id": "6915a30f7e704a7b8af96316833f29ca",
    "time": "2021-02-16T08:37:10.929Z",
    "type": "completion"
   },
   {
    "id": "88e101833a3a43f281c8fbe4e5edc41d",
    "time": "2021-02-16T08:37:11.140Z",
    "type": "completion"
   },
   {
    "id": "0107ee9d3b6d42b795d6cfe3f4ec045d",
    "time": "2021-02-16T08:37:11.146Z",
    "type": "completion"
   },
   {
    "id": "a1399913244f44e6a9e7801dd9b67ba7",
    "time": "2021-02-16T08:37:11.148Z",
    "type": "completion"
   },
   {
    "id": "4d95bd7f16da4005ba887722861a39dd",
    "time": "2021-02-16T08:37:11.151Z",
    "type": "completion"
   },
   {
    "id": "4bb9cd749f8a45b49221d5adc37ee3f6",
    "time": "2021-02-16T08:37:11.177Z",
    "type": "completion"
   },
   {
    "id": "c97efa93abf4478aaed3a0c0af8f3446",
    "time": "2021-02-16T08:37:11.227Z",
    "type": "completion"
   },
   {
    "id": "c79101f0a71a42d8a252e4da2cb8f841",
    "time": "2021-02-16T08:37:11.229Z",
    "type": "completion"
   },
   {
    "id": "ecdc073691ad4db783cf43f2ed31c132",
    "time": "2021-02-16T08:37:11.259Z",
    "type": "completion"
   },
   {
    "id": "d6b1384d7d5442408204eac1fa8ae4ae",
    "time": "2021-02-16T08:37:11.288Z",
    "type": "completion"
   },
   {
    "id": "ed886e4d66b048178c9e9840557fdf4b",
    "time": "2021-02-16T08:37:11.295Z",
    "type": "completion"
   },
   {
    "id": "9549beef875c4953ab13e533d42edd71",
    "time": "2021-02-16T08:37:11.298Z",
    "type": "completion"
   },
   {
    "id": "9406b57a66ca4f209dd18789a0ac339c",
    "time": "2021-02-16T08:37:11.324Z",
    "type": "completion"
   },
   {
    "id": "1a5d75aab64340d386bcf9b8ed037ab5",
    "time": "2021-02-16T08:37:11.375Z",
    "type": "completion"
   },
   {
    "code": "above_eight = imdb.where('Year', are.between(2010, 2017)).where('Rating', are.above(8)).select('Title', 'Rating') # SOLUTION\nabove_eight",
    "id": "0bdc63c61ddd4cfd8cc080152f5b8a5a",
    "idx": 65,
    "time": "2021-02-16T08:37:13.832Z",
    "type": "execution"
   },
   {
    "id": "0bdc63c61ddd4cfd8cc080152f5b8a5a",
    "time": "2021-02-16T08:37:13.908Z",
    "type": "completion"
   },
   {
    "code": "# TEST\nabove_eight.num_rows == 20",
    "id": "f8c595cf25f342fe8ae63ba0fa78b906",
    "idx": 66,
    "time": "2021-02-16T08:38:01.173Z",
    "type": "execution"
   },
   {
    "id": "f8c595cf25f342fe8ae63ba0fa78b906",
    "time": "2021-02-16T08:38:01.305Z",
    "type": "completion"
   },
   {
    "code": "# TEST\ntype(above_eight) == tables.Table",
    "id": "f8c595cf25f342fe8ae63ba0fa78b906",
    "idx": 66,
    "time": "2021-02-16T08:38:31.611Z",
    "type": "execution"
   },
   {
    "id": "f8c595cf25f342fe8ae63ba0fa78b906",
    "time": "2021-02-16T08:38:31.685Z",
    "type": "completion"
   },
   {
    "code": "# TEST\nabove_eight.num_rows == 20",
    "id": "8aa9c1defa0d425b9895cf473178fe8f",
    "idx": 67,
    "time": "2021-02-16T08:38:32.171Z",
    "type": "execution"
   },
   {
    "id": "8aa9c1defa0d425b9895cf473178fe8f",
    "time": "2021-02-16T08:38:32.295Z",
    "type": "completion"
   },
   {
    "code": "# TEST\n# Make sure your columns are in the right order!\n# First column should be 'Title', second column should be 'Rating'\nprint(above_eight.sort(0).take([17]))",
    "id": "d129b87619634c298f5e616c6b5411e1",
    "idx": 68,
    "time": "2021-02-16T08:39:13.833Z",
    "type": "execution"
   },
   {
    "id": "d129b87619634c298f5e616c6b5411e1",
    "time": "2021-02-16T08:39:13.897Z",
    "type": "completion"
   },
   {
    "code": "num_movies_in_dataset = imdb.num_rows # SOLUTION\nnum_in_20th_century = imdb.where('Year', are.below(2000)).num_rows # SOLUTION\nnum_in_21st_century = imdb.where('Year', are.above_or_equal_to(2000)).num_rows # SOLUTION\nproportion_in_20th_century = num_in_20th_century / num_movies_in_dataset # SOLUTION\nproportion_in_21st_century = num_in_21st_century / num_movies_in_dataset # SOLUTION\nprint(\"Proportion in 20th century:\", proportion_in_20th_century)\nprint(\"Proportion in 21st century:\", proportion_in_21st_century)",
    "id": "971381be596347fba06f2b4905874100",
    "idx": 70,
    "time": "2021-02-16T08:41:30.945Z",
    "type": "execution"
   },
   {
    "id": "971381be596347fba06f2b4905874100",
    "time": "2021-02-16T08:41:31.032Z",
    "type": "completion"
   },
   {
    "code": "# HIDDEN TEST\nproportion_in_20th_century == 0.684",
    "id": "28fb10b6b71f407a9c6689b9c4b352f7",
    "idx": 71,
    "time": "2021-02-16T08:42:01.990Z",
    "type": "execution"
   },
   {
    "id": "28fb10b6b71f407a9c6689b9c4b352f7",
    "time": "2021-02-16T08:42:03.529Z",
    "type": "completion"
   },
   {
    "code": "# HIDDEN TEST\nproportion_in_21st_century == 0.316",
    "id": "d3e1ba07ac3347b295d42fbb8a0bf6ef",
    "idx": 72,
    "time": "2021-02-16T08:42:23.363Z",
    "type": "execution"
   },
   {
    "id": "d3e1ba07ac3347b295d42fbb8a0bf6ef",
    "time": "2021-02-16T08:42:23.425Z",
    "type": "completion"
   }
  ],
  "interpreter": {
   "hash": "4cd7ab41f5fca4b9b44701077e38c5ffd31fe66a6cab21e0214b68d958d0e462"
  },
  "kernelspec": {
   "display_name": "Python 3",
   "language": "python",
   "name": "python3"
  },
  "language_info": {
   "codemirror_mode": {
    "name": "ipython",
    "version": 3
   },
   "file_extension": ".py",
   "mimetype": "text/x-python",
   "name": "python",
   "nbconvert_exporter": "python",
   "pygments_lexer": "ipython3",
   "version": "3.8.10"
  }
 },
 "nbformat": 4,
 "nbformat_minor": 2
}
