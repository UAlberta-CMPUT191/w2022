{
 "cells": [
  {
   "cell_type": "code",
   "execution_count": null,
   "metadata": {
    "deletable": false,
    "editable": false
   },
   "outputs": [],
   "source": [
    "# Initialize Otter\n",
    "import otter\n",
    "grader = otter.Notebook(\"lab_2.ipynb\")"
   ]
  },
  {
   "cell_type": "markdown",
   "metadata": {},
   "source": [
    "# Lab 2: Data Types, Arrays, and Table operations\n",
    "\n",
    "Now that you've made it through the first bit of classes, welcome to Lab 2!  \n",
    "\n",
    "#### Today's lab:\n",
    "\n",
    "In today's lab, you'll go over:\n",
    "* a review on some of the Python building blocks we went over last week\n",
    "* how to import a module in Python\n",
    "* practice with table operations\n",
    "* basic analysis upon our table data\n",
    "\n",
    "Recommended Reading:\n",
    " * [Introduction to Tables](https://www.inferentialthinking.com/chapters/03/4/Introduction_to_Tables)\n",
    " \n",
    "Recommended Videos:\n",
    " * Intro to Python\n",
    " * Intro to Tables\n",
    "\n",
    "First, set up the tests and imports by running the cell below."
   ]
  },
  {
   "cell_type": "code",
   "execution_count": null,
   "metadata": {},
   "outputs": [],
   "source": [
    "# Just run this cell\n",
    "\n",
    "import numpy as np\n",
    "import math\n",
    "from datascience import *\n",
    "\n",
    "# These lines load the tests.\n",
    "# When you log-in please hit return (not shift + return) after typing in your email\n"
   ]
  },
  {
   "cell_type": "markdown",
   "metadata": {},
   "source": [
    "## 1. Review: The building blocks of Python code\n",
    "\n",
    "If any of this terminology is still feeling a little fresh, feel free to refer back to the demo videos and relevant textbook chapters to help you work through the assignment! And of course, reach out to a TA if you're feeling stuck. \n",
    "\n",
    "Rememeber that the two building blocks of Python code are *expressions* and *statements*.  An **expression** is a piece of code that\n",
    "\n",
    "* is self-contained, meaning it would make sense to write it on a line by itself, and\n",
    "* usually evaluates to a value.\n",
    "\n",
    "\n",
    "Here are two expressions that both evaluate to 3:\n",
    "\n",
    "    3\n",
    "    5 - 2\n",
    "    \n",
    "One important type of expression is the **call expression**, (sometimes also referred to as a function call). A call expression begins with the name of a function and is followed by the argument(s) of that function in parentheses. The function returns some value, based on its arguments. Some important mathematical functions are listed below.\n",
    "\n",
    "| Function | Description                                                   |\n",
    "|----------|---------------------------------------------------------------|\n",
    "| `abs`      | Returns the absolute value of its argument                    |\n",
    "| `max`      | Returns the maximum of all its arguments                      |\n",
    "| `min`      | Returns the minimum of all its arguments                      |\n",
    "| `pow`      | Raises its first argument to the power of its second argument |\n",
    "| `round`    | Rounds its argument to the nearest integer                     |\n",
    "\n",
    "Here are two call expressions that both evaluate to 3:\n",
    "\n",
    "    abs(2 - 5)\n",
    "    max(round(2.8), min(pow(2, 10), -1 * pow(2, 10)))\n",
    "\n",
    "The expression `2 - 5` and the two call expressions given above are examples of **compound expressions**, meaning that they are actually combinations of several smaller expressions.  `2 - 5` combines the expressions `2` and `5` by subtraction.  In this case, `2` and `5` are called **subexpressions** because they're expressions that are part of a larger expression. \n",
    "\n",
    "A **statement** is a whole line of code.  Some statements are just expressions.  The expressions listed above are examples.\n",
    "\n",
    "Other statements *make something happen* rather than *having a value*. For example, an **assignment statement** assigns a value to a name. \n",
    "\n",
    "A good way to think about this is that we're **evaluating the right-hand side** of the equals sign and **assigning it to the left-hand side**. Here are some assignment statements:\n",
    "    \n",
    "    height = 1.3\n",
    "    the_number_five = abs(-5)\n",
    "    absolute_height_difference = abs(height - 1.688)\n",
    "\n",
    "An important idea in programming is that large, interesting things can be built by combining many simple, uninteresting things.  The key to understanding a complicated piece of code is breaking it down into its simple components.\n",
    "\n",
    "For example, a lot is going on in the last statement above, but it's really just a combination of a few things.  This picture describes what's going on.\n",
    "\n",
    "<img src=\"statement.png\">"
   ]
  },
  {
   "cell_type": "markdown",
   "metadata": {
    "deletable": false,
    "editable": false
   },
   "source": [
    "<span style=\"color:blue\">**Question 1.0.1**</span> In the next cell, assign the name `new_year` to the larger among the following two numbers:\n",
    "\n",
    "1. the **absolute value** of $2^{5}-2^{11}-2^1-3 $, and \n",
    "2. $5 \\times 13 \\times 31 + 7$.\n",
    "\n",
    "Try to use just one statement (one line of code). Be sure to check your work by executing the test cell afterward.\n",
    "\n",
    "<!--\n",
    "BEGIN QUESTION\n",
    "name: q11\n",
    "-->"
   ]
  },
  {
   "cell_type": "code",
   "execution_count": null,
   "metadata": {},
   "outputs": [],
   "source": [
    "new_year = ...\n",
    "new_year"
   ]
  },
  {
   "cell_type": "code",
   "execution_count": null,
   "metadata": {
    "deletable": false,
    "editable": false
   },
   "outputs": [],
   "source": [
    "grader.check(\"q11\")"
   ]
  },
  {
   "cell_type": "markdown",
   "metadata": {},
   "source": [
    "We've asked you to use one line of code in the question above because it only involves mathematical operations. However, more complicated programming questions will more require more steps. It isn’t always a good idea to jam these steps into a single line because it can make the code harder to read and harder to debug.\n",
    "\n",
    "Good programming practice involves splitting up your code into smaller steps and using appropriate names. You'll have plenty of practice in the rest of this course!"
   ]
  },
  {
   "cell_type": "markdown",
   "metadata": {},
   "source": [
    "## 2. Importing Code\n",
    "\n",
    "![imports](https://external-preview.redd.it/ZVPjiFo_Ubl4JeiU63SaTjdIoq5zveSnNZimKpgn2I8.png?auto=webp&s=bf32c94b630befa121075c1ae99b2599af6dedc5) \n",
    "\n",
    "[Source](https://www.reddit.com/r/ProgrammerHumor/comments/cgtk7s/theres_no_need_to_reinvent_the_wheel_oc/)\n",
    "\n",
    "Most programming involves work that is very similar to work that has been done before.  Since writing code is time-consuming, it's good to rely on others' published code when you can.  Rather than copy-pasting, Python allows us to **import modules**. A module is a file with Python code that has defined variables and functions. By importing a module, we are able to use its code in our own notebook.\n",
    "\n",
    "Python includes many useful modules that are just an `import` away.  We'll look at the `math` module as a first example. The `math` module is extremely useful in computing mathematical expressions in Python. \n",
    "\n",
    "Suppose we want to very accurately compute the area of a circle with a radius of 5 meters.  For that, we need the constant $\\pi$, which is roughly 3.14.  Conveniently, the `math` module has `pi` defined for us, and check out how we use it:"
   ]
  },
  {
   "cell_type": "code",
   "execution_count": null,
   "metadata": {},
   "outputs": [],
   "source": [
    "import math\n",
    "radius = 5\n",
    "area_of_circle = radius**2 * math.pi\n",
    "area_of_circle"
   ]
  },
  {
   "cell_type": "markdown",
   "metadata": {},
   "source": [
    "In the code above, the line `import math` imports the math module. This statement brings in that module and then assigns the name `math` to that module, to use in our code. We are now able to access any variables or functions defined within `math` by typing the name of the module followed by a dot, then followed by the name of the variable or function we want. If you recall from the last assignment, this is very similar to how we used methods belonging to the `Table` type object!\n",
    "\n",
    "    <module name>.<name>"
   ]
  },
  {
   "cell_type": "markdown",
   "metadata": {
    "deletable": false,
    "editable": false
   },
   "source": [
    "<span style=\"color:blue\">**Question 2.0.1**</span> The module `math` also provides the name `e` for the base of the natural logarithm, which is roughly 2.71. Compute $e^{\\pi}-\\pi$, giving it the name `near_twenty`.\n",
    "\n",
    "*Remember: You can access `pi` from the `math` module as well!*\n",
    "\n",
    "<!--\n",
    "BEGIN QUESTION\n",
    "name: q21\n",
    "-->"
   ]
  },
  {
   "cell_type": "code",
   "execution_count": null,
   "metadata": {},
   "outputs": [],
   "source": [
    "near_twenty = ...\n",
    "near_twenty"
   ]
  },
  {
   "cell_type": "code",
   "execution_count": null,
   "metadata": {
    "deletable": false,
    "editable": false
   },
   "outputs": [],
   "source": [
    "grader.check(\"q21\")"
   ]
  },
  {
   "cell_type": "markdown",
   "metadata": {},
   "source": [
    "![XKCD](http://imgs.xkcd.com/comics/e_to_the_pi_minus_pi.png)\n",
    "\n",
    "[Source](http://imgs.xkcd.com/comics/e_to_the_pi_minus_pi.png)\n",
    "[Explanation](https://www.explainxkcd.com/wiki/index.php/217:_e_to_the_pi_Minus_pi)"
   ]
  },
  {
   "cell_type": "markdown",
   "metadata": {
    "deletable": false,
    "editable": false
   },
   "source": [
    "### 2.1. Accessing functions\n",
    "\n",
    "In the question above, you accessed variables within the `math` module. \n",
    "\n",
    "**Modules** also define **functions**.  For example, `math` provides the name `sin` for the sine function.  Having imported `math` already, we can write `math.sin(3)` to compute the sine of 3.  (Note that this sine function considers its argument to be in [radians](https://en.wikipedia.org/wiki/Radian), not degrees.  180 degrees are equivalent to $\\pi$ radians.)\n",
    "\n",
    "<span style=\"color:blue\">**Question 2.1.1.**</span> A $\\frac{\\pi}{4}$-radian (45-degree) angle forms a right triangle with equal base and height, pictured below.  If the hypotenuse (the radius of the circle in the picture) is 1, then the height is $\\sin(\\frac{\\pi}{4})$.  Compute that value using `sin` and `pi` from the `math` module.  Give the result the name `sine_of_pi_over_four`, in the next cell.\n",
    "\n",
    "<img src=\"http://mathworld.wolfram.com/images/eps-gif/TrigonometryAnglesPi4_1000.gif\">\n",
    "\n",
    "[Source](http://mathworld.wolfram.com/images/eps-gif/TrigonometryAnglesPi4_1000.gif)\n",
    "\n",
    "<!--\n",
    "BEGIN QUESTION\n",
    "name: q211\n",
    "-->"
   ]
  },
  {
   "cell_type": "code",
   "execution_count": null,
   "metadata": {},
   "outputs": [],
   "source": [
    "sine_of_pi_over_four = ...\n",
    "sine_of_pi_over_four"
   ]
  },
  {
   "cell_type": "code",
   "execution_count": null,
   "metadata": {
    "deletable": false,
    "editable": false
   },
   "outputs": [],
   "source": [
    "grader.check(\"q211\")"
   ]
  },
  {
   "cell_type": "markdown",
   "metadata": {},
   "source": [
    "For your reference, below are some more examples of functions from the `math` module.\n",
    "\n",
    "Notice how different functions take in different numbers of arguments. Often, the [documentation](https://docs.python.org/3/library/math.html) of the module will provide information on how many arguments are required for each function.\n",
    "\n",
    "*Hint: If you press `shift+tab` while next to the function call, the documentation for that function will appear!*"
   ]
  },
  {
   "cell_type": "code",
   "execution_count": null,
   "metadata": {},
   "outputs": [],
   "source": [
    "# Calculating logarithms (the logarithm of 8 in base 2).\n",
    "# The result is 3 because 2 to the power of 3 is 8.\n",
    "math.log(8, 2)"
   ]
  },
  {
   "cell_type": "code",
   "execution_count": null,
   "metadata": {},
   "outputs": [],
   "source": [
    "# Calculating square roots.\n",
    "math.sqrt(5)"
   ]
  },
  {
   "cell_type": "markdown",
   "metadata": {},
   "source": [
    "There are various ways to import and access code from outside sources. The method we used above — `import <module_name>` — imports the entire module and requires that we use `<module_name>.<name>` to access its code. \n",
    "\n",
    "We can also import a specific constant or function instead of the entire module. Notice that you don't have to use the module name beforehand to reference that particular value. However, you do have to be careful about reassigning the names of the constants or functions to other values!"
   ]
  },
  {
   "cell_type": "code",
   "execution_count": null,
   "metadata": {},
   "outputs": [],
   "source": [
    "# Importing just cos and pi from math.\n",
    "# We don't have to use `math.` in front of cos or pi\n",
    "from math import cos, pi\n",
    "print(cos(pi))\n",
    "\n",
    "# We do have to use it in front of other functions from math, though\n",
    "math.log(pi)"
   ]
  },
  {
   "cell_type": "markdown",
   "metadata": {},
   "source": [
    "Or we can import every function and value from the entire module, using the `*`, like we were doing before:"
   ]
  },
  {
   "cell_type": "code",
   "execution_count": null,
   "metadata": {},
   "outputs": [],
   "source": [
    "# Lastly, we can import everything from math using the *\n",
    "# Once again, we don't have to use 'math.' beforehand \n",
    "from math import *\n",
    "log(pi)"
   ]
  },
  {
   "cell_type": "markdown",
   "metadata": {},
   "source": [
    "Don't worry too much about which type of import to use. It's often a coding style choice left up to each programmer. In this course, you'll always import the necessary modules when you run the setup cell (like the first code cell in this lab).\n",
    "\n",
    "Let's move on to practicing some of the table operations you've learned in lecture!"
   ]
  },
  {
   "cell_type": "markdown",
   "metadata": {},
   "source": [
    "## 3. Table operations\n",
    "\n",
    "The table `trees.csv` contains data on trees. All trees are eatable, but this data shows which ones are edible.\n",
    "Run the next cell to load the `trees` table."
   ]
  },
  {
   "cell_type": "code",
   "execution_count": null,
   "metadata": {},
   "outputs": [],
   "source": [
    "# Just run this cell\n",
    "\n",
    "trees = Table.read_table('trees.csv')"
   ]
  },
  {
   "cell_type": "markdown",
   "metadata": {},
   "source": [
    "Let's examine our table to see what data it contains.\n",
    "\n",
    "<span style=\"color:blue\">**Question 3.0.1.**</span> Use the method `show` to display the first 5 rows of `trees`. \n",
    "\n",
    "*Reminder:* The terms \"method\" and \"function\" are technically not the same thing, but for the purposes of this course, we will often use them interchangeably.\n",
    "\n",
    "**Hint:** `tbl.show(3)` will show the first 3 rows of the table `tbl`. Additionally, make sure not to call `.show()` without an argument, as this will crash your kernel!\n"
   ]
  },
  {
   "cell_type": "code",
   "execution_count": null,
   "metadata": {},
   "outputs": [],
   "source": [
    "..."
   ]
  },
  {
   "cell_type": "markdown",
   "metadata": {
    "deletable": false,
    "editable": false
   },
   "source": [
    "Notice that some of the values in this table are missing, as denoted by \"nan.\" This means either that the value is not available or not applicable. You'll also notice that the table has a large number of columns in it!\n",
    "\n",
    "### `num_columns`\n",
    "\n",
    "The table property `num_columns` returns the number of columns in a table. (A \"property\" is just a method that doesn't need to be called by adding parentheses.)\n",
    "\n",
    "Example call: `<tbl>.num_columns`\n",
    "\n",
    "<span style=\"color:blue\">**Question 3.0.2**</span> Use `num_columns` to find the number of columns in our trees dataset.\n",
    "\n",
    "Assign the number of columns to `num_trees_columns`.\n",
    "\n",
    "<!--\n",
    "BEGIN QUESTION\n",
    "name: q32\n",
    "-->"
   ]
  },
  {
   "cell_type": "code",
   "execution_count": null,
   "metadata": {},
   "outputs": [],
   "source": [
    "num_trees_columns = ...\n",
    "print(\"The table has\", num_trees_columns, \"columns in it!\")"
   ]
  },
  {
   "cell_type": "code",
   "execution_count": null,
   "metadata": {
    "deletable": false,
    "editable": false
   },
   "outputs": [],
   "source": [
    "grader.check(\"q32\")"
   ]
  },
  {
   "cell_type": "markdown",
   "metadata": {},
   "source": [
    "### `num_rows`\n",
    "\n",
    "Similarly, the property `num_rows` tells you how many rows are in a table."
   ]
  },
  {
   "cell_type": "code",
   "execution_count": null,
   "metadata": {},
   "outputs": [],
   "source": [
    "# Just run this cell\n",
    "\n",
    "num_trees_rows = trees.num_rows\n",
    "print(\"The table has\", num_trees_rows, \"rows in it!\")"
   ]
  },
  {
   "cell_type": "markdown",
   "metadata": {
    "deletable": false,
    "editable": false
   },
   "source": [
    "### `select`\n",
    "\n",
    "Most of the columns are about location -- which neighbourhood, longitude and latitude etc.  If we're not interested in that information, it just makes the table difficult to read.  This comes up more than you might think, because people who collect and publish data may not know ahead of time what people will want to do with it.\n",
    "\n",
    "In such situations, we can use the table method `select` to choose only the columns that we want in a particular table. It takes any number of arguments. Each should be the name of a column in the table. It returns a new table with only those columns in it. The columns are in the order *in which they were listed as arguments*.\n",
    "\n",
    "For example, the value of `trees.select(\"SPECIES_BOTANICAL\",\"DIAMETER_BREAST_HEIGHT\")` is a table with only the type of tree and measurement.\n",
    "\n",
    "\n",
    "\n",
    "<span style=\"color:blue\">**Question 3.0.3**</span> Use `select` to create a table with only the common name, latitude, and longitude of each tree.  Call that new table `trees_locations`. (Use separate longitude and latitude columns)\n",
    "\n",
    "*Hint:* Make sure to be exact when using column names with `select`; double-check capitalization!\n",
    "\n",
    "<!--\n",
    "BEGIN QUESTION\n",
    "name: q33\n",
    "-->"
   ]
  },
  {
   "cell_type": "code",
   "execution_count": null,
   "metadata": {},
   "outputs": [],
   "source": [
    "trees_locations = ...\n",
    "trees_locations"
   ]
  },
  {
   "cell_type": "code",
   "execution_count": null,
   "metadata": {
    "deletable": false,
    "editable": false
   },
   "outputs": [],
   "source": [
    "grader.check(\"q33\")"
   ]
  },
  {
   "cell_type": "markdown",
   "metadata": {
    "deletable": false,
    "editable": false
   },
   "source": [
    "### `drop`\n",
    "\n",
    "`drop` serves the same purpose as `select`, but it takes away the columns that you provide rather than the ones that you don't provide. Like `select`, `drop` returns a new table.\n",
    "\n",
    "<span style=\"color:blue\">**Question 3.0.4**</span> Suppose you just didn't want the `ID` and `CULTIVAR` columns in `trees_markets`.  Create a table that's a copy of `trees_markets` but doesn't include those columns.  Call that table `trees_without_id`.\n",
    "\n",
    "<!--\n",
    "BEGIN QUESTION\n",
    "name: q34\n",
    "-->"
   ]
  },
  {
   "cell_type": "code",
   "execution_count": null,
   "metadata": {},
   "outputs": [],
   "source": [
    "trees_without_id = ...\n",
    "trees_without_id"
   ]
  },
  {
   "cell_type": "code",
   "execution_count": null,
   "metadata": {
    "deletable": false,
    "editable": false
   },
   "outputs": [],
   "source": [
    "grader.check(\"q34\")"
   ]
  },
  {
   "cell_type": "markdown",
   "metadata": {},
   "source": [
    "Now, suppose we want to answer some questions about when trees were planted. Let's get all the most recent plantings.\n",
    "\n",
    "To answer this, we'll sort `trees` by when they were planted!"
   ]
  },
  {
   "cell_type": "code",
   "execution_count": null,
   "metadata": {},
   "outputs": [],
   "source": [
    "trees.sort('PLANTED_DATE')"
   ]
  },
  {
   "cell_type": "markdown",
   "metadata": {},
   "source": [
    "Oops, that didn't answer our question because we sorted from oldest to newest. We'll have to sort in reverse order.\n",
    "\n",
    "If you are having trouble finding the column of interest in your result, you can do a `select` of the planted date."
   ]
  },
  {
   "cell_type": "code",
   "execution_count": null,
   "metadata": {},
   "outputs": [],
   "source": [
    "trees.sort('PLANTED_DATE', descending=True)"
   ]
  },
  {
   "cell_type": "markdown",
   "metadata": {},
   "source": [
    "(The `descending=True` bit is called an *optional argument*. It has a default value of `False`, so when you explicitly tell the function `descending=True`, then the function will sort in descending order.)\n",
    "\n",
    "### `sort`\n",
    "\n",
    "Some details about sort:\n",
    "\n",
    "1. The first argument to `sort` is the name of a column to sort by.\n",
    "2. If the column has text in it, `sort` will sort alphabetically; if the column has numbers, it will sort numerically.\n",
    "3. The value of `trees.sort(\"PLANTED_DATE\")` is a *copy* of `trees`; the `trees` table doesn't get modified. For example, if we called `trees.sort(\"PLANTED_DATE\")`, then running `trees` by itself would still return the unsorted table.\n",
    "4. Rows always stick together when a table is sorted.  It wouldn't make sense to sort just one column and leave the other columns alone.  For example, in this case, if we sorted just the `PLANTED_COLUMN` column, the trees would all end up with the wrong dates.\n"
   ]
  },
  {
   "cell_type": "markdown",
   "metadata": {},
   "source": [
    "Now let's say we want a table of all trees in the Donsdale neighbourhood. Sorting won't help us much here.\n",
    "\n",
    "Instead, we use the table method `where`."
   ]
  },
  {
   "cell_type": "code",
   "execution_count": null,
   "metadata": {},
   "outputs": [],
   "source": [
    "donsdale_trees = trees.where('NEIGHBOURHOOD_NAME', are.equal_to('DONSDALE'))\n",
    "donsdale_trees"
   ]
  },
  {
   "cell_type": "markdown",
   "metadata": {},
   "source": [
    "Ignore the syntax for the moment.  Instead, try to read that line like this:\n",
    "\n",
    "> Assign the name **`donsdale_trees`** to a table whose rows are the rows in the **`trees`** table **`where`** the **`'NEIGHBOURHOOD_NAME'`**s **`are` `equal` `to` `DONSDALE`**."
   ]
  },
  {
   "cell_type": "markdown",
   "metadata": {},
   "source": [
    "### `where`\n",
    "\n",
    "Now let's dive into the details a bit more.  `where` takes 2 arguments:\n",
    "\n",
    "1. The name of a column.  `where` finds rows where that column's values meet some criterion.\n",
    "2. A predicate that describes the criterion that the column needs to meet.\n",
    "\n",
    "The predicate in the example above called the function `are.equal_to` with the value we wanted, 'DONSDALE'.  We'll see other predicates soon.\n",
    "\n",
    "`where` returns a table that's a copy of the original table, but **with only the rows that meet the given predicate**."
   ]
  },
  {
   "cell_type": "markdown",
   "metadata": {
    "deletable": false,
    "editable": false
   },
   "source": [
    "<span style=\"color:blue\">**Question 3.0.6** Use `donsdale_trees` to create a table called `donsdale_boulevard` containing trees on boulevards in donsdale.\n",
    "<!--\n",
    "BEGIN QUESTION\n",
    "name: q36\n",
    "-->"
   ]
  },
  {
   "cell_type": "code",
   "execution_count": null,
   "metadata": {},
   "outputs": [],
   "source": [
    "donsdale_boulevard = ...\n",
    "donsdale_boulevard"
   ]
  },
  {
   "cell_type": "code",
   "execution_count": null,
   "metadata": {
    "deletable": false,
    "editable": false
   },
   "outputs": [],
   "source": [
    "grader.check(\"q36\")"
   ]
  },
  {
   "cell_type": "markdown",
   "metadata": {},
   "source": [
    "If you noticed the `donsdale_trees` has almost the same amount of rows as `donsdale_boulevard`. What were the other location types? You could use one of these other predicates to find out easily."
   ]
  },
  {
   "cell_type": "markdown",
   "metadata": {},
   "source": [
    "So far we've only been using `where` with the predicate that requires finding the values in a column to be *exactly* equal to a certain value. However, there are many other predicates. Here are a few:\n",
    "\n",
    "|Predicate|Example|Result|\n",
    "|-|-|-|\n",
    "|`are.equal_to`|`are.equal_to(50)`|Find rows with values equal to 50|\n",
    "|`are.not_equal_to`|`are.not_equal_to(50)`|Find rows with values not equal to 50|\n",
    "|`are.above`|`are.above(50)`|Find rows with values above (and not equal to) 50|\n",
    "|`are.above_or_equal_to`|`are.above_or_equal_to(50)`|Find rows with values above 50 or equal to 50|\n",
    "|`are.below`|`are.below(50)`|Find rows with values below 50|\n",
    "|`are.between`|`are.between(2, 10)`|Find rows with values above or equal to 2 and below 10|"
   ]
  },
  {
   "cell_type": "markdown",
   "metadata": {},
   "source": [
    "## 4. Analyzing a dataset\n",
    "\n",
    "Now that you're familiar with table operations, let’s answer an interesting question about a dataset!\n",
    "\n",
    "Run the cell below to load the `imdb` table and print it out. It contains information about the 250 highest-rated movies on IMDb, the Internet Movie Database."
   ]
  },
  {
   "cell_type": "code",
   "execution_count": null,
   "metadata": {
    "scrolled": true
   },
   "outputs": [],
   "source": [
    "# Just run this cell\n",
    "\n",
    "imdb = Table.read_table('imdb.csv')\n",
    "imdb"
   ]
  },
  {
   "cell_type": "markdown",
   "metadata": {},
   "source": [
    "Often, we want to perform multiple operations - sorting, filtering, or others - in order to turn a table we have into something more useful. You can do these operations one by one, e.g.\n",
    "\n",
    "```\n",
    "first_step = original_tbl.where(“col1”, are.equal_to(12))\n",
    "second_step = first_step.sort(‘col2’, descending=True)\n",
    "```\n",
    "\n",
    "However, since the value of the expression `original_tbl.where(“col1”, are.equal_to(12))` is itself a table, you can just call a table method on it:\n",
    "\n",
    "```\n",
    "original_tbl.where(“col1”, are.equal_to(12)).sort(‘col2’, descending=True)\n",
    "```\n",
    "You should organize your work in the way that makes the most sense to you, using informative names for any intermediate tables you create. "
   ]
  },
  {
   "cell_type": "markdown",
   "metadata": {
    "deletable": false,
    "editable": false
   },
   "source": [
    "<span style=\"color:blue\">**Question 4.0.1**</span> Create a table of movies released between 2010 and 2016 (inclusive) with ratings above 8. The table should only contain the columns `Title` and `Rating`, **in that order**.\n",
    "\n",
    "Assign the table to the name `above_eight`.\n",
    "\n",
    "*Hint:* Think about the steps you need to take, and try to put them in an order that make sense. Feel free to create intermediate tables for each step, but please make sure you assign your final table the name `above_eight`!\n",
    "\n",
    "<!--\n",
    "BEGIN QUESTION\n",
    "name: q41\n",
    "-->"
   ]
  },
  {
   "cell_type": "code",
   "execution_count": null,
   "metadata": {
    "scrolled": false
   },
   "outputs": [],
   "source": [
    "above_eight = ...\n",
    "above_eight"
   ]
  },
  {
   "cell_type": "code",
   "execution_count": null,
   "metadata": {
    "deletable": false,
    "editable": false
   },
   "outputs": [],
   "source": [
    "grader.check(\"q41\")"
   ]
  },
  {
   "cell_type": "markdown",
   "metadata": {
    "deletable": false,
    "editable": false
   },
   "source": [
    "<span style=\"color:blue\">**Question 4.0.2**</span> Use `num_rows` (and arithmetic) to find the *proportion* of movies in the dataset that were released 1900-1999, and the *proportion* of movies in the dataset that were released in the year 2000 or later.\n",
    "\n",
    "Assign `proportion_in_20th_century` to the proportion of movies in the dataset that were released 1900-1999, and `proportion_in_21st_century` to the proportion of movies in the dataset that were released in the year 2000 or later.\n",
    "\n",
    "*Hint:* The *proportion* of movies released in the 1900's is the *number* of movies released in the 1900's, divided by the *total number* of movies.\n",
    "\n",
    "<!--\n",
    "BEGIN QUESTION\n",
    "name: q42\n",
    "-->"
   ]
  },
  {
   "cell_type": "code",
   "execution_count": null,
   "metadata": {},
   "outputs": [],
   "source": [
    "num_movies_in_dataset = ...\n",
    "num_in_20th_century = ...\n",
    "num_in_21st_century = ...\n",
    "proportion_in_20th_century = ...\n",
    "proportion_in_21st_century = ...\n",
    "print(\"Proportion in 20th century:\", proportion_in_20th_century)\n",
    "print(\"Proportion in 21st century:\", proportion_in_21st_century)"
   ]
  },
  {
   "cell_type": "code",
   "execution_count": null,
   "metadata": {
    "deletable": false,
    "editable": false
   },
   "outputs": [],
   "source": [
    "grader.check(\"q42\")"
   ]
  },
  {
   "cell_type": "markdown",
   "metadata": {},
   "source": [
    "## 5. Arrays\n",
    "\n",
    "Computers are most useful when you can use a small amount of code to *do the same action* to *many different things*.\n",
    "\n",
    "For example, in the time it takes you to calculate the 18% tip on a restaurant bill, a laptop can calculate 18% tips for every restaurant bill paid by every human on Earth that day.  (That's if you're pretty fast at doing arithmetic in your head!)\n",
    "\n",
    "**Arrays** are how we put many values in one place so that we can operate on them as a group. For example, if `billions_of_numbers` is an array of numbers, the expression\n",
    "\n",
    "    .18 * billions_of_numbers\n",
    "\n",
    "gives a new array of numbers that contains the result of multiplying each number in `billions_of_numbers` by .18.  Arrays are not limited to numbers; we can also put all the words in a book into an array of strings.\n",
    "\n",
    "Concretely, an array is a **collection of values of the same type**. "
   ]
  },
  {
   "cell_type": "markdown",
   "metadata": {},
   "source": [
    "### 5.1. Making arrays\n",
    "\n",
    "First, let's learn how to manually input values into an array. This typically isn't how programs work. Normally, we create arrays by loading them from an external source, like a data file.\n",
    "\n",
    "But nonetheless, to create an array by hand, call the function `make_array`.  Each argument you pass to `make_array` will be in the array it returns.  Run this cell to see an example:"
   ]
  },
  {
   "cell_type": "code",
   "execution_count": null,
   "metadata": {
    "scrolled": true
   },
   "outputs": [],
   "source": [
    "make_array(0.125, 4.75, -1.3)"
   ]
  },
  {
   "cell_type": "markdown",
   "metadata": {},
   "source": [
    "Each value in an array (in the above case, the numbers 0.125, 4.75, and -1.3) is called an *element* of that array.\n",
    "\n",
    "Arrays themselves are also values in Python, just like numbers and strings.  That means you can assign them to names or use them as arguments to functions. For example, `len(some_array)` returns the number of elements in `some_array`."
   ]
  },
  {
   "cell_type": "markdown",
   "metadata": {
    "deletable": false,
    "editable": false
   },
   "source": [
    "<span style=\"color:blue\">**Question 5.1.1.**</span> Make an array containing the numbers 0, 1, -1, $\\pi$, and $e$, in that order.  Name it `interesting_numbers`.  \n",
    "\n",
    "*Hint:* How did you get the values $\\pi$ and $e$ earlier up in this lab?  You can refer to them in exactly the same way here.\n",
    "\n",
    "<!--\n",
    "BEGIN QUESTION\n",
    "name: q511\n",
    "-->"
   ]
  },
  {
   "cell_type": "code",
   "execution_count": null,
   "metadata": {},
   "outputs": [],
   "source": [
    "interesting_numbers = ...\n",
    "interesting_numbers"
   ]
  },
  {
   "cell_type": "code",
   "execution_count": null,
   "metadata": {
    "deletable": false,
    "editable": false
   },
   "outputs": [],
   "source": [
    "grader.check(\"q511\")"
   ]
  },
  {
   "cell_type": "markdown",
   "metadata": {
    "deletable": false,
    "editable": false
   },
   "source": [
    "<span style=\"color:blue\">**Question 5.1.2.**</span> Make an array containing the five strings `\"Hello\"`, `\",\"`, `\" \"`, `\"world\"`, and `\"!\"`.  (The third one is a single space inside quotes.)  Name it `hello_world_components`.\n",
    "\n",
    "*Note:* If you evaluate `hello_world_components`, you'll notice some extra information in addition to its contents: `dtype='<U5'`.  That's just NumPy's extremely cryptic way of saying that the data types in the array are strings.\n",
    "\n",
    "<!--\n",
    "BEGIN QUESTION\n",
    "name: q512\n",
    "-->"
   ]
  },
  {
   "cell_type": "code",
   "execution_count": null,
   "metadata": {},
   "outputs": [],
   "source": [
    "hello_world_components = ...\n",
    "hello_world_components"
   ]
  },
  {
   "cell_type": "code",
   "execution_count": null,
   "metadata": {
    "deletable": false,
    "editable": false
   },
   "outputs": [],
   "source": [
    "grader.check(\"q512\")"
   ]
  },
  {
   "cell_type": "markdown",
   "metadata": {},
   "source": [
    "###  `np.arange`\n",
    "Arrays are provided by a package called [NumPy](http://www.numpy.org/) (pronounced \"NUM-pie\"). The package is called `numpy`, but it's standard to rename it `np` for brevity.  You can do that with:\n",
    "\n",
    "    import numpy as np\n",
    "\n",
    "You'll also notice we have this conveniently done for you already in the setup cell at the top of your assignment notebooks! \n",
    "\n",
    "Very often in data science, we want to work with many numbers that are evenly spaced within some range.  NumPy provides a special function for this called `arange`.  The line of code `np.arange(start, stop, step)` evaluates to an array with all the numbers starting at `start` and counting up by `step`, stopping **before** `stop` is reached.\n",
    "\n",
    "Run the following cells to see some examples!"
   ]
  },
  {
   "cell_type": "code",
   "execution_count": null,
   "metadata": {},
   "outputs": [],
   "source": [
    "# This array starts at 1 and counts up by 2\n",
    "# and then stops before 6\n",
    "np.arange(1, 6, 2)"
   ]
  },
  {
   "cell_type": "code",
   "execution_count": null,
   "metadata": {},
   "outputs": [],
   "source": [
    "# This array doesn't contain 9\n",
    "# because np.arange stops *before* the stop value is reached\n",
    "np.arange(4, 9, 1)"
   ]
  },
  {
   "cell_type": "markdown",
   "metadata": {
    "deletable": false,
    "editable": false
   },
   "source": [
    "<span style=\"color:blue\">**Question 5.1.3.**</span> Import `numpy` as `np` and then use `np.arange` to create an array with the multiples of 99 from 0 up to (**and including**) 9999.  (So its elements are 0, 99, 198, 297, etc.)\n",
    "\n",
    "<!--\n",
    "BEGIN QUESTION\n",
    "name: q513\n",
    "-->"
   ]
  },
  {
   "cell_type": "code",
   "execution_count": null,
   "metadata": {},
   "outputs": [],
   "source": [
    "import numpy as np \n",
    "multiples_of_99 = ...\n",
    "multiples_of_99"
   ]
  },
  {
   "cell_type": "code",
   "execution_count": null,
   "metadata": {
    "deletable": false,
    "editable": false
   },
   "outputs": [],
   "source": [
    "grader.check(\"q513\")"
   ]
  },
  {
   "cell_type": "markdown",
   "metadata": {
    "deletable": false,
    "editable": false
   },
   "source": [
    "### Temperature readings\n",
    "There are multiple weather stations in Canada that measure surface temperatures at different sites around the country.  The hourly readings are [publicly available](https://climate.weather.gc.ca/historical_data/search_historic_data_e.html).\n",
    "\n",
    "Suppose we download all the hourly data from the Edmonton Internation Airport station for the month of May 2021.  To analyze the data, we want to know when each reading was taken, but we find that the data don't include the timestamps of the readings (the time at which each one was taken).\n",
    "\n",
    "However, we know the first reading was taken at the first instant of May 2021 (midnight on December 1st) and each subsequent reading was taken exactly 1 hour after the last.\n",
    "\n",
    "**Question 5.1.4.** Create an array of the *time, in seconds, since the start of the month* at which each hourly reading was taken.  Name it `collection_times`.\n",
    "\n",
    "*Hint 1:* There were 31 days in May, which is equivalent to ($31 \\times 24$) hours or ($31 \\times 24 \\times 60 \\times 60$) seconds.  So your array should have $31 \\times 24$ elements in it.\n",
    "\n",
    "*Hint 2:* The `len` function works on arrays, too!  If your `collection_times` isn't passing the tests, check its length and make sure it has $31 \\times 24$ elements.\n",
    "\n",
    "<!--\n",
    "BEGIN QUESTION\n",
    "name: q514\n",
    "-->"
   ]
  },
  {
   "cell_type": "code",
   "execution_count": null,
   "metadata": {},
   "outputs": [],
   "source": [
    "collection_times = ...\n",
    "collection_times"
   ]
  },
  {
   "cell_type": "code",
   "execution_count": null,
   "metadata": {
    "deletable": false,
    "editable": false
   },
   "outputs": [],
   "source": [
    "grader.check(\"q514\")"
   ]
  },
  {
   "cell_type": "markdown",
   "metadata": {},
   "source": [
    "### 5.2 Working with single elements of arrays (\"indexing\")\n",
    "Let's work with a more interesting dataset.  The next cell creates an array called `population_amounts` that includes estimated world populations in every year from **1950** to roughly the present.  (The estimates come from the US Census Bureau website.)\n",
    "\n",
    "Rather than type in the data manually, we've loaded them from a file on your computer called `world_population.csv`.  You'll learn how to do that later in this lab!"
   ]
  },
  {
   "cell_type": "code",
   "execution_count": null,
   "metadata": {},
   "outputs": [],
   "source": [
    "population_amounts = Table.read_table(\"world_population.csv\").column(\"Population\")\n",
    "population_amounts"
   ]
  },
  {
   "cell_type": "markdown",
   "metadata": {},
   "source": [
    "Here's how we get the first element of `population_amounts`, which is the world population in the first year in the dataset, 1950."
   ]
  },
  {
   "cell_type": "code",
   "execution_count": null,
   "metadata": {},
   "outputs": [],
   "source": [
    "population_amounts.item(0)"
   ]
  },
  {
   "cell_type": "markdown",
   "metadata": {},
   "source": [
    "The value of that expression is the number 2557628654 (around 2.5 billion), because that's the first thing in the array `population_amounts`.\n",
    "\n",
    "Notice that we wrote `.item(0)`, not `.item(1)`, to get the first element.  This is a weird convention in computer science.  0 is called the *index* of the first item.  It's the number of elements that appear *before* that item.  So 3 is the index of the 4th item.\n",
    "\n",
    "Here are some more examples.  In the examples, we've given names to the things we get out of `population_amounts`.  Read and run each cell."
   ]
  },
  {
   "cell_type": "code",
   "execution_count": null,
   "metadata": {},
   "outputs": [],
   "source": [
    "# The 13th element in the array is the population\n",
    "# in 1962 (which is 1950 + 12).\n",
    "population_1962 = population_amounts.item(12)\n",
    "population_1962"
   ]
  },
  {
   "cell_type": "code",
   "execution_count": null,
   "metadata": {},
   "outputs": [],
   "source": [
    "# The 66th element is the population in 2015.\n",
    "population_2015 = population_amounts.item(65)\n",
    "population_2015"
   ]
  },
  {
   "cell_type": "code",
   "execution_count": null,
   "metadata": {},
   "outputs": [],
   "source": [
    "# The array has only 66 elements, so this doesn't work.\n",
    "# (There's no element with 66 other elements before it.)\n",
    "population_2016 = population_amounts.item(66)\n",
    "population_2016"
   ]
  },
  {
   "cell_type": "markdown",
   "metadata": {},
   "source": [
    "Since `make_array` returns an array, we can call `.item(3)` on its output to get its 4th element, just like we \"chained\" together calls to the method `replace` earlier."
   ]
  },
  {
   "cell_type": "code",
   "execution_count": null,
   "metadata": {},
   "outputs": [],
   "source": [
    "make_array(-1, -3, 4, -2).item(3)"
   ]
  },
  {
   "cell_type": "markdown",
   "metadata": {
    "deletable": false,
    "editable": false
   },
   "source": [
    "<span style=\"color:blue\">**Question 5.2.1.**</span> Set `population_1973` to the world population in 1973, by getting the appropriate element from `population_amounts` using `item`.\n",
    "\n",
    "<!--\n",
    "BEGIN QUESTION\n",
    "name: q521\n",
    "-->"
   ]
  },
  {
   "cell_type": "code",
   "execution_count": null,
   "metadata": {},
   "outputs": [],
   "source": [
    "population_1973 = ...\n",
    "population_1973"
   ]
  },
  {
   "cell_type": "code",
   "execution_count": null,
   "metadata": {
    "deletable": false,
    "editable": false
   },
   "outputs": [],
   "source": [
    "grader.check(\"q521\")"
   ]
  },
  {
   "cell_type": "markdown",
   "metadata": {},
   "source": [
    "## 5.3. Doing something to every element of an array\n",
    "Arrays are primarily useful for doing the same operation many times, so we don't often have to use `.item` and work with single elements.\n",
    "\n",
    "#### Logarithms\n",
    "Here is one simple question we might ask about world population:\n",
    "\n",
    "> How big was the population in *orders of magnitude* in each year?\n",
    "\n",
    "Orders of magnitude quantify how big a number is by representing it as the power of another number (for example, representing 104 as $10^{2.017033}$). One way to do this is by using the logarithm function. The logarithm (base 10) of a number increases by 1 every time we multiply the number by 10. It's like a measure of how many decimal digits the number has, or how big it is in orders of magnitude.\n",
    "\n",
    "We could try to answer our question like this, using the `log10` function from the `math` module and the `item` method you just saw:"
   ]
  },
  {
   "cell_type": "code",
   "execution_count": null,
   "metadata": {
    "scrolled": true
   },
   "outputs": [],
   "source": [
    "population_1950_magnitude = math.log10(population_amounts.item(0))\n",
    "population_1951_magnitude = math.log10(population_amounts.item(1))\n",
    "population_1952_magnitude = math.log10(population_amounts.item(2))\n",
    "population_1953_magnitude = math.log10(population_amounts.item(3))\n",
    "..."
   ]
  },
  {
   "cell_type": "markdown",
   "metadata": {
    "deletable": false,
    "editable": false
   },
   "source": [
    "But this is tedious and doesn't really take advantage of the fact that we are using a computer.\n",
    "\n",
    "Instead, NumPy provides its own version of `log10` that takes the logarithm of each element of an array.  It takes a single array of numbers as its argument.  It returns an array of the same length, where the first element of the result is the logarithm of the first element of the argument, and so on.\n",
    "\n",
    "<span style=\"color:blue\">**Question 5.3.1.**</span> Use `np.log10` to compute the logarithms of the world population in every year.  Give the result (an array of 66 numbers) the name `population_magnitudes`.  Your code should be very short.\n",
    "\n",
    "<!--\n",
    "BEGIN QUESTION\n",
    "name: q531\n",
    "-->"
   ]
  },
  {
   "cell_type": "code",
   "execution_count": null,
   "metadata": {},
   "outputs": [],
   "source": [
    "population_magnitudes = ...\n",
    "population_magnitudes"
   ]
  },
  {
   "cell_type": "code",
   "execution_count": null,
   "metadata": {
    "deletable": false,
    "editable": false
   },
   "outputs": [],
   "source": [
    "grader.check(\"q531\")"
   ]
  },
  {
   "cell_type": "markdown",
   "metadata": {},
   "source": [
    "What you just did is called *elementwise* application of `np.log10`, since `np.log10` operates separately on each element of the array that it's called on. Here's a picture of what's going on:"
   ]
  },
  {
   "cell_type": "markdown",
   "metadata": {},
   "source": [
    "<img src=\"array_logarithm.jpg\">\n",
    "\n",
    "\n",
    "The textbook's [section](https://www.inferentialthinking.com/chapters/05/1/Arrays)  on arrays has a useful list of NumPy functions that are designed to work elementwise, like `np.log10`."
   ]
  },
  {
   "cell_type": "markdown",
   "metadata": {},
   "source": [
    "#### Arithmetic\n",
    "Arithmetic also works elementwise on arrays, meaning that if you perform an arithmetic operation (like subtraction, division, etc) on an array, Python will do the operation to every element of the array individually and return an array of all of the results. For example, you can divide all the population numbers by 1 billion to get numbers in billions:"
   ]
  },
  {
   "cell_type": "code",
   "execution_count": null,
   "metadata": {},
   "outputs": [],
   "source": [
    "population_in_billions = population_amounts / 1000000000\n",
    "population_in_billions"
   ]
  },
  {
   "cell_type": "markdown",
   "metadata": {},
   "source": [
    "You can do the same with addition, subtraction, multiplication, and exponentiation (`**`). For example, you can calculate a tip on several restaurant bills at once (in this case just 3):"
   ]
  },
  {
   "cell_type": "code",
   "execution_count": null,
   "metadata": {},
   "outputs": [],
   "source": [
    "restaurant_bills = make_array(20.12, 39.90, 31.01)\n",
    "print(\"Restaurant bills:\\t\", restaurant_bills)\n",
    "\n",
    "# Array multiplication\n",
    "tips = .2 * restaurant_bills\n",
    "print(\"Tips:\\t\\t\\t\", tips)"
   ]
  },
  {
   "cell_type": "markdown",
   "metadata": {
    "deletable": false,
    "editable": false
   },
   "source": [
    "<img src=\"array_multiplication.jpg\">\n",
    "\n",
    "<span style=\"color:blue\">**Question 5.3.2.**</span> Suppose the total charge at a restaurant is the original bill plus the tip. If the tip is 20%, that means we can multiply the original bill by 1.2 to get the total charge.  Compute the total charge for each bill in `restaurant_bills`, and assign the resulting array to `total_charges`.\n",
    "\n",
    "<!--\n",
    "BEGIN QUESTION\n",
    "name: q532\n",
    "-->"
   ]
  },
  {
   "cell_type": "code",
   "execution_count": null,
   "metadata": {},
   "outputs": [],
   "source": [
    "total_charges = ...\n",
    "total_charges"
   ]
  },
  {
   "cell_type": "code",
   "execution_count": null,
   "metadata": {
    "deletable": false,
    "editable": false
   },
   "outputs": [],
   "source": [
    "grader.check(\"q532\")"
   ]
  },
  {
   "cell_type": "markdown",
   "metadata": {
    "deletable": false,
    "editable": false
   },
   "source": [
    "<span style=\"color:blue\">**Question 5.3.3.**</span> The array `more_restaurant_bills` contains 100,000 bills!  Compute the total charge for each one.  How is your code different?\n",
    "\n",
    "<!--\n",
    "BEGIN QUESTION\n",
    "name: q533\n",
    "-->"
   ]
  },
  {
   "cell_type": "code",
   "execution_count": null,
   "metadata": {},
   "outputs": [],
   "source": [
    "more_restaurant_bills = Table.read_table(\"more_restaurant_bills.csv\").column(\"Bill\")\n",
    "more_total_charges = ...\n",
    "more_total_charges"
   ]
  },
  {
   "cell_type": "code",
   "execution_count": null,
   "metadata": {
    "deletable": false,
    "editable": false
   },
   "outputs": [],
   "source": [
    "grader.check(\"q533\")"
   ]
  },
  {
   "cell_type": "markdown",
   "metadata": {
    "deletable": false,
    "editable": false
   },
   "source": [
    "The function `sum` takes a single array of numbers as its argument.  It returns the sum of all the numbers in that array (so it returns a single number, not an array).\n",
    "\n",
    "<span style=\"color:blue\">**Question 5.3.4.**</span> What was the sum of all the bills in `more_restaurant_bills`, *including tips*?\n",
    "\n",
    "<!--\n",
    "BEGIN QUESTION\n",
    "name: q534\n",
    "-->"
   ]
  },
  {
   "cell_type": "code",
   "execution_count": null,
   "metadata": {},
   "outputs": [],
   "source": [
    "sum_of_bills = ...\n",
    "sum_of_bills"
   ]
  },
  {
   "cell_type": "code",
   "execution_count": null,
   "metadata": {
    "deletable": false,
    "editable": false
   },
   "outputs": [],
   "source": [
    "grader.check(\"q534\")"
   ]
  },
  {
   "cell_type": "markdown",
   "metadata": {
    "deletable": false,
    "editable": false
   },
   "source": [
    "<span style=\"color:blue\">**Question 5.3.5.**</span> The powers of 2 ($2^0 = 1$, $2^1 = 2$, $2^2 = 4$, etc) arise frequently in computer science.  (For example, you may have noticed that storage on smartphones or USB flash drives come in powers of 2, like 16 GB, 32 GB, or 64 GB.)  Use `np.arange` and the exponentiation operator `**` to compute the first 30 powers of 2, starting from `2^0`.\n",
    "\n",
    "*Hint 1:* `np.arange(1, 2**30, 1)` creates an array with $2^{30}$ elements and **will crash your kernel**. That's a lot of elements!\n",
    "\n",
    "*Hint 2:* Part of your solution will involve `np.arange`, but your array shouldn't have more than 30 elements.\n",
    "\n",
    "<!--\n",
    "BEGIN QUESTION\n",
    "name: q535\n",
    "-->"
   ]
  },
  {
   "cell_type": "code",
   "execution_count": null,
   "metadata": {},
   "outputs": [],
   "source": [
    "powers_of_2 = ...\n",
    "powers_of_2"
   ]
  },
  {
   "cell_type": "code",
   "execution_count": null,
   "metadata": {
    "deletable": false,
    "editable": false
   },
   "outputs": [],
   "source": [
    "grader.check(\"q535\")"
   ]
  },
  {
   "cell_type": "markdown",
   "metadata": {},
   "source": [
    "## 6. Creating Tables\n",
    "\n",
    "An array is useful for describing a single attribute of each element in a collection. For example, let's say our collection is all US States. Then an array could describe the land area of each state. \n",
    "\n",
    "Tables extend this idea by containing multiple arrays, each one describing a different attribute for every element of a collection. In this way, tables allow us to not only store data about many entities but to also contain several kinds of data about each entity.\n",
    "\n",
    "For example, in the cell below we have two arrays. The first one, `population_amounts`, was defined above in section 5.2 and contains the world population in each year (estimated by the US Census Bureau). The second array, `years`, contains the years themselves. These elements are in order, so the year and the world population for that year have the same index in their corresponding arrays."
   ]
  },
  {
   "cell_type": "code",
   "execution_count": null,
   "metadata": {},
   "outputs": [],
   "source": [
    "# Just run this cell\n",
    "\n",
    "years = np.arange(1950, 2015+1)\n",
    "print(\"Population column:\", population_amounts)\n",
    "print(\"Years column:\", years)"
   ]
  },
  {
   "cell_type": "markdown",
   "metadata": {},
   "source": [
    "Suppose we want to answer this question:\n",
    "\n",
    "> In which year did the world's population cross 6 billion?\n",
    "\n",
    "You could technically answer this question just from staring at the arrays, but it's a bit convoluted, since you would have to count the position where the population first crossed 6 billion, then find the corresponding element in the years array. In cases like these, it might be easier to put the data into a *`Table`*, a 2-dimensional type of dataset. \n",
    "\n",
    "The expression below:\n",
    "\n",
    "- creates an empty table using the expression `Table()`,\n",
    "- adds two columns by calling `with_columns` with four arguments,\n",
    "- assigns the result to the name `population`, and finally\n",
    "- evaluates `population` so that we can see the table.\n",
    "\n",
    "The strings `\"Year\"` and `\"Population\"` are column labels that we have chosen. The names `population_amounts` and `years` were assigned above to two arrays of the **same length**. The function `with_columns` (you can find the documentation [here](http://data8.org/datascience/tables.html)) takes in alternating strings (to represent column labels) and arrays (representing the data in those columns). The strings and arrays are separated by commas."
   ]
  },
  {
   "cell_type": "code",
   "execution_count": null,
   "metadata": {},
   "outputs": [],
   "source": [
    "population = Table().with_columns(\n",
    "    \"Population\", population_amounts,\n",
    "    \"Year\", years\n",
    ")\n",
    "population"
   ]
  },
  {
   "cell_type": "markdown",
   "metadata": {},
   "source": [
    "Now the data is combined into a single table! It's much easier to parse this data. If you need to know what the population was in 1959, for example, you can tell from a single glance."
   ]
  },
  {
   "cell_type": "markdown",
   "metadata": {
    "deletable": false,
    "editable": false
   },
   "source": [
    "<span style=\"color:blue\">**Question 6.0.1**</span> In the cell below, we've created 2 arrays. Using the steps above, assign `top_10_movies` to a table that has two columns called \"Rating\" and \"Name\", which hold `top_10_movie_ratings` and `top_10_movie_names` respectively.\n",
    "\n",
    "<!--\n",
    "BEGIN QUESTION\n",
    "name: q61\n",
    "-->"
   ]
  },
  {
   "cell_type": "code",
   "execution_count": null,
   "metadata": {},
   "outputs": [],
   "source": [
    "top_10_movie_ratings = make_array(9.2, 9.2, 9., 8.9, 8.9, 8.9, 8.9, 8.9, 8.9, 8.8)\n",
    "top_10_movie_names = make_array(\n",
    "        'The Shawshank Redemption (1994)',\n",
    "        'The Godfather (1972)',\n",
    "        'The Godfather: Part II (1974)',\n",
    "        'Pulp Fiction (1994)',\n",
    "        \"Schindler's List (1993)\",\n",
    "        'The Lord of the Rings: The Return of the King (2003)',\n",
    "        '12 Angry Men (1957)',\n",
    "        'The Dark Knight (2008)',\n",
    "        'Il buono, il brutto, il cattivo (1966)',\n",
    "        'The Lord of the Rings: The Fellowship of the Ring (2001)')\n",
    "\n",
    "top_10_movies = ...\n",
    "\n",
    "# We've put this next line here \n",
    "# so your table will get printed out \n",
    "# when you run this cell.\n",
    "top_10_movies"
   ]
  },
  {
   "cell_type": "code",
   "execution_count": null,
   "metadata": {
    "deletable": false,
    "editable": false
   },
   "outputs": [],
   "source": [
    "grader.check(\"q61\")"
   ]
  },
  {
   "cell_type": "markdown",
   "metadata": {
    "deletable": false,
    "editable": false
   },
   "source": [
    "#### Loading a table from a file\n",
    "\n",
    "In most cases, we aren't going to go through the trouble of typing in all the data manually. Instead, we load them in from an external source, like a data file. There are many formats for data files, but CSV (\"comma-separated values\") is the most common. \n",
    "\n",
    "`Table.read_table(...)` takes one argument (a path to a data file in string format) and returns a table.  \n",
    "\n",
    "*Hint: You might be super familiar with this method from the demo video Intro to Tables!*\n",
    "\n",
    "<span style=\"color:blue\">**Question 6.0.2** Remember from earlier in the lab -- `imdb.csv` contains a table of information about the 250 highest-rated movies on IMDb.  Load it as a table called `imdb`. We've actually done this eariler in an above cell!\n",
    "\n",
    "<!--\n",
    "BEGIN QUESTION\n",
    "name: q62\n",
    "-->"
   ]
  },
  {
   "cell_type": "code",
   "execution_count": null,
   "metadata": {},
   "outputs": [],
   "source": [
    "imdb = ...\n",
    "imdb"
   ]
  },
  {
   "cell_type": "code",
   "execution_count": null,
   "metadata": {
    "deletable": false,
    "editable": false
   },
   "outputs": [],
   "source": [
    "grader.check(\"q62\")"
   ]
  },
  {
   "cell_type": "markdown",
   "metadata": {},
   "source": [
    "Where did `imdb.csv` come from? Take a look at [this lab's folder](./). You should see a file called `imdb.csv`.\n",
    "\n",
    "Open up the `imdb.csv` file in that folder and look at the format. What do you notice? The `.csv` filename ending says that this file is in the [CSV (comma-separated value) format](http://edoceo.com/utilitas/csv-file-format)."
   ]
  },
  {
   "cell_type": "markdown",
   "metadata": {
    "collapsed": true
   },
   "source": [
    "## 7. More table operations!\n",
    "\n",
    "Now that you've worked with arrays, let's add a few more methods to our list of table operations.\n",
    "\n",
    "### `column`\n",
    "\n",
    "`column` takes the column name of a table (in string format) as its argument and returns the values in that column as an **array**. "
   ]
  },
  {
   "cell_type": "code",
   "execution_count": null,
   "metadata": {
    "scrolled": true
   },
   "outputs": [],
   "source": [
    "# Returns an array of movie names\n",
    "top_10_movies.column('Name')"
   ]
  },
  {
   "cell_type": "markdown",
   "metadata": {},
   "source": [
    "### `take`\n",
    "The table method `take` takes as its argument an array of numbers.  Each number should be the index of a row in the table.  It returns a **new table** with only those rows. \n",
    "\n",
    "You'll usually want to use `take` in conjunction with `np.arange` to take the first few rows of a table."
   ]
  },
  {
   "cell_type": "code",
   "execution_count": null,
   "metadata": {
    "scrolled": true
   },
   "outputs": [],
   "source": [
    "# Take first 5 movies of top_10_movies\n",
    "top_10_movies.take(np.arange(0, 5, 1))"
   ]
  },
  {
   "cell_type": "markdown",
   "metadata": {},
   "source": [
    "The next three questions will give you practice with combining the operations you've learned in this lab and the previous one to answer questions about the `population` and `imdb` tables. First, check out the `population` table from section 2."
   ]
  },
  {
   "cell_type": "code",
   "execution_count": null,
   "metadata": {},
   "outputs": [],
   "source": [
    "# Run this cell to display the population table.\n",
    "population"
   ]
  },
  {
   "cell_type": "markdown",
   "metadata": {
    "deletable": false,
    "editable": false
   },
   "source": [
    "<span style=\"color:blue\">**Question 7.0.1**</span> Check out the `population` table from section 2 of this lab.  Compute the year when the world population first went above 6 billion. Assign the year to `year_population_crossed_6_billion`.\n",
    "\n",
    "<!--\n",
    "BEGIN QUESTION\n",
    "name: q71\n",
    "-->"
   ]
  },
  {
   "cell_type": "code",
   "execution_count": null,
   "metadata": {},
   "outputs": [],
   "source": [
    "year_population_crossed_6_billion = ...\n",
    "year_population_crossed_6_billion"
   ]
  },
  {
   "cell_type": "code",
   "execution_count": null,
   "metadata": {
    "deletable": false,
    "editable": false
   },
   "outputs": [],
   "source": [
    "grader.check(\"q71\")"
   ]
  },
  {
   "cell_type": "markdown",
   "metadata": {
    "deletable": false,
    "editable": false
   },
   "source": [
    "<span style=\"color:blue\">**Question 7.0.2**</span> Find the average rating for movies released before the year 2000 and the average rating for movies released in the year 2000 or after for the movies in `imdb`.\n",
    "\n",
    "*Hint*: Think of the steps you need to do (take the average, find the ratings, find movies released in 20th/21st centuries), and try to put them in an order that makes sense.\n",
    "\n",
    "<!--\n",
    "BEGIN QUESTION\n",
    "name: q72\n",
    "-->"
   ]
  },
  {
   "cell_type": "code",
   "execution_count": null,
   "metadata": {},
   "outputs": [],
   "source": [
    "before_2000 = ...\n",
    "after_or_in_2000 = ...\n",
    "print(\"Average before 2000 rating:\", before_2000)\n",
    "print(\"Average after or in 2000 rating:\", after_or_in_2000)"
   ]
  },
  {
   "cell_type": "code",
   "execution_count": null,
   "metadata": {
    "deletable": false,
    "editable": false
   },
   "outputs": [],
   "source": [
    "grader.check(\"q72\")"
   ]
  },
  {
   "cell_type": "markdown",
   "metadata": {
    "deletable": false,
    "editable": false
   },
   "source": [
    "<span style=\"color:blue\">**Question 7.0.3**</span> Here's a challenge: Find the number of movies that came out in *even* years.\n",
    "\n",
    "*Hint:* The operator `%` computes the remainder when dividing by a number.  So `5 % 2` is 1 and `6 % 2` is 0.  A number is even if the remainder is 0 when you divide by 2.\n",
    "\n",
    "*Hint 2:* `%` can be used on arrays, operating elementwise like `+` or `*`.  So `make_array(5, 6, 7) % 2` is `array([1, 0, 1])`.\n",
    "\n",
    "*Hint 3:* Create a column called \"Year Remainder\" that's the remainder when each movie's release year is divided by 2.  Make a copy of `imdb` that includes that column (`imdb.with_column(...)` returns a new table).  Then use `where` to find rows where that new column is equal to 0.  Then use `num_rows` to count the number of such rows.\n",
    "\n",
    "*Note:* These steps can be chained in one single statement, or broken up across several lines with intermediate names assigned. You’re always welcome to break down problems however you wish!\n",
    "\n",
    "<!--\n",
    "BEGIN QUESTION\n",
    "name: q73\n",
    "-->"
   ]
  },
  {
   "cell_type": "code",
   "execution_count": null,
   "metadata": {},
   "outputs": [],
   "source": [
    "num_even_year_movies = ...\n",
    "num_even_year_movies"
   ]
  },
  {
   "cell_type": "code",
   "execution_count": null,
   "metadata": {
    "deletable": false,
    "editable": false
   },
   "outputs": [],
   "source": [
    "grader.check(\"q73\")"
   ]
  },
  {
   "cell_type": "markdown",
   "metadata": {},
   "source": [
    "## 8. Summary\n",
    "\n",
    "For your reference, here's a table of all the functions and methods we saw in this lab. We'll learn more methods to add to this table in the coming week!\n",
    "\n",
    "|Name|Example|Purpose|\n",
    "|-|-|-|\n",
    "|`sort`|`tbl.sort(\"N\")`|Create a copy of a table sorted by the values in a column|\n",
    "|`where`|`tbl.where(\"N\", are.above(2))`|Create a copy of a table with only the rows that match some *predicate*|\n",
    "|`num_rows`|`tbl.num_rows`|Compute the number of rows in a table|\n",
    "|`num_columns`|`tbl.num_columns`|Compute the number of columns in a table|\n",
    "|`select`|`tbl.select(\"N\")`|Create a copy of a table with only some of the columns|\n",
    "|`drop`|`tbl.drop(\"N\")`|Create a copy of a table without some of the columns|\n",
    "|`column`|`tbl.column(\"N\")`|Creates an array made up of the values of a given column in a table|\n",
    "|`take`|`tbl.take(N)`|Creates a new table with selected rows given by the provided index|\n",
    "\n",
    "<br/>\n",
    "\n",
    "Alright! You're finished with lab 2!  Be sure to...\n",
    "- run all the tests (the next cell has a shortcut for that), \n",
    "- **Save and Checkpoint** from the `File` menu,\n",
    "- **run the last cell to submit your work**,"
   ]
  },
  {
   "cell_type": "markdown",
   "metadata": {},
   "source": [
    "This lab is altered from the original [Berkeley data-8 course](http://data8.org/), which is licensed under the [Creative Commons license](https://creativecommons.org/licenses/by-nc/4.0/).\n",
    "\n",
    "We got our `trees.csv` dataset from [the open Edmonton portal](https://data.edmonton.ca/)"
   ]
  },
  {
   "cell_type": "markdown",
   "metadata": {
    "deletable": false,
    "editable": false
   },
   "source": [
    "---\n",
    "\n",
    "To double-check your work, the cell below will rerun all of the autograder tests."
   ]
  },
  {
   "cell_type": "code",
   "execution_count": null,
   "metadata": {
    "deletable": false,
    "editable": false
   },
   "outputs": [],
   "source": [
    "grader.check_all()"
   ]
  },
  {
   "cell_type": "markdown",
   "metadata": {
    "deletable": false,
    "editable": false
   },
   "source": [
    "## Submission\n",
    "\n",
    "Make sure you have run all cells in your notebook in order before running the cell below, so that all images/graphs appear in the output. The cell below will generate a zip file for you to submit. **Please save before exporting!**\n",
    "\n",
    "Be sure to run the tests and verify that they all pass. **Just because the tests pass does not mean it's the right answer**, the tests will sometimes give a hint or notify you if you missed a question. Then choose **Save and Checkpoint** from the **File** menu, then run the final cell to create the .zip file.\n",
    "**The .zip file is what you will hand in on eclass.**"
   ]
  },
  {
   "cell_type": "code",
   "execution_count": null,
   "metadata": {
    "deletable": false,
    "editable": false
   },
   "outputs": [],
   "source": [
    "# Save your notebook first, then run this cell to export your submission.\n",
    "grader.export()"
   ]
  }
 ],
 "metadata": {
  "celltoolbar": "Edit Metadata",
  "history": [
   {
    "code": "# Just run this cell\n\nimport numpy as np\nfrom datascience import *\n\n\n# These lines load the tests.\n# When you log-in please hit return (not shift + return) after typing in your email\n",
    "id": "38b63798e7304efb8cd8b1a7a52bcddb",
    "idx": 2,
    "time": "2021-02-16T04:53:03.752Z",
    "type": "execution"
   },
   {
    "id": "38b63798e7304efb8cd8b1a7a52bcddb",
    "time": "2021-02-16T04:53:09.673Z",
    "type": "completion"
   },
   {
    "code": "near_twenty = radius**2 * math.pi # SOLUTION\nnear_twenty",
    "id": "14c3280f0b54464c85242ba22e7381f1",
    "idx": 12,
    "time": "2021-02-16T08:11:29.080Z",
    "type": "execution"
   },
   {
    "id": "14c3280f0b54464c85242ba22e7381f1",
    "time": "2021-02-16T08:11:29.250Z",
    "type": "completion"
   },
   {
    "code": "# Just run this cell\n\nimport numpy as np\nfrom datascience import *\n\n\n# These lines load the tests.\n# When you log-in please hit return (not shift + return) after typing in your email\n",
    "id": "9104c45c29614eb686d57e49e14e386c",
    "idx": 2,
    "time": "2021-02-16T08:11:36.571Z",
    "type": "execution"
   },
   {
    "code": "new_year = 2020 # SOLUTION\nnew_year",
    "id": "6b6244eb0cb14ef88c50c8077c4a1025",
    "idx": 5,
    "time": "2021-02-16T08:11:36.574Z",
    "type": "execution"
   },
   {
    "code": "#HIDDEN TEST\nnew_year == 2020",
    "id": "cd56254d288b462ba94fb43c0ebc1359",
    "idx": 6,
    "time": "2021-02-16T08:11:36.576Z",
    "type": "execution"
   },
   {
    "code": "import math\nradius = 5\narea_of_circle = radius**2 * math.pi\narea_of_circle",
    "id": "c4b687e408d5479abdc414b6c633c026",
    "idx": 9,
    "time": "2021-02-16T08:11:36.579Z",
    "type": "execution"
   },
   {
    "id": "9104c45c29614eb686d57e49e14e386c",
    "time": "2021-02-16T08:11:38.880Z",
    "type": "completion"
   },
   {
    "id": "6b6244eb0cb14ef88c50c8077c4a1025",
    "time": "2021-02-16T08:11:38.885Z",
    "type": "completion"
   },
   {
    "id": "cd56254d288b462ba94fb43c0ebc1359",
    "time": "2021-02-16T08:11:38.922Z",
    "type": "completion"
   },
   {
    "id": "c4b687e408d5479abdc414b6c633c026",
    "time": "2021-02-16T08:11:38.924Z",
    "type": "completion"
   },
   {
    "code": "near_twenty = radius**2 * math.pi # SOLUTION\nnear_twenty",
    "id": "14c3280f0b54464c85242ba22e7381f1",
    "idx": 12,
    "time": "2021-02-16T08:11:41.398Z",
    "type": "execution"
   },
   {
    "id": "14c3280f0b54464c85242ba22e7381f1",
    "time": "2021-02-16T08:11:41.473Z",
    "type": "completion"
   },
   {
    "code": "# TEST\nround(near_twenty, 8)",
    "id": "a458fc90b75d459785aaf63c1b17a80b",
    "idx": 13,
    "time": "2021-02-16T08:12:21.539Z",
    "type": "execution"
   },
   {
    "id": "a458fc90b75d459785aaf63c1b17a80b",
    "time": "2021-02-16T08:12:21.600Z",
    "type": "completion"
   },
   {
    "code": "near_twenty = math.e ** math.pi - math.pi # SOLUTION\nnear_twenty",
    "id": "14c3280f0b54464c85242ba22e7381f1",
    "idx": 12,
    "time": "2021-02-16T08:13:23.657Z",
    "type": "execution"
   },
   {
    "id": "14c3280f0b54464c85242ba22e7381f1",
    "time": "2021-02-16T08:13:23.739Z",
    "type": "completion"
   },
   {
    "code": "# TEST\nround(near_twenty, 8)",
    "id": "a458fc90b75d459785aaf63c1b17a80b",
    "idx": 13,
    "time": "2021-02-16T08:13:30.429Z",
    "type": "execution"
   },
   {
    "id": "a458fc90b75d459785aaf63c1b17a80b",
    "time": "2021-02-16T08:13:30.497Z",
    "type": "completion"
   },
   {
    "code": "sine_of_pi_over_four = math.sin(math.pi / 4) # SOLUTION\nsine_of_pi_over_four",
    "id": "309cf9facf204c5fbca06e9109147fe8",
    "idx": 16,
    "time": "2021-02-16T08:14:40.418Z",
    "type": "execution"
   },
   {
    "id": "309cf9facf204c5fbca06e9109147fe8",
    "time": "2021-02-16T08:14:40.489Z",
    "type": "completion"
   },
   {
    "code": "# TEST\n# Hint: You can write the sine of 1.5*pi as:\n#   math.sin(1.5 * math.pi)\nimport math\nround(sine_of_pi_over_four, 8)",
    "id": "534b367c21944f3488de2187b6fa31d5",
    "idx": 17,
    "time": "2021-02-16T08:15:39.172Z",
    "type": "execution"
   },
   {
    "id": "534b367c21944f3488de2187b6fa31d5",
    "time": "2021-02-16T08:15:39.240Z",
    "type": "completion"
   },
   {
    "code": "# Calculating logarithms (the logarithm of 8 in base 2).\n# The result is 3 because 2 to the power of 3 is 8.\nmath.log(8, 2)",
    "id": "7c67ab3427ba49888e871707bac58449",
    "idx": 19,
    "time": "2021-02-16T08:16:01.798Z",
    "type": "execution"
   },
   {
    "id": "7c67ab3427ba49888e871707bac58449",
    "time": "2021-02-16T08:16:01.874Z",
    "type": "completion"
   },
   {
    "code": "# Calculating square roots.\nmath.sqrt(5)",
    "id": "8e618a8ace414fa38f6f2c3aaf4711cc",
    "idx": 20,
    "time": "2021-02-16T08:16:04.705Z",
    "type": "execution"
   },
   {
    "id": "8e618a8ace414fa38f6f2c3aaf4711cc",
    "time": "2021-02-16T08:16:04.790Z",
    "type": "completion"
   },
   {
    "code": "# Importing just cos and pi from math.\n# We don't have to use `math.` in front of cos or pi\nfrom math import cos, pi\nprint(cos(pi))\n\n# We do have to use it in front of other functions from math, though\nmath.log(pi)",
    "id": "2aac6edd752f464a8577596dc7b10c1b",
    "idx": 22,
    "time": "2021-02-16T08:16:10.269Z",
    "type": "execution"
   },
   {
    "id": "2aac6edd752f464a8577596dc7b10c1b",
    "time": "2021-02-16T08:16:10.357Z",
    "type": "completion"
   },
   {
    "code": "# Lastly, we can import everything from math using the *\n# Once again, we don't have to use 'math.' beforehand \nfrom math import *\nlog(pi)",
    "id": "161f5c794d4847f2898fd15871db4b2d",
    "idx": 24,
    "time": "2021-02-16T08:16:11.168Z",
    "type": "execution"
   },
   {
    "id": "161f5c794d4847f2898fd15871db4b2d",
    "time": "2021-02-16T08:16:11.232Z",
    "type": "completion"
   },
   {
    "code": "# Just run this cell\n\nfarmers_markets = Table.read_table('farmers_markets.csv')",
    "id": "d71d39971a3b4765834a26779cba57d3",
    "idx": 27,
    "time": "2021-02-16T08:16:16.949Z",
    "type": "execution"
   },
   {
    "id": "d71d39971a3b4765834a26779cba57d3",
    "time": "2021-02-16T08:16:17.584Z",
    "type": "completion"
   },
   {
    "code": "num_farmers_markets_columns = farmers_markets.num_columns # SOLUTION\nprint(\"The table has\", num_farmers_markets_columns, \"columns in it!\")",
    "id": "f1d8353ea3fe4174a10df0c70119b860",
    "idx": 31,
    "time": "2021-02-16T08:21:57.979Z",
    "type": "execution"
   },
   {
    "id": "f1d8353ea3fe4174a10df0c70119b860",
    "time": "2021-02-16T08:21:58.069Z",
    "type": "completion"
   },
   {
    "code": "# HIDDEN TEST\nnum_farmers_markets_columns == 59",
    "id": "c576cbb902764c24aa4f0beb55a685b8",
    "idx": 32,
    "time": "2021-02-16T08:22:37.649Z",
    "type": "execution"
   },
   {
    "id": "c576cbb902764c24aa4f0beb55a685b8",
    "time": "2021-02-16T08:22:37.736Z",
    "type": "completion"
   },
   {
    "code": "# Just run this cell\n\nnum_farmers_markets_rows = farmers_markets.num_rows\nprint(\"The table has\", num_farmers_markets_rows, \"rows in it!\")",
    "id": "d78045d1705748b388e0738c7b903124",
    "idx": 34,
    "time": "2021-02-16T08:22:44.968Z",
    "type": "execution"
   },
   {
    "id": "d78045d1705748b388e0738c7b903124",
    "time": "2021-02-16T08:22:45.045Z",
    "type": "completion"
   },
   {
    "code": "farmers_markets_locations = farmers_markets.select(\"city\", \"State\", \"y\", \"MarketName\", \"x\") # SOLUTION\nfarmers_markets_locations",
    "id": "c661c0d5ebac486b88bac48a85d7193c",
    "idx": 36,
    "time": "2021-02-16T08:24:34.269Z",
    "type": "execution"
   },
   {
    "id": "c661c0d5ebac486b88bac48a85d7193c",
    "time": "2021-02-16T08:24:34.383Z",
    "type": "completion"
   },
   {
    "code": "# TEST\nsorted(farmers_markets_locations.labels)",
    "id": "90060034698440a484cc2a1c89d0a4f2",
    "idx": 37,
    "time": "2021-02-16T08:25:36.293Z",
    "type": "execution"
   },
   {
    "id": "90060034698440a484cc2a1c89d0a4f2",
    "time": "2021-02-16T08:25:36.392Z",
    "type": "completion"
   },
   {
    "code": "# HIDDEN TEST\nsorted(farmers_markets_locations.labels) == ['MarketName', 'State', 'city', 'x', 'y']",
    "id": "90060034698440a484cc2a1c89d0a4f2",
    "idx": 37,
    "time": "2021-02-16T08:26:04.025Z",
    "type": "execution"
   },
   {
    "id": "90060034698440a484cc2a1c89d0a4f2",
    "time": "2021-02-16T08:26:04.097Z",
    "type": "completion"
   },
   {
    "code": "# TEST\nfarmers_markets_locations.num_rows == 8546",
    "id": "6915a30f7e704a7b8af96316833f29ca",
    "idx": 38,
    "time": "2021-02-16T08:26:30.404Z",
    "type": "execution"
   },
   {
    "id": "6915a30f7e704a7b8af96316833f29ca",
    "time": "2021-02-16T08:26:30.478Z",
    "type": "completion"
   },
   {
    "code": "# TEST\nsorted(farmers_markets_locations.labels) == ['MarketName', 'State', 'city', 'x', 'y']",
    "id": "90060034698440a484cc2a1c89d0a4f2",
    "idx": 37,
    "time": "2021-02-16T08:26:36.934Z",
    "type": "execution"
   },
   {
    "id": "90060034698440a484cc2a1c89d0a4f2",
    "time": "2021-02-16T08:26:37.004Z",
    "type": "completion"
   },
   {
    "code": "# TEST\nfarmers_markets_locations.num_rows == 8546",
    "id": "6915a30f7e704a7b8af96316833f29ca",
    "idx": 38,
    "time": "2021-02-16T08:26:37.511Z",
    "type": "execution"
   },
   {
    "id": "6915a30f7e704a7b8af96316833f29ca",
    "time": "2021-02-16T08:26:37.599Z",
    "type": "completion"
   },
   {
    "code": "# HIDDEN TEST\nsorted(farmers_markets_locations.labels) == ['MarketName', 'State', 'city', 'x', 'y']",
    "id": "90060034698440a484cc2a1c89d0a4f2",
    "idx": 37,
    "time": "2021-02-16T08:26:50.086Z",
    "type": "execution"
   },
   {
    "id": "90060034698440a484cc2a1c89d0a4f2",
    "time": "2021-02-16T08:26:50.156Z",
    "type": "completion"
   },
   {
    "code": "# TEST\nfarmers_markets_locations.num_rows == 8546",
    "id": "6915a30f7e704a7b8af96316833f29ca",
    "idx": 38,
    "time": "2021-02-16T08:26:52.154Z",
    "type": "execution"
   },
   {
    "id": "6915a30f7e704a7b8af96316833f29ca",
    "time": "2021-02-16T08:26:52.227Z",
    "type": "completion"
   },
   {
    "code": "farmers_markets_without_fmid = farmers_markets.drop(\"FMID\", \"updateTime\") # SOLUTION\nfarmers_markets_without_fmid",
    "id": "88e101833a3a43f281c8fbe4e5edc41d",
    "idx": 40,
    "time": "2021-02-16T08:28:08.077Z",
    "type": "execution"
   },
   {
    "id": "88e101833a3a43f281c8fbe4e5edc41d",
    "time": "2021-02-16T08:28:10.051Z",
    "type": "completion"
   },
   {
    "code": "# TEST\nfarmers_markets_without_fmid.num_columns",
    "id": "0107ee9d3b6d42b795d6cfe3f4ec045d",
    "idx": 41,
    "time": "2021-02-16T08:29:01.460Z",
    "type": "execution"
   },
   {
    "id": "0107ee9d3b6d42b795d6cfe3f4ec045d",
    "time": "2021-02-16T08:29:01.527Z",
    "type": "completion"
   },
   {
    "code": "# TEST\nfarmers_markets_without_fmid.num_columns == 57",
    "id": "0107ee9d3b6d42b795d6cfe3f4ec045d",
    "idx": 41,
    "time": "2021-02-16T08:29:06.489Z",
    "type": "execution"
   },
   {
    "id": "0107ee9d3b6d42b795d6cfe3f4ec045d",
    "time": "2021-02-16T08:29:06.573Z",
    "type": "completion"
   },
   {
    "code": "# TEST\nprint(sorted(farmers_markets_without_fmid.labels))",
    "id": "a1399913244f44e6a9e7801dd9b67ba7",
    "idx": 42,
    "time": "2021-02-16T08:30:09.349Z",
    "type": "execution"
   },
   {
    "id": "a1399913244f44e6a9e7801dd9b67ba7",
    "time": "2021-02-16T08:30:09.437Z",
    "type": "completion"
   },
   {
    "code": "farmers_markets_locations.sort('x')",
    "id": "4d95bd7f16da4005ba887722861a39dd",
    "idx": 44,
    "time": "2021-02-16T08:30:20.125Z",
    "type": "execution"
   },
   {
    "id": "4d95bd7f16da4005ba887722861a39dd",
    "time": "2021-02-16T08:30:20.238Z",
    "type": "completion"
   },
   {
    "code": "farmers_markets_locations.sort('x', descending=True)",
    "id": "4bb9cd749f8a45b49221d5adc37ee3f6",
    "idx": 46,
    "time": "2021-02-16T08:30:24.250Z",
    "type": "execution"
   },
   {
    "id": "4bb9cd749f8a45b49221d5adc37ee3f6",
    "time": "2021-02-16T08:30:24.336Z",
    "type": "completion"
   },
   {
    "code": "farmers_markets_locations_by_latitude = farmers_markets_locations.sort('y', descending = True) # SOLUTION\nfarmers_markets_locations_by_latitude",
    "id": "c97efa93abf4478aaed3a0c0af8f3446",
    "idx": 48,
    "time": "2021-02-16T08:31:49.614Z",
    "type": "execution"
   },
   {
    "id": "c97efa93abf4478aaed3a0c0af8f3446",
    "time": "2021-02-16T08:31:49.718Z",
    "type": "completion"
   },
   {
    "code": "# TEST\ntype(farmers_markets_locations_by_latitude) == tables.Table",
    "id": "c79101f0a71a42d8a252e4da2cb8f841",
    "idx": 49,
    "time": "2021-02-16T08:32:26.295Z",
    "type": "execution"
   },
   {
    "id": "c79101f0a71a42d8a252e4da2cb8f841",
    "time": "2021-02-16T08:32:26.360Z",
    "type": "completion"
   },
   {
    "code": "# TEST\nlist(farmers_markets_locations_by_latitude.column('y').take(range(3)))",
    "id": "ecdc073691ad4db783cf43f2ed31c132",
    "idx": 50,
    "time": "2021-02-16T08:32:42.926Z",
    "type": "execution"
   },
   {
    "id": "ecdc073691ad4db783cf43f2ed31c132",
    "time": "2021-02-16T08:32:43.860Z",
    "type": "completion"
   },
   {
    "code": "# HIDDEN TEST\nsorted(farmers_markets_locations.labels)",
    "id": "90060034698440a484cc2a1c89d0a4f2",
    "idx": 37,
    "time": "2021-02-16T08:33:17.072Z",
    "type": "execution"
   },
   {
    "id": "90060034698440a484cc2a1c89d0a4f2",
    "time": "2021-02-16T08:33:17.280Z",
    "type": "completion"
   },
   {
    "code": "berkeley_markets = california_farmers_markets.where('city', are.equal_to(\"Berkeley\")) # SOLUTION\nberkeley_markets",
    "id": "ed886e4d66b048178c9e9840557fdf4b",
    "idx": 56,
    "time": "2021-02-16T08:34:30.821Z",
    "type": "execution"
   },
   {
    "id": "ed886e4d66b048178c9e9840557fdf4b",
    "time": "2021-02-16T08:34:31.045Z",
    "type": "completion"
   },
   {
    "code": "# Just run this cell\n\nimport numpy as np\nfrom datascience import *\n\n\n# These lines load the tests.\n# When you log-in please hit return (not shift + return) after typing in your email\n",
    "id": "9104c45c29614eb686d57e49e14e386c",
    "idx": 2,
    "time": "2021-02-16T08:34:37.329Z",
    "type": "execution"
   },
   {
    "code": "new_year = 2020 # SOLUTION\nnew_year",
    "id": "6b6244eb0cb14ef88c50c8077c4a1025",
    "idx": 5,
    "time": "2021-02-16T08:34:37.332Z",
    "type": "execution"
   },
   {
    "code": "#HIDDEN TEST\nnew_year == 2020",
    "id": "cd56254d288b462ba94fb43c0ebc1359",
    "idx": 6,
    "time": "2021-02-16T08:34:37.333Z",
    "type": "execution"
   },
   {
    "code": "import math\nradius = 5\narea_of_circle = radius**2 * math.pi\narea_of_circle",
    "id": "c4b687e408d5479abdc414b6c633c026",
    "idx": 9,
    "time": "2021-02-16T08:34:37.335Z",
    "type": "execution"
   },
   {
    "code": "near_twenty = math.e ** math.pi - math.pi # SOLUTION\nnear_twenty",
    "id": "14c3280f0b54464c85242ba22e7381f1",
    "idx": 12,
    "time": "2021-02-16T08:34:37.337Z",
    "type": "execution"
   },
   {
    "code": "# TEST\nround(near_twenty, 8)",
    "id": "a458fc90b75d459785aaf63c1b17a80b",
    "idx": 13,
    "time": "2021-02-16T08:34:37.339Z",
    "type": "execution"
   },
   {
    "code": "sine_of_pi_over_four = math.sin(math.pi / 4) # SOLUTION\nsine_of_pi_over_four",
    "id": "309cf9facf204c5fbca06e9109147fe8",
    "idx": 16,
    "time": "2021-02-16T08:34:37.364Z",
    "type": "execution"
   },
   {
    "code": "# TEST\n# Hint: You can write the sine of 1.5*pi as:\n#   math.sin(1.5 * math.pi)\nimport math\nround(sine_of_pi_over_four, 8)",
    "id": "534b367c21944f3488de2187b6fa31d5",
    "idx": 17,
    "time": "2021-02-16T08:34:37.366Z",
    "type": "execution"
   },
   {
    "code": "# Calculating logarithms (the logarithm of 8 in base 2).\n# The result is 3 because 2 to the power of 3 is 8.\nmath.log(8, 2)",
    "id": "7c67ab3427ba49888e871707bac58449",
    "idx": 19,
    "time": "2021-02-16T08:34:37.368Z",
    "type": "execution"
   },
   {
    "code": "# Calculating square roots.\nmath.sqrt(5)",
    "id": "8e618a8ace414fa38f6f2c3aaf4711cc",
    "idx": 20,
    "time": "2021-02-16T08:34:37.369Z",
    "type": "execution"
   },
   {
    "code": "# Importing just cos and pi from math.\n# We don't have to use `math.` in front of cos or pi\nfrom math import cos, pi\nprint(cos(pi))\n\n# We do have to use it in front of other functions from math, though\nmath.log(pi)",
    "id": "2aac6edd752f464a8577596dc7b10c1b",
    "idx": 22,
    "time": "2021-02-16T08:34:37.371Z",
    "type": "execution"
   },
   {
    "code": "# Lastly, we can import everything from math using the *\n# Once again, we don't have to use 'math.' beforehand \nfrom math import *\nlog(pi)",
    "id": "161f5c794d4847f2898fd15871db4b2d",
    "idx": 24,
    "time": "2021-02-16T08:34:37.372Z",
    "type": "execution"
   },
   {
    "code": "# Just run this cell\n\nfarmers_markets = Table.read_table('farmers_markets.csv')",
    "id": "d71d39971a3b4765834a26779cba57d3",
    "idx": 27,
    "time": "2021-02-16T08:34:37.374Z",
    "type": "execution"
   },
   {
    "code": "farmers_markets.show(5) # SOLUTION",
    "id": "221a7797806447ff84de2dd296fa365b",
    "idx": 29,
    "time": "2021-02-16T08:34:37.378Z",
    "type": "execution"
   },
   {
    "code": "num_farmers_markets_columns = farmers_markets.num_columns # SOLUTION\nprint(\"The table has\", num_farmers_markets_columns, \"columns in it!\")",
    "id": "f1d8353ea3fe4174a10df0c70119b860",
    "idx": 31,
    "time": "2021-02-16T08:34:37.379Z",
    "type": "execution"
   },
   {
    "code": "# HIDDEN TEST\nnum_farmers_markets_columns == 59",
    "id": "c576cbb902764c24aa4f0beb55a685b8",
    "idx": 32,
    "time": "2021-02-16T08:34:37.382Z",
    "type": "execution"
   },
   {
    "code": "# Just run this cell\n\nnum_farmers_markets_rows = farmers_markets.num_rows\nprint(\"The table has\", num_farmers_markets_rows, \"rows in it!\")",
    "id": "d78045d1705748b388e0738c7b903124",
    "idx": 34,
    "time": "2021-02-16T08:34:37.383Z",
    "type": "execution"
   },
   {
    "code": "farmers_markets_locations = farmers_markets.select(\"city\", \"State\", \"y\", \"MarketName\", \"x\") # SOLUTION\nfarmers_markets_locations",
    "id": "c661c0d5ebac486b88bac48a85d7193c",
    "idx": 36,
    "time": "2021-02-16T08:34:37.385Z",
    "type": "execution"
   },
   {
    "code": "# HIDDEN TEST\nsorted(farmers_markets_locations.labels)",
    "id": "90060034698440a484cc2a1c89d0a4f2",
    "idx": 37,
    "time": "2021-02-16T08:34:37.387Z",
    "type": "execution"
   },
   {
    "code": "# TEST\nfarmers_markets_locations.num_rows == 8546",
    "id": "6915a30f7e704a7b8af96316833f29ca",
    "idx": 38,
    "time": "2021-02-16T08:34:37.388Z",
    "type": "execution"
   },
   {
    "code": "farmers_markets_without_fmid = farmers_markets.drop(\"FMID\", \"updateTime\") # SOLUTION\nfarmers_markets_without_fmid",
    "id": "88e101833a3a43f281c8fbe4e5edc41d",
    "idx": 40,
    "time": "2021-02-16T08:34:37.392Z",
    "type": "execution"
   },
   {
    "code": "# TEST\nfarmers_markets_without_fmid.num_columns == 57",
    "id": "0107ee9d3b6d42b795d6cfe3f4ec045d",
    "idx": 41,
    "time": "2021-02-16T08:34:37.393Z",
    "type": "execution"
   },
   {
    "code": "# TEST\nprint(sorted(farmers_markets_without_fmid.labels))",
    "id": "a1399913244f44e6a9e7801dd9b67ba7",
    "idx": 42,
    "time": "2021-02-16T08:34:37.394Z",
    "type": "execution"
   },
   {
    "code": "farmers_markets_locations.sort('x')",
    "id": "4d95bd7f16da4005ba887722861a39dd",
    "idx": 44,
    "time": "2021-02-16T08:34:37.396Z",
    "type": "execution"
   },
   {
    "code": "farmers_markets_locations.sort('x', descending=True)",
    "id": "4bb9cd749f8a45b49221d5adc37ee3f6",
    "idx": 46,
    "time": "2021-02-16T08:34:37.399Z",
    "type": "execution"
   },
   {
    "code": "farmers_markets_locations_by_latitude = farmers_markets_locations.sort('y', descending = True) # SOLUTION\nfarmers_markets_locations_by_latitude",
    "id": "c97efa93abf4478aaed3a0c0af8f3446",
    "idx": 48,
    "time": "2021-02-16T08:34:37.400Z",
    "type": "execution"
   },
   {
    "code": "# TEST\ntype(farmers_markets_locations_by_latitude) == tables.Table",
    "id": "c79101f0a71a42d8a252e4da2cb8f841",
    "idx": 49,
    "time": "2021-02-16T08:34:37.402Z",
    "type": "execution"
   },
   {
    "code": "# TEST\nlist(farmers_markets_locations_by_latitude.column('y').take(range(3)))",
    "id": "ecdc073691ad4db783cf43f2ed31c132",
    "idx": 50,
    "time": "2021-02-16T08:34:37.405Z",
    "type": "execution"
   },
   {
    "code": "california_farmers_markets = farmers_markets_locations.where('State', are.equal_to('California'))\ncalifornia_farmers_markets",
    "id": "d6b1384d7d5442408204eac1fa8ae4ae",
    "idx": 52,
    "time": "2021-02-16T08:34:37.407Z",
    "type": "execution"
   },
   {
    "id": "9104c45c29614eb686d57e49e14e386c",
    "time": "2021-02-16T08:34:37.491Z",
    "type": "completion"
   },
   {
    "id": "6b6244eb0cb14ef88c50c8077c4a1025",
    "time": "2021-02-16T08:34:37.494Z",
    "type": "completion"
   },
   {
    "id": "cd56254d288b462ba94fb43c0ebc1359",
    "time": "2021-02-16T08:34:37.496Z",
    "type": "completion"
   },
   {
    "id": "c4b687e408d5479abdc414b6c633c026",
    "time": "2021-02-16T08:34:37.497Z",
    "type": "completion"
   },
   {
    "id": "14c3280f0b54464c85242ba22e7381f1",
    "time": "2021-02-16T08:34:37.500Z",
    "type": "completion"
   },
   {
    "id": "a458fc90b75d459785aaf63c1b17a80b",
    "time": "2021-02-16T08:34:37.526Z",
    "type": "completion"
   },
   {
    "id": "309cf9facf204c5fbca06e9109147fe8",
    "time": "2021-02-16T08:34:37.558Z",
    "type": "completion"
   },
   {
    "id": "534b367c21944f3488de2187b6fa31d5",
    "time": "2021-02-16T08:34:37.560Z",
    "type": "completion"
   },
   {
    "id": "7c67ab3427ba49888e871707bac58449",
    "time": "2021-02-16T08:34:37.582Z",
    "type": "completion"
   },
   {
    "id": "8e618a8ace414fa38f6f2c3aaf4711cc",
    "time": "2021-02-16T08:34:37.606Z",
    "type": "completion"
   },
   {
    "id": "2aac6edd752f464a8577596dc7b10c1b",
    "time": "2021-02-16T08:34:37.655Z",
    "type": "completion"
   },
   {
    "id": "161f5c794d4847f2898fd15871db4b2d",
    "time": "2021-02-16T08:34:37.665Z",
    "type": "completion"
   },
   {
    "id": "d71d39971a3b4765834a26779cba57d3",
    "time": "2021-02-16T08:34:38.110Z",
    "type": "completion"
   },
   {
    "id": "221a7797806447ff84de2dd296fa365b",
    "time": "2021-02-16T08:34:38.123Z",
    "type": "completion"
   },
   {
    "id": "f1d8353ea3fe4174a10df0c70119b860",
    "time": "2021-02-16T08:34:38.162Z",
    "type": "completion"
   },
   {
    "id": "c576cbb902764c24aa4f0beb55a685b8",
    "time": "2021-02-16T08:34:38.164Z",
    "type": "completion"
   },
   {
    "id": "d78045d1705748b388e0738c7b903124",
    "time": "2021-02-16T08:34:38.188Z",
    "type": "completion"
   },
   {
    "id": "c661c0d5ebac486b88bac48a85d7193c",
    "time": "2021-02-16T08:34:38.238Z",
    "type": "completion"
   },
   {
    "id": "90060034698440a484cc2a1c89d0a4f2",
    "time": "2021-02-16T08:34:38.242Z",
    "type": "completion"
   },
   {
    "id": "6915a30f7e704a7b8af96316833f29ca",
    "time": "2021-02-16T08:34:38.269Z",
    "type": "completion"
   },
   {
    "id": "88e101833a3a43f281c8fbe4e5edc41d",
    "time": "2021-02-16T08:34:38.438Z",
    "type": "completion"
   },
   {
    "id": "0107ee9d3b6d42b795d6cfe3f4ec045d",
    "time": "2021-02-16T08:34:38.479Z",
    "type": "completion"
   },
   {
    "id": "a1399913244f44e6a9e7801dd9b67ba7",
    "time": "2021-02-16T08:34:38.482Z",
    "type": "completion"
   },
   {
    "id": "4d95bd7f16da4005ba887722861a39dd",
    "time": "2021-02-16T08:34:38.527Z",
    "type": "completion"
   },
   {
    "id": "4bb9cd749f8a45b49221d5adc37ee3f6",
    "time": "2021-02-16T08:34:38.531Z",
    "type": "completion"
   },
   {
    "id": "c97efa93abf4478aaed3a0c0af8f3446",
    "time": "2021-02-16T08:34:38.562Z",
    "type": "completion"
   },
   {
    "id": "c79101f0a71a42d8a252e4da2cb8f841",
    "time": "2021-02-16T08:34:38.567Z",
    "type": "completion"
   },
   {
    "id": "ecdc073691ad4db783cf43f2ed31c132",
    "time": "2021-02-16T08:34:38.570Z",
    "type": "completion"
   },
   {
    "id": "d6b1384d7d5442408204eac1fa8ae4ae",
    "time": "2021-02-16T08:34:38.624Z",
    "type": "completion"
   },
   {
    "code": "berkeley_markets = california_farmers_markets.where('city', are.equal_to(\"Berkeley\")) # SOLUTION\nberkeley_markets",
    "id": "ed886e4d66b048178c9e9840557fdf4b",
    "idx": 56,
    "time": "2021-02-16T08:34:41.451Z",
    "type": "execution"
   },
   {
    "id": "ed886e4d66b048178c9e9840557fdf4b",
    "time": "2021-02-16T08:34:41.595Z",
    "type": "completion"
   },
   {
    "code": "# TEST\nberkeley_markets.num_rows == 3",
    "id": "9549beef875c4953ab13e533d42edd71",
    "idx": 57,
    "time": "2021-02-16T08:35:17.237Z",
    "type": "execution"
   },
   {
    "id": "9549beef875c4953ab13e533d42edd71",
    "time": "2021-02-16T08:35:17.310Z",
    "type": "completion"
   },
   {
    "code": "# TEST\nlist(berkeley_markets.column('city')) == ['Berkeley', 'Berkeley', 'Berkeley']",
    "id": "9406b57a66ca4f209dd18789a0ac339c",
    "idx": 58,
    "time": "2021-02-16T08:35:51.241Z",
    "type": "execution"
   },
   {
    "id": "9406b57a66ca4f209dd18789a0ac339c",
    "time": "2021-02-16T08:35:51.328Z",
    "type": "completion"
   },
   {
    "code": "above_eight = imdb.where('Year', are.between(2010, 2017)).where('Rating', are.above(8)).select('Title', 'Rating') # SOLUTION\nabove_eight",
    "id": "0bdc63c61ddd4cfd8cc080152f5b8a5a",
    "idx": 65,
    "time": "2021-02-16T08:37:05.820Z",
    "type": "execution"
   },
   {
    "id": "0bdc63c61ddd4cfd8cc080152f5b8a5a",
    "time": "2021-02-16T08:37:05.956Z",
    "type": "completion"
   },
   {
    "code": "# Just run this cell\n\nimport numpy as np\nfrom datascience import *\n\n\n# These lines load the tests.\n# When you log-in please hit return (not shift + return) after typing in your email\n",
    "id": "9104c45c29614eb686d57e49e14e386c",
    "idx": 2,
    "time": "2021-02-16T08:37:10.041Z",
    "type": "execution"
   },
   {
    "code": "new_year = 2020 # SOLUTION\nnew_year",
    "id": "6b6244eb0cb14ef88c50c8077c4a1025",
    "idx": 5,
    "time": "2021-02-16T08:37:10.043Z",
    "type": "execution"
   },
   {
    "code": "#HIDDEN TEST\nnew_year == 2020",
    "id": "cd56254d288b462ba94fb43c0ebc1359",
    "idx": 6,
    "time": "2021-02-16T08:37:10.045Z",
    "type": "execution"
   },
   {
    "code": "import math\nradius = 5\narea_of_circle = radius**2 * math.pi\narea_of_circle",
    "id": "c4b687e408d5479abdc414b6c633c026",
    "idx": 9,
    "time": "2021-02-16T08:37:10.048Z",
    "type": "execution"
   },
   {
    "code": "near_twenty = math.e ** math.pi - math.pi # SOLUTION\nnear_twenty",
    "id": "14c3280f0b54464c85242ba22e7381f1",
    "idx": 12,
    "time": "2021-02-16T08:37:10.050Z",
    "type": "execution"
   },
   {
    "code": "# TEST\nround(near_twenty, 8)",
    "id": "a458fc90b75d459785aaf63c1b17a80b",
    "idx": 13,
    "time": "2021-02-16T08:37:10.051Z",
    "type": "execution"
   },
   {
    "code": "sine_of_pi_over_four = math.sin(math.pi / 4) # SOLUTION\nsine_of_pi_over_four",
    "id": "309cf9facf204c5fbca06e9109147fe8",
    "idx": 16,
    "time": "2021-02-16T08:37:10.053Z",
    "type": "execution"
   },
   {
    "code": "# TEST\n# Hint: You can write the sine of 1.5*pi as:\n#   math.sin(1.5 * math.pi)\nimport math\nround(sine_of_pi_over_four, 8)",
    "id": "534b367c21944f3488de2187b6fa31d5",
    "idx": 17,
    "time": "2021-02-16T08:37:10.055Z",
    "type": "execution"
   },
   {
    "code": "# Calculating logarithms (the logarithm of 8 in base 2).\n# The result is 3 because 2 to the power of 3 is 8.\nmath.log(8, 2)",
    "id": "7c67ab3427ba49888e871707bac58449",
    "idx": 19,
    "time": "2021-02-16T08:37:10.057Z",
    "type": "execution"
   },
   {
    "code": "# Calculating square roots.\nmath.sqrt(5)",
    "id": "8e618a8ace414fa38f6f2c3aaf4711cc",
    "idx": 20,
    "time": "2021-02-16T08:37:10.059Z",
    "type": "execution"
   },
   {
    "code": "# Importing just cos and pi from math.\n# We don't have to use `math.` in front of cos or pi\nfrom math import cos, pi\nprint(cos(pi))\n\n# We do have to use it in front of other functions from math, though\nmath.log(pi)",
    "id": "2aac6edd752f464a8577596dc7b10c1b",
    "idx": 22,
    "time": "2021-02-16T08:37:10.061Z",
    "type": "execution"
   },
   {
    "code": "# Lastly, we can import everything from math using the *\n# Once again, we don't have to use 'math.' beforehand \nfrom math import *\nlog(pi)",
    "id": "161f5c794d4847f2898fd15871db4b2d",
    "idx": 24,
    "time": "2021-02-16T08:37:10.063Z",
    "type": "execution"
   },
   {
    "code": "# Just run this cell\n\nfarmers_markets = Table.read_table('farmers_markets.csv')",
    "id": "d71d39971a3b4765834a26779cba57d3",
    "idx": 27,
    "time": "2021-02-16T08:37:10.065Z",
    "type": "execution"
   },
   {
    "code": "farmers_markets.show(5) # SOLUTION",
    "id": "221a7797806447ff84de2dd296fa365b",
    "idx": 29,
    "time": "2021-02-16T08:37:10.069Z",
    "type": "execution"
   },
   {
    "code": "num_farmers_markets_columns = farmers_markets.num_columns # SOLUTION\nprint(\"The table has\", num_farmers_markets_columns, \"columns in it!\")",
    "id": "f1d8353ea3fe4174a10df0c70119b860",
    "idx": 31,
    "time": "2021-02-16T08:37:10.070Z",
    "type": "execution"
   },
   {
    "code": "# HIDDEN TEST\nnum_farmers_markets_columns == 59",
    "id": "c576cbb902764c24aa4f0beb55a685b8",
    "idx": 32,
    "time": "2021-02-16T08:37:10.072Z",
    "type": "execution"
   },
   {
    "code": "# Just run this cell\n\nnum_farmers_markets_rows = farmers_markets.num_rows\nprint(\"The table has\", num_farmers_markets_rows, \"rows in it!\")",
    "id": "d78045d1705748b388e0738c7b903124",
    "idx": 34,
    "time": "2021-02-16T08:37:10.074Z",
    "type": "execution"
   },
   {
    "code": "farmers_markets_locations = farmers_markets.select(\"city\", \"State\", \"y\", \"MarketName\", \"x\") # SOLUTION\nfarmers_markets_locations",
    "id": "c661c0d5ebac486b88bac48a85d7193c",
    "idx": 36,
    "time": "2021-02-16T08:37:10.076Z",
    "type": "execution"
   },
   {
    "code": "# HIDDEN TEST\nsorted(farmers_markets_locations.labels)",
    "id": "90060034698440a484cc2a1c89d0a4f2",
    "idx": 37,
    "time": "2021-02-16T08:37:10.078Z",
    "type": "execution"
   },
   {
    "code": "# TEST\nfarmers_markets_locations.num_rows == 8546",
    "id": "6915a30f7e704a7b8af96316833f29ca",
    "idx": 38,
    "time": "2021-02-16T08:37:10.079Z",
    "type": "execution"
   },
   {
    "code": "farmers_markets_without_fmid = farmers_markets.drop(\"FMID\", \"updateTime\") # SOLUTION\nfarmers_markets_without_fmid",
    "id": "88e101833a3a43f281c8fbe4e5edc41d",
    "idx": 40,
    "time": "2021-02-16T08:37:10.084Z",
    "type": "execution"
   },
   {
    "code": "# TEST\nfarmers_markets_without_fmid.num_columns == 57",
    "id": "0107ee9d3b6d42b795d6cfe3f4ec045d",
    "idx": 41,
    "time": "2021-02-16T08:37:10.085Z",
    "type": "execution"
   },
   {
    "code": "# TEST\nprint(sorted(farmers_markets_without_fmid.labels))",
    "id": "a1399913244f44e6a9e7801dd9b67ba7",
    "idx": 42,
    "time": "2021-02-16T08:37:10.087Z",
    "type": "execution"
   },
   {
    "code": "farmers_markets_locations.sort('x')",
    "id": "4d95bd7f16da4005ba887722861a39dd",
    "idx": 44,
    "time": "2021-02-16T08:37:10.089Z",
    "type": "execution"
   },
   {
    "code": "farmers_markets_locations.sort('x', descending=True)",
    "id": "4bb9cd749f8a45b49221d5adc37ee3f6",
    "idx": 46,
    "time": "2021-02-16T08:37:10.091Z",
    "type": "execution"
   },
   {
    "code": "farmers_markets_locations_by_latitude = farmers_markets_locations.sort('y', descending = True) # SOLUTION\nfarmers_markets_locations_by_latitude",
    "id": "c97efa93abf4478aaed3a0c0af8f3446",
    "idx": 48,
    "time": "2021-02-16T08:37:10.092Z",
    "type": "execution"
   },
   {
    "code": "# TEST\ntype(farmers_markets_locations_by_latitude) == tables.Table",
    "id": "c79101f0a71a42d8a252e4da2cb8f841",
    "idx": 49,
    "time": "2021-02-16T08:37:10.094Z",
    "type": "execution"
   },
   {
    "code": "# TEST\nlist(farmers_markets_locations_by_latitude.column('y').take(range(3)))",
    "id": "ecdc073691ad4db783cf43f2ed31c132",
    "idx": 50,
    "time": "2021-02-16T08:37:10.096Z",
    "type": "execution"
   },
   {
    "code": "california_farmers_markets = farmers_markets_locations.where('State', are.equal_to('California'))\ncalifornia_farmers_markets",
    "id": "d6b1384d7d5442408204eac1fa8ae4ae",
    "idx": 52,
    "time": "2021-02-16T08:37:10.098Z",
    "type": "execution"
   },
   {
    "code": "berkeley_markets = california_farmers_markets.where('city', are.equal_to(\"Berkeley\")) # SOLUTION\nberkeley_markets",
    "id": "ed886e4d66b048178c9e9840557fdf4b",
    "idx": 56,
    "time": "2021-02-16T08:37:10.100Z",
    "type": "execution"
   },
   {
    "code": "# TEST\nberkeley_markets.num_rows == 3",
    "id": "9549beef875c4953ab13e533d42edd71",
    "idx": 57,
    "time": "2021-02-16T08:37:10.101Z",
    "type": "execution"
   },
   {
    "code": "# TEST\nlist(berkeley_markets.column('city')) == ['Berkeley', 'Berkeley', 'Berkeley']",
    "id": "9406b57a66ca4f209dd18789a0ac339c",
    "idx": 58,
    "time": "2021-02-16T08:37:10.103Z",
    "type": "execution"
   },
   {
    "code": "# Just run this cell\n\nimdb = Table.read_table('imdb.csv')\nimdb",
    "id": "1a5d75aab64340d386bcf9b8ed037ab5",
    "idx": 62,
    "time": "2021-02-16T08:37:10.105Z",
    "type": "execution"
   },
   {
    "id": "9104c45c29614eb686d57e49e14e386c",
    "time": "2021-02-16T08:37:10.146Z",
    "type": "completion"
   },
   {
    "id": "6b6244eb0cb14ef88c50c8077c4a1025",
    "time": "2021-02-16T08:37:10.149Z",
    "type": "completion"
   },
   {
    "id": "cd56254d288b462ba94fb43c0ebc1359",
    "time": "2021-02-16T08:37:10.172Z",
    "type": "completion"
   },
   {
    "id": "c4b687e408d5479abdc414b6c633c026",
    "time": "2021-02-16T08:37:10.217Z",
    "type": "completion"
   },
   {
    "id": "14c3280f0b54464c85242ba22e7381f1",
    "time": "2021-02-16T08:37:10.222Z",
    "type": "completion"
   },
   {
    "id": "a458fc90b75d459785aaf63c1b17a80b",
    "time": "2021-02-16T08:37:10.277Z",
    "type": "completion"
   },
   {
    "id": "309cf9facf204c5fbca06e9109147fe8",
    "time": "2021-02-16T08:37:10.306Z",
    "type": "completion"
   },
   {
    "id": "534b367c21944f3488de2187b6fa31d5",
    "time": "2021-02-16T08:37:10.346Z",
    "type": "completion"
   },
   {
    "id": "7c67ab3427ba49888e871707bac58449",
    "time": "2021-02-16T08:37:10.369Z",
    "type": "completion"
   },
   {
    "id": "8e618a8ace414fa38f6f2c3aaf4711cc",
    "time": "2021-02-16T08:37:10.393Z",
    "type": "completion"
   },
   {
    "id": "2aac6edd752f464a8577596dc7b10c1b",
    "time": "2021-02-16T08:37:10.401Z",
    "type": "completion"
   },
   {
    "id": "161f5c794d4847f2898fd15871db4b2d",
    "time": "2021-02-16T08:37:10.422Z",
    "type": "completion"
   },
   {
    "id": "d71d39971a3b4765834a26779cba57d3",
    "time": "2021-02-16T08:37:10.762Z",
    "type": "completion"
   },
   {
    "id": "221a7797806447ff84de2dd296fa365b",
    "time": "2021-02-16T08:37:10.810Z",
    "type": "completion"
   },
   {
    "id": "f1d8353ea3fe4174a10df0c70119b860",
    "time": "2021-02-16T08:37:10.812Z",
    "type": "completion"
   },
   {
    "id": "c576cbb902764c24aa4f0beb55a685b8",
    "time": "2021-02-16T08:37:10.814Z",
    "type": "completion"
   },
   {
    "id": "d78045d1705748b388e0738c7b903124",
    "time": "2021-02-16T08:37:10.846Z",
    "type": "completion"
   },
   {
    "id": "c661c0d5ebac486b88bac48a85d7193c",
    "time": "2021-02-16T08:37:10.880Z",
    "type": "completion"
   },
   {
    "id": "90060034698440a484cc2a1c89d0a4f2",
    "time": "2021-02-16T08:37:10.903Z",
    "type": "completion"
   },
   {
    "id": "6915a30f7e704a7b8af96316833f29ca",
    "time": "2021-02-16T08:37:10.929Z",
    "type": "completion"
   },
   {
    "id": "88e101833a3a43f281c8fbe4e5edc41d",
    "time": "2021-02-16T08:37:11.140Z",
    "type": "completion"
   },
   {
    "id": "0107ee9d3b6d42b795d6cfe3f4ec045d",
    "time": "2021-02-16T08:37:11.146Z",
    "type": "completion"
   },
   {
    "id": "a1399913244f44e6a9e7801dd9b67ba7",
    "time": "2021-02-16T08:37:11.148Z",
    "type": "completion"
   },
   {
    "id": "4d95bd7f16da4005ba887722861a39dd",
    "time": "2021-02-16T08:37:11.151Z",
    "type": "completion"
   },
   {
    "id": "4bb9cd749f8a45b49221d5adc37ee3f6",
    "time": "2021-02-16T08:37:11.177Z",
    "type": "completion"
   },
   {
    "id": "c97efa93abf4478aaed3a0c0af8f3446",
    "time": "2021-02-16T08:37:11.227Z",
    "type": "completion"
   },
   {
    "id": "c79101f0a71a42d8a252e4da2cb8f841",
    "time": "2021-02-16T08:37:11.229Z",
    "type": "completion"
   },
   {
    "id": "ecdc073691ad4db783cf43f2ed31c132",
    "time": "2021-02-16T08:37:11.259Z",
    "type": "completion"
   },
   {
    "id": "d6b1384d7d5442408204eac1fa8ae4ae",
    "time": "2021-02-16T08:37:11.288Z",
    "type": "completion"
   },
   {
    "id": "ed886e4d66b048178c9e9840557fdf4b",
    "time": "2021-02-16T08:37:11.295Z",
    "type": "completion"
   },
   {
    "id": "9549beef875c4953ab13e533d42edd71",
    "time": "2021-02-16T08:37:11.298Z",
    "type": "completion"
   },
   {
    "id": "9406b57a66ca4f209dd18789a0ac339c",
    "time": "2021-02-16T08:37:11.324Z",
    "type": "completion"
   },
   {
    "id": "1a5d75aab64340d386bcf9b8ed037ab5",
    "time": "2021-02-16T08:37:11.375Z",
    "type": "completion"
   },
   {
    "code": "above_eight = imdb.where('Year', are.between(2010, 2017)).where('Rating', are.above(8)).select('Title', 'Rating') # SOLUTION\nabove_eight",
    "id": "0bdc63c61ddd4cfd8cc080152f5b8a5a",
    "idx": 65,
    "time": "2021-02-16T08:37:13.832Z",
    "type": "execution"
   },
   {
    "id": "0bdc63c61ddd4cfd8cc080152f5b8a5a",
    "time": "2021-02-16T08:37:13.908Z",
    "type": "completion"
   },
   {
    "code": "# TEST\nabove_eight.num_rows == 20",
    "id": "f8c595cf25f342fe8ae63ba0fa78b906",
    "idx": 66,
    "time": "2021-02-16T08:38:01.173Z",
    "type": "execution"
   },
   {
    "id": "f8c595cf25f342fe8ae63ba0fa78b906",
    "time": "2021-02-16T08:38:01.305Z",
    "type": "completion"
   },
   {
    "code": "# TEST\ntype(above_eight) == tables.Table",
    "id": "f8c595cf25f342fe8ae63ba0fa78b906",
    "idx": 66,
    "time": "2021-02-16T08:38:31.611Z",
    "type": "execution"
   },
   {
    "id": "f8c595cf25f342fe8ae63ba0fa78b906",
    "time": "2021-02-16T08:38:31.685Z",
    "type": "completion"
   },
   {
    "code": "# TEST\nabove_eight.num_rows == 20",
    "id": "8aa9c1defa0d425b9895cf473178fe8f",
    "idx": 67,
    "time": "2021-02-16T08:38:32.171Z",
    "type": "execution"
   },
   {
    "id": "8aa9c1defa0d425b9895cf473178fe8f",
    "time": "2021-02-16T08:38:32.295Z",
    "type": "completion"
   },
   {
    "code": "# TEST\n# Make sure your columns are in the right order!\n# First column should be 'Title', second column should be 'Rating'\nprint(above_eight.sort(0).take([17]))",
    "id": "d129b87619634c298f5e616c6b5411e1",
    "idx": 68,
    "time": "2021-02-16T08:39:13.833Z",
    "type": "execution"
   },
   {
    "id": "d129b87619634c298f5e616c6b5411e1",
    "time": "2021-02-16T08:39:13.897Z",
    "type": "completion"
   },
   {
    "code": "num_movies_in_dataset = imdb.num_rows # SOLUTION\nnum_in_20th_century = imdb.where('Year', are.below(2000)).num_rows # SOLUTION\nnum_in_21st_century = imdb.where('Year', are.above_or_equal_to(2000)).num_rows # SOLUTION\nproportion_in_20th_century = num_in_20th_century / num_movies_in_dataset # SOLUTION\nproportion_in_21st_century = num_in_21st_century / num_movies_in_dataset # SOLUTION\nprint(\"Proportion in 20th century:\", proportion_in_20th_century)\nprint(\"Proportion in 21st century:\", proportion_in_21st_century)",
    "id": "971381be596347fba06f2b4905874100",
    "idx": 70,
    "time": "2021-02-16T08:41:30.945Z",
    "type": "execution"
   },
   {
    "id": "971381be596347fba06f2b4905874100",
    "time": "2021-02-16T08:41:31.032Z",
    "type": "completion"
   },
   {
    "code": "# HIDDEN TEST\nproportion_in_20th_century == 0.684",
    "id": "28fb10b6b71f407a9c6689b9c4b352f7",
    "idx": 71,
    "time": "2021-02-16T08:42:01.990Z",
    "type": "execution"
   },
   {
    "id": "28fb10b6b71f407a9c6689b9c4b352f7",
    "time": "2021-02-16T08:42:03.529Z",
    "type": "completion"
   },
   {
    "code": "# HIDDEN TEST\nproportion_in_21st_century == 0.316",
    "id": "d3e1ba07ac3347b295d42fbb8a0bf6ef",
    "idx": 72,
    "time": "2021-02-16T08:42:23.363Z",
    "type": "execution"
   },
   {
    "id": "d3e1ba07ac3347b295d42fbb8a0bf6ef",
    "time": "2021-02-16T08:42:23.425Z",
    "type": "completion"
   }
  ],
  "interpreter": {
   "hash": "4cd7ab41f5fca4b9b44701077e38c5ffd31fe66a6cab21e0214b68d958d0e462"
  },
  "kernelspec": {
   "display_name": "Python 3",
   "language": "python",
   "name": "python3"
  },
  "language_info": {
   "codemirror_mode": {
    "name": "ipython",
    "version": 3
   },
   "file_extension": ".py",
   "mimetype": "text/x-python",
   "name": "python",
   "nbconvert_exporter": "python",
   "pygments_lexer": "ipython3",
   "version": "3.8.10"
  }
 },
 "nbformat": 4,
 "nbformat_minor": 2
}
