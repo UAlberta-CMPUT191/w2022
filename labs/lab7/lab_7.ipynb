{
 "cells": [
  {
   "cell_type": "code",
   "execution_count": null,
   "metadata": {
    "deletable": false,
    "editable": false
   },
   "outputs": [],
   "source": [
    "# Initialize Otter\n",
    "import otter\n",
    "grader = otter.Notebook(\"lab_7.ipynb\")"
   ]
  },
  {
   "cell_type": "markdown",
   "metadata": {},
   "source": [
    "\n",
    "# Lab 7: Probability, Simulation, Estimation, and Assessing Models\n",
    "**Recommended Reading**: \n",
    "* [Randomness](https://www.inferentialthinking.com/chapters/09/randomness.html) \n",
    "* [Sampling and Empirical Distributions](https://www.inferentialthinking.com/chapters/10/sampling-and-empirical-distributions.html)\n",
    "* [Testing Hypotheses](https://www.inferentialthinking.com/chapters/11/testing-hypotheses.html)\n",
    "\n",
    "**Recommended Videos**:\n",
    "* Random Sampling\n",
    "* Distributions & Large Random Sampling"
   ]
  },
  {
   "cell_type": "markdown",
   "metadata": {},
   "source": [
    "\n",
    "## 1. Sampling Basketball Data\n",
    "\n",
    "We will now introduce the topic of sampling, which we’ll be discussing in more depth in this week’s lectures. We’ll guide you through this code, but if you wish to read more about different kinds of samples before attempting this question, you can check out [section 10 of the textbook](https://www.inferentialthinking.com/chapters/10/Sampling_and_Empirical_Distributions.html).\n",
    "\n",
    "Run the cell below to load player and salary data that we will use for our sampling. "
   ]
  },
  {
   "cell_type": "code",
   "execution_count": 1,
   "metadata": {},
   "outputs": [],
   "source": [
    "import numpy as np\n",
    "from datascience import *\n",
    "\n",
    "# These lines do some fancy plotting magic.\n",
    "import matplotlib\n",
    "%matplotlib inline\n",
    "import matplotlib.pyplot as plt\n",
    "plt.style.use('fivethirtyeight')\n",
    "import warnings\n",
    "warnings.simplefilter('ignore', FutureWarning)"
   ]
  },
  {
   "cell_type": "code",
   "execution_count": 2,
   "metadata": {},
   "outputs": [],
   "source": [
    "player_data = Table().read_table(\"player_data.csv\")\n",
    "salary_data = Table().read_table(\"salary_data.csv\")\n",
    "full_data = salary_data.join(\"PlayerName\", player_data, \"Name\")\n",
    "\n",
    "# The show method immediately displays the contents of a table. \n",
    "# This way, we can display the top of two tables using a single cell.\n",
    "player_data.show(3)\n",
    "salary_data.show(3)\n",
    "full_data.show(3)"
   ]
  },
  {
   "cell_type": "markdown",
   "metadata": {},
   "source": [
    "Rather than getting data on every player (as in the tables loaded above), imagine that we had gotten data on only a smaller subset of the players. For 492 players, it's not so unreasonable to expect to see all the data, but usually we aren't so lucky. \n",
    "\n",
    "If we want to make estimates about a certain numerical property of the population (known as a statistic, e.g. the mean or median), we may have to come up with these estimates based only on a smaller sample. Whether these estimates are useful or not often depends on how the sample was gathered. We have prepared some example sample datasets to see how they compare to the full NBA dataset. Later we'll ask you to create your own samples to see how they behave."
   ]
  },
  {
   "cell_type": "markdown",
   "metadata": {},
   "source": [
    "To save typing and increase the clarity of your code, we will package the analysis code into a few functions. This will be useful in the rest of the lab as we will repeatedly need to create histograms and collect summary statistics from that data."
   ]
  },
  {
   "cell_type": "markdown",
   "metadata": {},
   "source": [
    "We've defined the `histograms` function below, which takes a table with columns `Age` and `Salary` and draws a histogram for each one. It uses bin widths of 1 year for `Age` and $1,000,000 for `Salary`."
   ]
  },
  {
   "cell_type": "code",
   "execution_count": 3,
   "metadata": {
    "scrolled": true
   },
   "outputs": [],
   "source": [
    "def histograms(t):\n",
    "    ages = t.column('Age')\n",
    "    salaries = t.column('Salary')/1000000\n",
    "    t1 = t.drop('Salary').with_column('Salary', salaries)\n",
    "    age_bins = np.arange(min(ages), max(ages) + 2, 1) \n",
    "    salary_bins = np.arange(min(salaries), max(salaries) + 1, 1)\n",
    "    t1.hist('Age', bins=age_bins, unit='year')\n",
    "    plt.title('Age distribution')\n",
    "    t1.hist('Salary', bins=salary_bins, unit='million dollars')\n",
    "    plt.title('Salary distribution') \n",
    "    \n",
    "histograms(full_data)\n",
    "print('Two histograms should be displayed below')"
   ]
  },
  {
   "cell_type": "markdown",
   "metadata": {
    "deletable": false,
    "editable": false
   },
   "source": [
    "<span style=\"color:blue\"> **Question 1.0.1** </span> Create a function called `compute_statistics` that takes a table containing ages and salaries and:\n",
    "- Draws a histogram of ages\n",
    "- Draws a histogram of salaries\n",
    "- Returns a two-element array containing the average age and average salary (in that order)\n",
    "\n",
    "You can call the `histograms` function to draw the histograms! \n",
    "\n",
    "*Note:* More charts will be displayed when running the test cell. Please feel free to ignore the charts.\n",
    "\n",
    "<!--\n",
    "BEGIN QUESTION\n",
    "name: q11\n",
    "-->"
   ]
  },
  {
   "cell_type": "code",
   "execution_count": 4,
   "metadata": {},
   "outputs": [],
   "source": [
    "def compute_statistics(age_and_salary_data):\n",
    "    ...\n",
    "    age = ...\n",
    "    salary = ...\n",
    "    ...\n",
    "    \n",
    "\n",
    "full_stats = compute_statistics(full_data)\n",
    "full_stats"
   ]
  },
  {
   "cell_type": "code",
   "execution_count": null,
   "metadata": {
    "deletable": false,
    "editable": false
   },
   "outputs": [],
   "source": [
    "grader.check(\"q11\")"
   ]
  },
  {
   "cell_type": "markdown",
   "metadata": {
    "deletable": false,
    "editable": false
   },
   "source": [
    "### Convenience sampling\n",
    "One sampling methodology, which is **generally a bad idea**, is to choose players who are somehow convenient to sample.  For example, you might choose players from one team who are near your house, since it's easier to survey them.  This is called, somewhat pejoratively, *convenience sampling*.\n",
    "\n",
    "Suppose you survey only *relatively new* players with ages less than 22.  (The more experienced players didn't bother to answer your surveys about their salaries.)\n",
    "\n",
    "<span style=\"color:blue\"> **Question 1.0.2** </span>  Assign `convenience_sample` to a subset of `full_data` that contains only the rows for players under the age of 22.\n",
    "\n",
    "<!--\n",
    "BEGIN QUESTION\n",
    "name: q12\n",
    "-->\n"
   ]
  },
  {
   "cell_type": "code",
   "execution_count": 7,
   "metadata": {},
   "outputs": [],
   "source": [
    "convenience_sample = ...\n",
    "convenience_sample"
   ]
  },
  {
   "cell_type": "code",
   "execution_count": null,
   "metadata": {
    "deletable": false,
    "editable": false
   },
   "outputs": [],
   "source": [
    "grader.check(\"q12\")"
   ]
  },
  {
   "cell_type": "markdown",
   "metadata": {
    "deletable": false,
    "editable": false
   },
   "source": [
    "<span style=\"color:blue\"> **Question 1.0.3** </span> Assign `convenience_stats` to an array of the average age and average salary of your convenience sample, using the `compute_statistics` function.  Since they're computed on a sample, these are called *sample averages*. \n",
    "\n",
    "<!--\n",
    "BEGIN QUESTION\n",
    "name: q13\n",
    "-->"
   ]
  },
  {
   "cell_type": "code",
   "execution_count": 10,
   "metadata": {},
   "outputs": [],
   "source": [
    "convenience_stats = ...\n",
    "convenience_stats"
   ]
  },
  {
   "cell_type": "code",
   "execution_count": null,
   "metadata": {
    "deletable": false,
    "editable": false
   },
   "outputs": [],
   "source": [
    "grader.check(\"q13\")"
   ]
  },
  {
   "cell_type": "markdown",
   "metadata": {},
   "source": [
    "Next, we'll compare the convenience sample salaries with the full data salaries in a single histogram. To do that, we'll need to use the `bin_column` option of the `hist` method, which indicates that all columns are counts of the bins in a particular column. The following cell does not require any changes; **just run it**."
   ]
  },
  {
   "cell_type": "code",
   "execution_count": 14,
   "metadata": {},
   "outputs": [],
   "source": [
    "def compare_salaries(first, second, first_title, second_title):\n",
    "    \"\"\"Compare the salaries in two tables.\"\"\"\n",
    "    first_salary_in_millions = first.column('Salary')/1000000\n",
    "    second_salary_in_millions = second.column('Salary')/1000000\n",
    "    first_tbl_millions = first.drop('Salary').with_column('Salary', first_salary_in_millions)\n",
    "    second_tbl_millions = second.drop('Salary').with_column('Salary', second_salary_in_millions)\n",
    "    max_salary = max(np.append(first_tbl_millions.column('Salary'), second_tbl_millions.column('Salary')))\n",
    "    bins = np.arange(0, max_salary+1, 1)\n",
    "    first_binned = first_tbl_millions.bin('Salary', bins=bins).relabeled(1, first_title)\n",
    "    second_binned = second_tbl_millions.bin('Salary', bins=bins).relabeled(1, second_title)\n",
    "    first_binned.join('bin', second_binned).hist(bin_column='bin', unit='million dollars')\n",
    "    plt.title('Salaries for all players and convenience sample')\n",
    "\n",
    "compare_salaries(full_data, convenience_sample, 'All Players', 'Convenience Sample')"
   ]
  },
  {
   "cell_type": "markdown",
   "metadata": {
    "deletable": false,
    "editable": false
   },
   "source": [
    "<!-- BEGIN QUESTION -->\n",
    "\n",
    "<span style=\"color:blue\"> **Question 1.0.4** </span> Does the convenience sample give us an accurate picture of the salary of the full population? Would you expect it to, in general?  Before you move on, write a short answer in English below.  You can refer to the statistics calculated above or perform your own analysis.\n",
    "\n",
    "<!--\n",
    "BEGIN QUESTION\n",
    "name: q14\n",
    "manual: true\n",
    "-->"
   ]
  },
  {
   "cell_type": "markdown",
   "metadata": {},
   "source": [
    "_Type your answer here, replacing this text._"
   ]
  },
  {
   "cell_type": "markdown",
   "metadata": {
    "deletable": false,
    "editable": false
   },
   "source": [
    "<!-- END QUESTION -->"
   ]
  },
  {
   "cell_type": "code",
   "execution_count": null,
   "metadata": {},
   "outputs": [],
   "source": []
  },
  {
   "cell_type": "markdown",
   "metadata": {},
   "source": [
    "### Simple random sampling\n",
    "A more justifiable approach is to sample uniformly at random from the players.  In a **simple random sample (SRS) without replacement**, we ensure that each player is selected at most once. Imagine writing down each player's name on a card, putting the cards in an box, and shuffling the box.  Then, pull out cards one by one and set them aside, stopping when the specified sample size is reached."
   ]
  },
  {
   "cell_type": "markdown",
   "metadata": {},
   "source": [
    "### Producing simple random samples\n",
    "Sometimes, it’s useful to take random samples even when we have the data for the whole population. It helps us understand sampling accuracy.\n",
    "\n",
    "### `sample`\n",
    "\n",
    "The table method `sample` produces a random sample from the table. By default, it draws at random **with replacement** from the rows of a table. It takes in the sample size as its argument and returns a **table** with only the rows that were selected. \n",
    "\n",
    "Run the cell below to see an example call to `sample()` with a sample size of 5, with replacement."
   ]
  },
  {
   "cell_type": "code",
   "execution_count": 15,
   "metadata": {},
   "outputs": [],
   "source": [
    "# Just run this cell\n",
    "\n",
    "salary_data.sample(5)"
   ]
  },
  {
   "cell_type": "markdown",
   "metadata": {},
   "source": [
    "The optional argument `with_replacement=False` can be passed through `sample()` to specify that the sample should be drawn without replacement.\n",
    "\n",
    "Run the cell below to see an example call to `sample()` with a sample size of 5, without replacement."
   ]
  },
  {
   "cell_type": "code",
   "execution_count": 16,
   "metadata": {},
   "outputs": [],
   "source": [
    "# Just run this cell\n",
    "\n",
    "salary_data.sample(5, with_replacement=False)"
   ]
  },
  {
   "cell_type": "markdown",
   "metadata": {
    "deletable": false,
    "editable": false
   },
   "source": [
    "<!-- BEGIN QUESTION -->\n",
    "\n",
    "<span style=\"color:blue\"> **Question 1.0.5** </span> Produce a simple random sample of size 44 from `full_data`. Run your analysis on it again.  Run the cell a few times to see how the histograms and statistics change across different samples.\n",
    "\n",
    "- How much does the average age change across samples? \n",
    "- What about average salary?\n",
    "\n",
    "<!--\n",
    "BEGIN QUESTION\n",
    "name: q15\n",
    "manual: true\n",
    "-->"
   ]
  },
  {
   "cell_type": "code",
   "execution_count": 17,
   "metadata": {
    "scrolled": false
   },
   "outputs": [],
   "source": [
    "my_small_srswor_data = ...\n",
    "my_small_stats = ...\n",
    "my_small_stats"
   ]
  },
  {
   "cell_type": "markdown",
   "metadata": {},
   "source": [
    "_Type your answer here, replacing this text._"
   ]
  },
  {
   "cell_type": "markdown",
   "metadata": {
    "deletable": false,
    "editable": false
   },
   "source": [
    "<!-- END QUESTION -->\n",
    "\n",
    "<!-- BEGIN QUESTION -->\n",
    "\n",
    "<span style=\"color:blue\"> **Question 1.0.6** </span> As in the previous question, analyze several simple random samples of size 100 from `full_data`.  \n",
    "- Do the histogram shapes seem to change more or less across samples of 100 than across samples of size 44?  \n",
    "- Are the sample averages and histograms closer to their true values/shape for age or for salary?  What did you expect to see?\n",
    "\n",
    "<!--\n",
    "BEGIN QUESTION\n",
    "name: q16\n",
    "manual: true\n",
    "-->"
   ]
  },
  {
   "cell_type": "code",
   "execution_count": 18,
   "metadata": {
    "scrolled": false
   },
   "outputs": [],
   "source": [
    "my_large_srswor_data = ...\n",
    "my_large_stats = ...\n",
    "my_large_stats"
   ]
  },
  {
   "cell_type": "markdown",
   "metadata": {},
   "source": [
    "_Type your answer here, replacing this text._"
   ]
  },
  {
   "cell_type": "markdown",
   "metadata": {},
   "source": [
    "<!-- END QUESTION -->\n",
    "\n",
    "\n",
    "\n",
    "# 2. Basketball continued\n",
    "Here are two new datasets that have similar information."
   ]
  },
  {
   "cell_type": "code",
   "execution_count": 27,
   "metadata": {},
   "outputs": [],
   "source": [
    "player_points = Table.read_table('player_points.csv')\n",
    "salary_data2 = Table.read_table('salary_data2.csv')\n",
    "full_data_points = ...\n",
    "full_data_points"
   ]
  },
  {
   "cell_type": "markdown",
   "metadata": {
    "deletable": false,
    "editable": false
   },
   "source": [
    "<!-- BEGIN QUESTION -->\n",
    "\n",
    "Basketball team managers would like to hire players who perform well but don't command high salaries.  From this perspective, a very crude measure of a player's *value* to their team is the number of 3 pointers and free throws the player scored in a season for every **\\$100000 of salary** (*Note*: the `Salary` column is in dollars, not hundreds of thousands of dollars). For example, Al Horford scored an average of 5.2 points for 3 pointers and free throws combined, and has a salary of **\\$28 million.** This is equivalent to 280 thousands of dollars, so his value is $\\frac{5.2}{280}$. The formula is:\n",
    "\n",
    "$$\\frac{\\text{\"PTS\"} - 2 * \\text{\"2P\"}}{\\text{\"Salary\"}\\ / \\ 100000}$$\n",
    "\n",
    "<span style=\"color:blue\"> **Question 2.0.1** </span> Create a table called `full_data_with_value` that's a copy of `full_data_points`, with an extra column called `\"Value\"` containing each player's value (according to our crude measure).  Then make a histogram of players' values.  **Specify bins that make the histogram informative and don't forget your units!** Remember that `hist()` takes in an optional third argument that allows you to specify the units! Refer to the python reference to look at `tbl.hist(...)` if necessary.\n",
    "\n",
    "*Just so you know:* Informative histograms contain a majority of the data and **exclude outliers**\n",
    "\n",
    "<!--\n",
    "BEGIN QUESTION\n",
    "name: q2_1\n",
    "manual: true\n",
    "-->"
   ]
  },
  {
   "cell_type": "code",
   "execution_count": 29,
   "metadata": {
    "export_pdf": true,
    "manual_grade": true,
    "manual_problem_id": "sampling_players_2"
   },
   "outputs": [],
   "source": [
    "bins = np.arange(0, 0.7, .1) # Use this provided bins when you make your histogram\n",
    "full_data_with_value = ...\n",
    "..."
   ]
  },
  {
   "cell_type": "markdown",
   "metadata": {},
   "source": [
    "<!-- END QUESTION -->\n",
    "\n",
    "\n",
    "\n",
    "Now suppose we weren't able to find out every player's salary (perhaps it was too costly to interview each player).  Instead, we have gathered a *simple random sample* of 50 players' salaries.  The cell below loads those data."
   ]
  },
  {
   "cell_type": "code",
   "execution_count": 30,
   "metadata": {
    "scrolled": true
   },
   "outputs": [],
   "source": [
    "sample_salary_data = Table.read_table(\"sample_salary_data.csv\")\n",
    "sample_salary_data.show(3)"
   ]
  },
  {
   "cell_type": "markdown",
   "metadata": {
    "deletable": false,
    "editable": false
   },
   "source": [
    "<!-- BEGIN QUESTION -->\n",
    "\n",
    "<span style=\"color:blue\"> **Question 2.0.2** </span> Make a histogram of the values of the players in `sample_salary_data`, using the same method for measuring value we used in question 1. Make sure to specify the units again in the histogram as stated in the previous problem. **Use the same bins, too.**  \n",
    "\n",
    "*Hint:* This will take several steps.\n",
    "\n",
    "<!--\n",
    "BEGIN QUESTION\n",
    "name: q22\n",
    "manual: true\n",
    "-->"
   ]
  },
  {
   "cell_type": "code",
   "execution_count": 32,
   "metadata": {
    "export_pdf": true
   },
   "outputs": [],
   "source": [
    "sample_data = points_data.join('Player', sample_salary_data, 'Name')\n",
    "sample_data_with_value = ...\n",
    "..."
   ]
  },
  {
   "cell_type": "markdown",
   "metadata": {
    "deletable": false,
    "editable": false
   },
   "source": [
    "<!-- END QUESTION -->\n",
    "\n",
    "Now let us summarize what we have seen.  To guide you, we have written most of the summary already.\n",
    "\n",
    "<span style=\"color:blue\"> **Question 2.0.3** </span> Complete the statements below by setting each relevant variable name to the value that correctly fills the blank.\n",
    "\n",
    "* The plot in question 1 displayed a(n) [`distribution_1`] distribution of the population of [`player_count_1`] players.  The areas of the bars in the plot sum to [`area_total_1`].\n",
    "\n",
    "* The plot in question 2 displayed a(n) [`distribution_2`] distribution of the sample of [`player_count_2`] players.  The areas of the bars in the plot sum to [`area_total_2`].\n",
    "\n",
    "`distribution_1` and `distribution_2` should be set to one of the following strings: `\"empirical\"` or `\"probability\"`. \n",
    "\n",
    "`player_count_1`, `area_total_1`, `player_count_2`, and `area_total_2` should be set to integers.\n",
    "\n",
    "Remember that areas are represented in terms of percentages.\n",
    "\n",
    "*Hint 1:* For a refresher on distribution types, check out [Section 10.1](https://www.inferentialthinking.com/chapters/10/1/empirical-distributions.html)\n",
    "\n",
    "*Hint 2:* The `hist()` table method ignores data points outside the range of its bins, but you may ignore this fact and calculate the areas of the bars using what you know about histograms from lecture.\n",
    "\n",
    "<!--\n",
    "BEGIN QUESTION\n",
    "name: q23\n",
    "-->"
   ]
  },
  {
   "cell_type": "code",
   "execution_count": 33,
   "metadata": {},
   "outputs": [],
   "source": [
    "distribution_1 = ...\n",
    "player_count_1 = ...\n",
    "area_total_1 = ...\n",
    "\n",
    "distribution_2 = ...\n",
    "player_count_2 = ...\n",
    "area_total_2 = ..."
   ]
  },
  {
   "cell_type": "code",
   "execution_count": null,
   "metadata": {
    "deletable": false,
    "editable": false
   },
   "outputs": [],
   "source": [
    "grader.check(\"q23\")"
   ]
  },
  {
   "cell_type": "markdown",
   "metadata": {
    "deletable": false,
    "editable": false
   },
   "source": [
    "<!-- BEGIN QUESTION -->\n",
    "\n",
    "<span style=\"color:blue\"> **Question 2.0.4** </span> For which range of values does the plot in question 3 better depict the distribution of the **population's player values**: 0 to 0.3, or above 0.3? Explain your answer. \n",
    "\n",
    "<!--\n",
    "BEGIN QUESTION\n",
    "name: q24\n",
    "manual: true\n",
    "-->"
   ]
  },
  {
   "cell_type": "markdown",
   "metadata": {},
   "source": [
    "_Type your answer here, replacing this text._"
   ]
  },
  {
   "cell_type": "markdown",
   "metadata": {
    "deletable": false,
    "editable": false
   },
   "source": [
    "<!-- END QUESTION -->"
   ]
  },
  {
   "cell_type": "code",
   "execution_count": null,
   "metadata": {},
   "outputs": [],
   "source": []
  },
  {
   "cell_type": "markdown",
   "metadata": {},
   "source": [
    "## 3. Earthquakes\n"
   ]
  },
  {
   "cell_type": "markdown",
   "metadata": {},
   "source": [
    "The next cell loads a table containing information about **every earthquake with a magnitude above 5** in 2019 (smaller earthquakes are generally not felt, only recorded by very sensitive equipment), compiled by the US Geological Survey. (source: https://earthquake.usgs.gov/earthquakes/search/)"
   ]
  },
  {
   "cell_type": "code",
   "execution_count": 45,
   "metadata": {
    "ExecuteTime": {
     "end_time": "2018-02-17T03:01:37.654915Z",
     "start_time": "2018-02-17T03:01:37.599746Z"
    }
   },
   "outputs": [],
   "source": [
    "earthquakes = Table().read_table('earthquakes_2019.csv').select(['time', 'mag', 'place'])\n",
    "earthquakes"
   ]
  },
  {
   "cell_type": "markdown",
   "metadata": {},
   "source": [
    "If we were studying all human-detectable 2019 earthquakes and had access to the above data, we’d be in good shape - however, if the USGS didn’t publish the full data, we could still learn something about earthquakes from just a smaller subsample. If we gathered our sample correctly, we could use that subsample to get an idea about the distribution of magnitudes (above 5, of course) throughout the year!\n",
    "\n",
    "In the following lines of code, we take two different samples from the earthquake table, and calculate the mean of the magnitudes of these earthquakes."
   ]
  },
  {
   "cell_type": "code",
   "execution_count": 46,
   "metadata": {
    "deletable": false,
    "editable": false
   },
   "outputs": [],
   "source": [
    "sample1 = earthquakes.sort('mag', descending = True).take(np.arange(100))\n",
    "sample1_magnitude_mean = np.mean(sample1.column('mag'))\n",
    "sample2 = earthquakes.take(np.arange(100))\n",
    "sample2_magnitude_mean = np.mean(sample2.column('mag'))\n",
    "[sample1_magnitude_mean, sample2_magnitude_mean]"
   ]
  },
  {
   "cell_type": "markdown",
   "metadata": {
    "deletable": false,
    "editable": false
   },
   "source": [
    "<!-- BEGIN QUESTION -->\n",
    "\n",
    "<span style=\"color:blue\"> **Question 3.0.1** </span>  Are these samples representative of the population of earthquakes in the original table (that is, the should we expect the mean to be close to the population mean)? \n",
    "\n",
    "*Hint:* Consider the ordering of the `earthquakes` table. \n",
    "\n",
    "<!--\n",
    "BEGIN QUESTION\n",
    "name: q4_1\n",
    "manual: true\n",
    "-->"
   ]
  },
  {
   "cell_type": "markdown",
   "metadata": {},
   "source": [
    "_Type your answer here, replacing this text._"
   ]
  },
  {
   "cell_type": "markdown",
   "metadata": {
    "deletable": false,
    "editable": false
   },
   "source": [
    "<!-- END QUESTION -->"
   ]
  },
  {
   "cell_type": "code",
   "execution_count": null,
   "metadata": {},
   "outputs": [],
   "source": []
  },
  {
   "cell_type": "markdown",
   "metadata": {
    "deletable": false,
    "editable": false
   },
   "source": [
    "<span style=\"color:blue\"> **Question 3.0.2** </span> Write code to produce a sample of size 200 that is representative of the population. Then, take the mean of the magnitudes of the earthquakes in this sample. Assign these to `representative_sample` and `representative_mean` respectively. \n",
    "\n",
    "*Hint:* In class, we learned what kind of samples should be used to properly represent the population.\n",
    "\n",
    "\n",
    "<!--\n",
    "BEGIN QUESTION\n",
    "name: q4_2\n",
    "manual: false\n",
    "-->"
   ]
  },
  {
   "cell_type": "code",
   "execution_count": 47,
   "metadata": {
    "ExecuteTime": {
     "end_time": "2018-02-17T03:01:37.677950Z",
     "start_time": "2018-02-17T03:01:37.667925Z"
    }
   },
   "outputs": [],
   "source": [
    "representative_sample = ...\n",
    "representative_mean = ...\n",
    "representative_mean"
   ]
  },
  {
   "cell_type": "code",
   "execution_count": null,
   "metadata": {
    "deletable": false,
    "editable": false
   },
   "outputs": [],
   "source": [
    "grader.check(\"q4_2\")"
   ]
  },
  {
   "cell_type": "markdown",
   "metadata": {
    "deletable": false,
    "editable": false
   },
   "source": [
    "<span style=\"color:blue\"> **Question 3.0.3** </span> Suppose we want to figure out what the biggest magnitude earthquake was in 2019, but we only have our representative sample of 200. Let’s see if trying to find the biggest magnitude in the population from a random sample of 200 is a reasonable idea!\n",
    "\n",
    "Write code that takes many random samples from the `earthquakes` table and finds the maximum of each sample. You should take a random sample of size 200 and do this 5000 times. Assign the array of maximum magnitudes you find to `maximums`.\n",
    "\n",
    "<!--\n",
    "BEGIN QUESTION\n",
    "name: q4_3\n",
    "manual: false\n",
    "-->"
   ]
  },
  {
   "cell_type": "code",
   "execution_count": 51,
   "metadata": {
    "ExecuteTime": {
     "end_time": "2018-02-17T03:01:44.666538Z",
     "start_time": "2018-02-17T03:01:37.708032Z"
    }
   },
   "outputs": [],
   "source": [
    "maximums = ...\n",
    "for i in np.arange(5000): \n",
    "    ..."
   ]
  },
  {
   "cell_type": "code",
   "execution_count": null,
   "metadata": {
    "deletable": false,
    "editable": false
   },
   "outputs": [],
   "source": [
    "grader.check(\"q4_3\")"
   ]
  },
  {
   "cell_type": "code",
   "execution_count": 55,
   "metadata": {},
   "outputs": [],
   "source": [
    "#Histogram of your maximums\n",
    "Table().with_column('Largest magnitude in sample', maximums).hist('Largest magnitude in sample') "
   ]
  },
  {
   "cell_type": "markdown",
   "metadata": {
    "deletable": false,
    "editable": false
   },
   "source": [
    "<span style=\"color:blue\"> **Question 3.0.4** </span> Now find the magnitude of the actual strongest earthquake in 2019 (not the maximum of a sample). This will help us determine whether a random sample of size 200 is likely to help you determine the largest magnitude earthquake in the population.\n",
    "\n",
    "<!--\n",
    "BEGIN QUESTION\n",
    "name: q4_4\n",
    "manual: false\n",
    "-->"
   ]
  },
  {
   "cell_type": "code",
   "execution_count": 56,
   "metadata": {
    "ExecuteTime": {
     "end_time": "2018-02-17T03:01:44.696619Z",
     "start_time": "2018-02-17T03:01:44.689602Z"
    }
   },
   "outputs": [],
   "source": [
    "strongest_earthquake_magnitude = ...\n",
    "strongest_earthquake_magnitude"
   ]
  },
  {
   "cell_type": "code",
   "execution_count": null,
   "metadata": {
    "deletable": false,
    "editable": false
   },
   "outputs": [],
   "source": [
    "grader.check(\"q4_4\")"
   ]
  },
  {
   "cell_type": "markdown",
   "metadata": {
    "deletable": false,
    "editable": false
   },
   "source": [
    "<!-- BEGIN QUESTION -->\n",
    "\n",
    "<span style=\"color:blue\"> **Question 3.0.5** </span> Explain whether you believe you can accurately use a sample size of 200 to determine the maximum. What is one problem with using the maximum as your estimator? Use the histogram above to help answer. \n",
    "\n",
    "<!--\n",
    "BEGIN QUESTION\n",
    "name: q4_5\n",
    "manual: true\n",
    "-->"
   ]
  },
  {
   "cell_type": "markdown",
   "metadata": {},
   "source": [
    "_Type your answer here, replacing this text._"
   ]
  },
  {
   "cell_type": "markdown",
   "metadata": {
    "deletable": false,
    "editable": false
   },
   "source": [
    "<!-- END QUESTION -->"
   ]
  },
  {
   "cell_type": "code",
   "execution_count": null,
   "metadata": {},
   "outputs": [],
   "source": []
  },
  {
   "cell_type": "markdown",
   "metadata": {},
   "source": [
    "## 4. Assessing Jade's Models"
   ]
  },
  {
   "cell_type": "markdown",
   "metadata": {},
   "source": [
    "#### Games with Jade\n",
    "Our friend Jade comes over and asks us to play a game with her. The game works like this: \n",
    "\n",
    "> We will draw randomly with replacement from a simplified 13 card deck with 4 face cards (A, J, Q, K), and 9 numbered cards (2, 3, 4, 5, 6, 7, 8, 9, 10). If we draw cards with replacement 13 times, and if the number of face cards is greater than or equal to 4, we lose.\n",
    "> \n",
    "> Otherwise, Jade wins.\n",
    "\n",
    "We play the game once and we lose, observing 8 total face cards. We are angry and accuse Jade of cheating! Jade is adamant, however, that the deck is fair.\n",
    "\n",
    "Jade's model claims that there is an equal chance of getting any of the cards (A, 2, 3, 4, 5, 6, 7, 8, 9, 10, J, Q, K), but we do not believe her. We believe that the deck is clearly rigged, with face cards (A, J, Q, K) being more likely than the numbered cards (2, 3, 4, 5, 6, 7, 8, 9, 10)."
   ]
  },
  {
   "cell_type": "markdown",
   "metadata": {
    "deletable": false,
    "editable": false
   },
   "source": [
    "<span style=\"color:blue\"> **Question 4.0.1** </span> Assign `deck_model_probabilities` to a two-item array containing the chance of drawing a face card as the first element, and the chance of drawing a numbered card as the second element under Jade's model. Since we're working with probabilities, make sure your values are between 0 and 1. \n",
    "\n",
    "<!--\n",
    "BEGIN QUESTION\n",
    "name: q5_1\n",
    "manual: false\n",
    "-->"
   ]
  },
  {
   "cell_type": "code",
   "execution_count": 59,
   "metadata": {},
   "outputs": [],
   "source": [
    "deck_model_probabilities = ...\n",
    "deck_model_probabilities"
   ]
  },
  {
   "cell_type": "code",
   "execution_count": null,
   "metadata": {
    "deletable": false,
    "editable": false
   },
   "outputs": [],
   "source": [
    "grader.check(\"q5_1\")"
   ]
  },
  {
   "cell_type": "markdown",
   "metadata": {
    "deletable": false,
    "editable": false
   },
   "source": [
    "<span style=\"color:blue\"> **Question 4.0.2** </span> We believe Jade's model is incorrect. In particular, we believe there to be a  larger chance of getting a face card. Which of the following statistics can we use during our simulation to test between the model and our alternative? Assign `statistic_choice` to the correct answer. \n",
    "\n",
    "1. The actual number of face cards we get in 13 draws\n",
    "2. The distance (absolute value) between the actual number of face cards in 13 draws and the expected number of face cards in 13 draws (4)\n",
    "3. The expected number of face cards in 13 draws (4)\n",
    "\n",
    "\n",
    "<!--\n",
    "BEGIN QUESTION\n",
    "name: q5_2\n",
    "manual: false\n",
    "-->"
   ]
  },
  {
   "cell_type": "code",
   "execution_count": 64,
   "metadata": {},
   "outputs": [],
   "source": [
    "statistic_choice = ...\n",
    "statistic_choice"
   ]
  },
  {
   "cell_type": "code",
   "execution_count": null,
   "metadata": {
    "deletable": false,
    "editable": false
   },
   "outputs": [],
   "source": [
    "grader.check(\"q5_2\")"
   ]
  },
  {
   "cell_type": "markdown",
   "metadata": {
    "deletable": false,
    "editable": false
   },
   "source": [
    "<span style=\"color:blue\"> **Question 4.0.3** </span> Define the function `deck_simulation_and_statistic`, which, given a sample size and an array of model proportions (like the one you created in Question 1), returns the number of face cards in one simulation of drawing a card under the model specified in `model_proportions`. \n",
    "\n",
    "*Hint:* Think about how you can use the function `sample_proportions`. \n",
    "\n",
    "<!--\n",
    "BEGIN QUESTION\n",
    "name: q5_3\n",
    "manual: false\n",
    "-->"
   ]
  },
  {
   "cell_type": "code",
   "execution_count": 67,
   "metadata": {},
   "outputs": [],
   "source": [
    "def deck_simulation_and_statistic(sample_size, model_proportions):\n",
    "    ...\n",
    "\n",
    "deck_simulation_and_statistic(13, deck_model_probabilities)"
   ]
  },
  {
   "cell_type": "code",
   "execution_count": null,
   "metadata": {
    "deletable": false,
    "editable": false
   },
   "outputs": [],
   "source": [
    "grader.check(\"q5_3\")"
   ]
  },
  {
   "cell_type": "markdown",
   "metadata": {
    "deletable": false,
    "editable": false
   },
   "source": [
    "<span style=\"color:blue\"> **Question 4.0.4** </span> Use your function from above to simulate the drawing of 13 cards 5000 times under the proportions that you specified in Question 1. Keep track of all of your statistics in `deck_statistics`. \n",
    "\n",
    "<!--\n",
    "BEGIN QUESTION\n",
    "name: q5_4\n",
    "manual: false\n",
    "-->"
   ]
  },
  {
   "cell_type": "code",
   "execution_count": 69,
   "metadata": {},
   "outputs": [],
   "source": [
    "repetitions = 5000 \n",
    "...\n",
    "\n",
    "deck_statistics"
   ]
  },
  {
   "cell_type": "code",
   "execution_count": null,
   "metadata": {
    "deletable": false,
    "editable": false
   },
   "outputs": [],
   "source": [
    "grader.check(\"q5_4\")"
   ]
  },
  {
   "cell_type": "markdown",
   "metadata": {},
   "source": [
    "Let’s take a look at the distribution of simulated statistics."
   ]
  },
  {
   "cell_type": "code",
   "execution_count": 72,
   "metadata": {},
   "outputs": [],
   "source": [
    "#Draw a distribution of statistics \n",
    "Table().with_column('Deck Statistics', deck_statistics).hist()"
   ]
  },
  {
   "cell_type": "markdown",
   "metadata": {
    "deletable": false,
    "editable": false
   },
   "source": [
    "<!-- BEGIN QUESTION -->\n",
    "\n",
    "<span style=\"color:blue\"> **Question 4.0.5** </span> Given your observed value, do you believe that Jade's model is reasonable, or is our alternative more likely? Explain your answer using the distribution drawn in the previous problem. \n",
    "\n",
    "<!--\n",
    "BEGIN QUESTION\n",
    "name: q5_5\n",
    "manual: true\n",
    "-->"
   ]
  },
  {
   "cell_type": "markdown",
   "metadata": {},
   "source": [
    "_Type your answer here, replacing this text._"
   ]
  },
  {
   "cell_type": "markdown",
   "metadata": {
    "deletable": false,
    "editable": false
   },
   "source": [
    "<!-- END QUESTION -->"
   ]
  },
  {
   "cell_type": "code",
   "execution_count": null,
   "metadata": {},
   "outputs": [],
   "source": []
  },
  {
   "cell_type": "code",
   "execution_count": null,
   "metadata": {},
   "outputs": [],
   "source": []
  },
  {
   "cell_type": "markdown",
   "metadata": {},
   "source": [
    "Great job! You're finished with lab 7! Be sure to...\n",
    "\n",
    "* **run all the tests** (the next cell has a shortcut for that),\n",
    "* **Save and Checkpoint** from the File menu,\n",
    "* **run the last cell to submit your work**,\n",
    "* and **ask one of the staff members to check you off**."
   ]
  },
  {
   "cell_type": "markdown",
   "metadata": {},
   "source": [
    "This lab is altered from the original [Berkeley data-8 course](http://data8.org/), which is licensed under the [Creative Commons license](https://creativecommons.org/licenses/by-nc/4.0/)."
   ]
  },
  {
   "cell_type": "markdown",
   "metadata": {
    "deletable": false,
    "editable": false
   },
   "source": [
    "---\n",
    "\n",
    "To double-check your work, the cell below will rerun all of the autograder tests."
   ]
  },
  {
   "cell_type": "code",
   "execution_count": null,
   "metadata": {
    "deletable": false,
    "editable": false
   },
   "outputs": [],
   "source": [
    "grader.check_all()"
   ]
  },
  {
   "cell_type": "markdown",
   "metadata": {
    "deletable": false,
    "editable": false
   },
   "source": [
    "## Submission\n",
    "\n",
    "Make sure you have run all cells in your notebook in order before running the cell below, so that all images/graphs appear in the output. The cell below will generate a zip file for you to submit. **Please save before exporting!**"
   ]
  },
  {
   "cell_type": "code",
   "execution_count": null,
   "metadata": {
    "deletable": false,
    "editable": false
   },
   "outputs": [],
   "source": [
    "# Save your notebook first, then run this cell to export your submission.\n",
    "grader.export()"
   ]
  },
  {
   "cell_type": "markdown",
   "metadata": {},
   "source": [
    " "
   ]
  }
 ],
 "metadata": {
  "anaconda-cloud": {},
  "celltoolbar": "Edit Metadata",
  "interpreter": {
   "hash": "0bd445049c8493b666195d7f72fcc7eac8957aba25be925abdc1c16461fee215"
  },
  "kernelspec": {
   "display_name": "Python 3",
   "language": "python",
   "name": "python3"
  },
  "language_info": {
   "codemirror_mode": {
    "name": "ipython",
    "version": 3
   },
   "file_extension": ".py",
   "mimetype": "text/x-python",
   "name": "python",
   "nbconvert_exporter": "python",
   "pygments_lexer": "ipython3",
   "version": "3.8.10"
  }
 },
 "nbformat": 4,
 "nbformat_minor": 1
}
