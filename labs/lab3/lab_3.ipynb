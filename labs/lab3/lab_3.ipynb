{
 "cells": [
  {
   "cell_type": "code",
   "execution_count": null,
   "metadata": {
    "deletable": false,
    "editable": false
   },
   "outputs": [],
   "source": [
    "# Initialize Otter\n",
    "import otter\n",
    "grader = otter.Notebook(\"lab_3.ipynb\")"
   ]
  },
  {
   "cell_type": "markdown",
   "metadata": {},
   "source": [
    "# Lab 3: Visualizations"
   ]
  },
  {
   "cell_type": "markdown",
   "metadata": {},
   "source": [
    "Welcome to Lab 3! This week, let's get visual!\n",
    "\n",
    "**Today's lab:**\n",
    "In today's lab, you'll go over how to generate visualizations such as:\n",
    "* line plots \n",
    "* bar charts \n",
    "* scatter plots \n",
    "\n",
    "Recommended Reading:\n",
    "\n",
    "* [Visualizations](https://www.inferentialthinking.com/chapters/07/Visualization.html)\n",
    "\n",
    "Recommended Videos:\n",
    "* Working with Tables\n",
    "* Intro to Line Plots\n",
    "* Intro to Bar Charts\n",
    "* Intro to Scatter Plots\n",
    "* Categorical Distributions\n",
    "\n",
    "First, set up the notebook by running the cell below."
   ]
  },
  {
   "cell_type": "code",
   "execution_count": 3,
   "metadata": {},
   "outputs": [],
   "source": [
    "import numpy as np\n",
    "from datascience import *\n",
    "\n",
    "# These lines set up graphing capabilities.\n",
    "import matplotlib\n",
    "%matplotlib inline\n",
    "import matplotlib.pyplot as plt\n",
    "plt.style.use('fivethirtyeight')\n",
    "import warnings\n",
    "warnings.simplefilter('ignore', FutureWarning)\n",
    "\n"
   ]
  },
  {
   "cell_type": "markdown",
   "metadata": {},
   "source": [
    "## 1. Learning line plots\n",
    "\n",
    "We know that tables are super useful to help us organize, and in a basic sense, visualize our data neatly as well. That said, the more data we're working with, and the larger the table gets, the harder it can get to interpret and digest it all. So -- we turn to graphs, or visualizations, since a picture's worth a thousand words anyways. \n",
    "\n",
    "A line plot is the very first visualization we're going to learn how to create in our notebooks. They are one of the most commonly used graphs, typically used to observe patterns or trends through time. \n",
    "\n",
    "Now, we're gonna need some data to work with before we can even consider visualizing anything! Let's use some data from Statistics Canada, on the monthly new housing price index, which we have conveniently stored in `houses.csv`. Run the next cell to read it in, and we'll take a look:\t\t\t"
   ]
  },
  {
   "cell_type": "code",
   "execution_count": 4,
   "metadata": {},
   "outputs": [],
   "source": [
    "houses = Table.read_table('houses.csv')\n",
    "houses"
   ]
  },
  {
   "cell_type": "markdown",
   "metadata": {},
   "source": [
    "And quite easily, to create a line plot from any table, we can simply call the `plot` method on our table and specify which column will be our x axis. Run the next cell, and see what it spits out!"
   ]
  },
  {
   "cell_type": "code",
   "execution_count": 5,
   "metadata": {},
   "outputs": [],
   "source": [
    "houses.plot('New housing price indexes')"
   ]
  },
  {
   "cell_type": "markdown",
   "metadata": {},
   "source": [
    "Now that was pretty cool, and really easy to set up -- but we need to dig a little further. A big part of data science is understanding your data. We executed the `plot` method and it didn't have an error. Does this mean this is a useful representation of the data though? While it might look offcial and cool, there are actually a number of problems with this representation. \n",
    "1. The x axis is unreadable\n",
    "2. The 3 different things being graphed can't really be differentiated\n",
    "3. It's not right! Why is the data so periodic? A quick glance at the top 12 entries doesn't show this skyrocketing value.\n",
    "\n",
    "The reason for this periodic pattern is that it organized all of our strings like words in a dictionary. So 'Jan 2000' and 'Jan 2001' will be right beside each other. There are other ways to fix this, but we have another file that might skirt the issue.\n",
    "\n",
    "Try this again but use the data file \"houses_index.csv\". An index column has been added, to patch this all up. "
   ]
  },
  {
   "cell_type": "code",
   "execution_count": 6,
   "metadata": {},
   "outputs": [],
   "source": [
    "houses_index = Table.read_table('houses_index.csv')\n",
    "houses_index"
   ]
  },
  {
   "cell_type": "markdown",
   "metadata": {},
   "source": [
    "Now we have an index row. If we create our plot by this new index column, we won't get that same periodic problem. Check it out:"
   ]
  },
  {
   "cell_type": "code",
   "execution_count": 7,
   "metadata": {},
   "outputs": [],
   "source": [
    "houses_index.plot('index')"
   ]
  },
  {
   "cell_type": "markdown",
   "metadata": {},
   "source": [
    "Hold on... but with that we get an error! \n",
    "\n",
    "<span style=\"color:blue\">**Question 1.0.1**</span> Try using one of the methods from last week to get rid of the column causing the problem, and use it to create a new table stored in the variable `new_houses_index`.\n",
    "\n",
    "*Hint: read the error that Python gives you -- it might let you know which particular column that it doesn't like. Since we have this handy index column now, it makes sense to get rid of this one!"
   ]
  },
  {
   "cell_type": "code",
   "execution_count": 10,
   "metadata": {},
   "outputs": [],
   "source": [
    "new_houses_index = ..."
   ]
  },
  {
   "cell_type": "code",
   "execution_count": null,
   "metadata": {
    "deletable": false,
    "editable": false
   },
   "outputs": [],
   "source": [
    "grader.check(\"q11\")"
   ]
  },
  {
   "cell_type": "markdown",
   "metadata": {},
   "source": [
    "Now, let's plot it, and see what happens:"
   ]
  },
  {
   "cell_type": "code",
   "execution_count": 12,
   "metadata": {},
   "outputs": [],
   "source": [
    "new_houses_index.plot('index')"
   ]
  },
  {
   "cell_type": "markdown",
   "metadata": {
    "deletable": false,
    "editable": false
   },
   "source": [
    "This looks much more reasonable. In the process, it has also tidied up our x-axis. Although, it is not nearly as informative as it was (if we had been able to read it). What does index of 150 mean to us? \n",
    "\n",
    "<span style=\"color:blue\">**Question 1.0.2**</span> Using the `np.arange()` that we saw last week and the table's `take()` can you select every 36th row so that we only have the entries of a January every 3 years. Use the 'New housing price indexes' column again so that we have a more informative x-axis.\n",
    "\n",
    "Perform your operation on the original `houses` table, and store the new table in the variable `nice_houses`.\n",
    "<!--\n",
    "BEGIN QUESTION\n",
    "name: q12\n",
    "-->"
   ]
  },
  {
   "cell_type": "code",
   "execution_count": 13,
   "metadata": {},
   "outputs": [],
   "source": [
    "# houses.take(...)\n",
    "nice_houses = ..."
   ]
  },
  {
   "cell_type": "code",
   "execution_count": null,
   "metadata": {
    "deletable": false,
    "editable": false
   },
   "outputs": [],
   "source": [
    "grader.check(\"q12\")"
   ]
  },
  {
   "cell_type": "code",
   "execution_count": 15,
   "metadata": {},
   "outputs": [],
   "source": [
    "nice_houses.plot('New housing price indexes')"
   ]
  },
  {
   "cell_type": "markdown",
   "metadata": {},
   "source": [
    "Now that's a graph we can understand much better, and arguably it's much easier to see the trend in the data over simply inspecting the values in the table. "
   ]
  },
  {
   "cell_type": "markdown",
   "metadata": {},
   "source": [
    "## 2. Baking up bar charts\n",
    "Another way to visualize data is with a bar chart. It doesn't have the same time-progression on the x-axis, so we would need to think about our data differently. That being said, not all types of graphs are always useful for your data. The line graph was especially nice to see how the housing indexes changed over time. \n",
    "\n",
    "From the videos and the textbook, we can gather that bar charts are most useful for visualizing categories in some way -- either by visualizing numeric variables, or better yet, for categorical distributions, to count how many times some *thing* lies within a given category. Regardless, on a bar chart, we get a bar for each category of data, and all of the bars are equally space and equally wide, with the length of the bar indicative of the frequency of the given category. Let's deal with the first kind, first.\n",
    "\n",
    "Since we don't really have any categorical data to work with in our housing data set, let's switch gears to a new one - how about on the sales of some popular video games? Run the next cell to read it in:"
   ]
  },
  {
   "cell_type": "code",
   "execution_count": 16,
   "metadata": {},
   "outputs": [],
   "source": [
    "video_games = Table.read_table('vgsales.csv')"
   ]
  },
  {
   "cell_type": "markdown",
   "metadata": {
    "deletable": false,
    "editable": false
   },
   "source": [
    "Wow, now that's a huge table! We don't need to work with all the information they give us there... so how about let's keep only the `Rank`, `Name`, `Platform`, `Year`, `Genre`, `Publisher`, and `Global_Sales` columns. \n",
    "\n",
    "<span style=\"color:blue\">**Question 2.0.1**</span> Drop all the rest of the columns, and save that new table into a variable named `simple_video_games`, in the next cell.\n",
    "\n",
    "*Hint: can you do this all in one function call, just with multiple arguments?*\n",
    "\n",
    "<!--\n",
    "BEGIN QUESTION\n",
    "name: q21\n",
    "-->"
   ]
  },
  {
   "cell_type": "code",
   "execution_count": 17,
   "metadata": {},
   "outputs": [],
   "source": [
    "simple_video_games = ..."
   ]
  },
  {
   "cell_type": "code",
   "execution_count": null,
   "metadata": {
    "deletable": false,
    "editable": false
   },
   "outputs": [],
   "source": [
    "grader.check(\"q21\")"
   ]
  },
  {
   "cell_type": "markdown",
   "metadata": {
    "deletable": false,
    "editable": false
   },
   "source": [
    "<span style=\"color:blue\">**Question 2.0.2**</span> Now, we very clearly have some categorical data to work with in this table. Let's juxtapose the global sales of the 20 most popular video games. Before we go ahead and graph, let's create a new `top20_games` table to hold just the entries for said 20 video games.\n",
    "\n",
    "*Hint: refer back to the Intro to Bar Charts video... there's two functions that will come in handy for exactly this!*\n",
    "\n",
    "<!--\n",
    "BEGIN QUESTION\n",
    "name: q22\n",
    "-->"
   ]
  },
  {
   "cell_type": "code",
   "execution_count": 19,
   "metadata": {},
   "outputs": [],
   "source": [
    "top20_games = ..."
   ]
  },
  {
   "cell_type": "code",
   "execution_count": null,
   "metadata": {
    "deletable": false,
    "editable": false
   },
   "outputs": [],
   "source": [
    "grader.check(\"q22\")"
   ]
  },
  {
   "cell_type": "markdown",
   "metadata": {},
   "source": [
    "Now, it's as easy as using the `barh` method on the table in question. The first argument is the column label of the categories, and the second is the column label of the frequencies:"
   ]
  },
  {
   "cell_type": "code",
   "execution_count": 22,
   "metadata": {},
   "outputs": [],
   "source": [
    "top20_games.barh(\"Name\", \"Global_Sales\")"
   ]
  },
  {
   "cell_type": "markdown",
   "metadata": {
    "deletable": false,
    "editable": false
   },
   "source": [
    "I think I still have an old copy of Wii Sports lying around in my basement somewheres... maybe once I'm done this assignment, I'll go bowling. \n",
    "\n",
    "I'm still a little curious though... I wonder what the global sales of the 20 least popular games in this data set looks like! \n",
    "\n",
    "<span style=\"color:blue\">**Question 2.0.3**</span> Save the 20 least popular games in this data set into the variable `bottom20_games`. Your process should be very similar to the prior question... I'm positive you'll be able to **sort** it out. Use the `Rank` column in consideration of popularity.\n",
    "\n",
    "<!--\n",
    "BEGIN QUESTION\n",
    "name: q23\n",
    "-->"
   ]
  },
  {
   "cell_type": "code",
   "execution_count": 23,
   "metadata": {},
   "outputs": [],
   "source": [
    "simple_video_games = ...\n",
    "bottom20_games = ..."
   ]
  },
  {
   "cell_type": "code",
   "execution_count": null,
   "metadata": {
    "deletable": false,
    "editable": false
   },
   "outputs": [],
   "source": [
    "grader.check(\"q23\")"
   ]
  },
  {
   "cell_type": "code",
   "execution_count": 26,
   "metadata": {},
   "outputs": [],
   "source": [
    "bottom20_games.barh(\"Name\", \"Global_Sales\")"
   ]
  },
  {
   "cell_type": "markdown",
   "metadata": {},
   "source": [
    "It seems as if for the titles with such low sales, values were rounded to 0.01 million. Thus, this renders our bar chart kind of pointless -- however it's important to understand that sometimes, our data set isn't absolutely perfect, and this is all part of the process. We'll touch more on this later this semester."
   ]
  },
  {
   "cell_type": "markdown",
   "metadata": {},
   "source": [
    "## 3. Crafting categorical distributions\n",
    "Now quite often, data isn't always measured in some sort of numerical variable, and we can even see this with our video game data set. Take the `Platform` column for example: we have values like `Wii` and `PS4` there, and we can't plot that on a graph inherently! So, like we mentioned before, if we first count how many times some *thing* lies within a given category, then we've got some numbers we can work with, that would fit great on a bar chart. The creation of these tallies that keep track of how many things are in each category, is called a distribution table. Let's make one!"
   ]
  },
  {
   "cell_type": "markdown",
   "metadata": {
    "deletable": false,
    "editable": false
   },
   "source": [
    "<span style=\"color:blue\">**Question 3.0.1**</span> There's a super handy method we can use to create a **distribution table**, showing the values of a variable, along with the frequency of each one. Use this method on our original `video_games` table to create a distribution table on the `Platform` column, saved into variable named `platform_distribution`. Leave the column name as `count`.\n",
    "\n",
    "*Hint: take a look back at the Categorical Distributions video!*\n",
    "\n",
    "<!--\n",
    "BEGIN QUESTION\n",
    "name: q31\n",
    "-->"
   ]
  },
  {
   "cell_type": "code",
   "execution_count": 27,
   "metadata": {},
   "outputs": [],
   "source": [
    "platform_distribution = ..."
   ]
  },
  {
   "cell_type": "code",
   "execution_count": null,
   "metadata": {
    "deletable": false,
    "editable": false
   },
   "outputs": [],
   "source": [
    "grader.check(\"q31\")"
   ]
  },
  {
   "cell_type": "markdown",
   "metadata": {
    "deletable": false,
    "editable": false
   },
   "source": [
    "<span style=\"color:blue\">**Question 3.0.2**</span> Let's plot this data in a number of different horizontal bar charts:\n",
    "1. Plot the bottom 25% only (save the table in `smallest_platform`)\n",
    "2. Plot the top 25% only (save the table in `biggest_platform`)\n",
    "3. Plot the middle 50% (exclude the bottom and top 25%) (save the table in `mid_platform`)\n",
    "\n",
    "*Hint* It might be helpful to find how large the dataset is, and where the 25% cutoff would be\n",
    "<!--\n",
    "BEGIN QUESTION\n",
    "name: q32\n",
    "-->"
   ]
  },
  {
   "cell_type": "code",
   "execution_count": 50,
   "metadata": {},
   "outputs": [],
   "source": [
    "biggest_platform = ...\n",
    "smallest_platform = ...\n",
    "mid_platform = ..."
   ]
  },
  {
   "cell_type": "code",
   "execution_count": null,
   "metadata": {
    "deletable": false,
    "editable": false
   },
   "outputs": [],
   "source": [
    "grader.check(\"q32\")"
   ]
  },
  {
   "cell_type": "markdown",
   "metadata": {},
   "source": [
    "## 4. Starting scatter plots\n",
    "The difference now, between scatter plots and the other graphs we've seen, is that a scatter plot displays the *relationship* between two numerical variables. When we create a scatter plot, each point represents a row on a given table we've plotted. It would be really interesting to see the relationship between a given video game platform's global game sales, and the amount of games available on the platform! Let's get started on that"
   ]
  },
  {
   "cell_type": "markdown",
   "metadata": {
    "deletable": false,
    "editable": false
   },
   "source": [
    "<span style=\"color:blue\">**Question 4.0.1**</span> Use the `with_column()` method to tack onto the `platform_distribution` table a column containing the total global sales for each game on that platform. You might find it easier to create a separate table for global sales first, and steal the column from that, to tack onto the `platform_distribution` table thereafter. Also, name the column the same title that gets autogenerated for you!\n",
    "\n",
    "<!--\n",
    "BEGIN QUESTION\n",
    "name: q41\n",
    "-->"
   ]
  },
  {
   "cell_type": "code",
   "execution_count": 61,
   "metadata": {},
   "outputs": [],
   "source": [
    "\n",
    "sales_by_platform = ...\n",
    "platform_distribution = ..."
   ]
  },
  {
   "cell_type": "code",
   "execution_count": null,
   "metadata": {
    "deletable": false,
    "editable": false
   },
   "outputs": [],
   "source": [
    "grader.check(\"q41\")"
   ]
  },
  {
   "cell_type": "markdown",
   "metadata": {},
   "source": [
    "And to simply draw a scatter plot, use the `scatter` method on the table, with the first argument the label of the column for the horizontal axis, and the second argument the label of the column for the vertical axis:"
   ]
  },
  {
   "cell_type": "code",
   "execution_count": 60,
   "metadata": {},
   "outputs": [],
   "source": [
    "platform_distribution.scatter('count', 'Global_Sales sum')"
   ]
  },
  {
   "cell_type": "markdown",
   "metadata": {
    "deletable": false,
    "editable": false
   },
   "source": [
    "<!-- BEGIN QUESTION -->\n",
    "\n",
    "Now this is kind of neat, but remember, does this mean this is a useful representation of the data? We've got these points, but at first glance, have no clue which is which. What if it told us? Consult documentation to find a parameter to add labels!\n",
    "\n",
    "<span style=\"color:blue\">**Question 4.0.2**</span> Add labels to the plots!\n",
    "<!--\n",
    "BEGIN QUESTION\n",
    "name: q42\n",
    "manual: True\n",
    "-->"
   ]
  },
  {
   "cell_type": "code",
   "execution_count": 28,
   "metadata": {},
   "outputs": [],
   "source": [
    "..."
   ]
  },
  {
   "cell_type": "markdown",
   "metadata": {},
   "source": [
    "<!-- END QUESTION -->\n",
    "\n",
    "\n",
    "\n",
    "### Great job! You're finished! Be sure to...\n",
    "\n",
    "* **run all the tests** (the next cell has a shortcut for that),\n",
    "* **Save and Checkpoint** from the File menu,\n",
    "* **run the last cell to submit your work**,"
   ]
  },
  {
   "cell_type": "markdown",
   "metadata": {},
   "source": [
    "Credits:\n",
    "\n",
    "Data from Statistics Canada. Table 18-10-0205-01 New housing price index, monthly\t\t\t\n",
    "https://www150.statcan.gc.ca/t1/tbl1/en/tv.action?pid=1810020501\n",
    "\n",
    "This lab is altered from the original [Berkeley data-8 course](http://data8.org/), which is licensed under the [Creative Commons license](https://creativecommons.org/licenses/by-nc/4.0/)."
   ]
  },
  {
   "cell_type": "markdown",
   "metadata": {
    "deletable": false,
    "editable": false
   },
   "source": [
    "---\n",
    "\n",
    "To double-check your work, the cell below will rerun all of the autograder tests."
   ]
  },
  {
   "cell_type": "code",
   "execution_count": null,
   "metadata": {
    "deletable": false,
    "editable": false
   },
   "outputs": [],
   "source": [
    "grader.check_all()"
   ]
  },
  {
   "cell_type": "markdown",
   "metadata": {
    "deletable": false,
    "editable": false
   },
   "source": [
    "## Submission\n",
    "\n",
    "Make sure you have run all cells in your notebook in order before running the cell below, so that all images/graphs appear in the output. The cell below will generate a zip file for you to submit. **Please save before exporting!**\n",
    "\n",
    "Be sure to run the tests and verify that they all pass. **Just because the tests pass does not mean it's the right answer**, the tests will sometimes give a hint or notify you if you missed a question. Then choose **Save and Checkpoint** from the **File** menu, then run the final cell to create the .zip file.\n",
    "**The .zip file is what you will hand in on eclass.**"
   ]
  },
  {
   "cell_type": "code",
   "execution_count": null,
   "metadata": {
    "deletable": false,
    "editable": false
   },
   "outputs": [],
   "source": [
    "# Save your notebook first, then run this cell to export your submission.\n",
    "grader.export()"
   ]
  },
  {
   "cell_type": "markdown",
   "metadata": {},
   "source": [
    " "
   ]
  }
 ],
 "metadata": {
  "anaconda-cloud": {},
  "celltoolbar": "Edit Metadata",
  "interpreter": {
   "hash": "6f212bfc93ca8b9d195480b6b084b5735ab4a7f9db6afcad004202c68582b85f"
  },
  "kernelspec": {
   "display_name": "Python 3",
   "language": "python",
   "name": "python3"
  },
  "language_info": {
   "codemirror_mode": {
    "name": "ipython",
    "version": 3
   },
   "file_extension": ".py",
   "mimetype": "text/x-python",
   "name": "python",
   "nbconvert_exporter": "python",
   "pygments_lexer": "ipython3",
   "version": "3.8.10"
  }
 },
 "nbformat": 4,
 "nbformat_minor": 1
}
